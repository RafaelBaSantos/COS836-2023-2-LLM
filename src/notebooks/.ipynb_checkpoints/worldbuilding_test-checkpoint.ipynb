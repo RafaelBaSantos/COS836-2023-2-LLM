{
 "cells": [
  {
   "cell_type": "code",
   "execution_count": 1,
   "id": "432ae3d5-4749-4c94-92d8-9c91cb35d4b0",
   "metadata": {},
   "outputs": [],
   "source": [
    "from dotenv import load_dotenv\n",
    "import os\n",
    "\n",
    "from langchain.chat_models import ChatOpenAI\n",
    "from langchain.schema import AIMessage, HumanMessage, SystemMessage"
   ]
  },
  {
   "cell_type": "code",
   "execution_count": 2,
   "id": "3542daa2-9658-4e09-9da5-52273317b8ca",
   "metadata": {},
   "outputs": [],
   "source": [
    "load_dotenv(r'E:\\Documentos\\Estudos\\UFRJ_PESC\\3_periodo\\llm\\projeto final\\COS836-2023-2-LLM\\src\\utils\\openai_api_key.env')  # take environment variables from .env.\n",
    "OPENAI_API_KEY = os.getenv('OPENAI_API_KEY')"
   ]
  },
  {
   "cell_type": "code",
   "execution_count": 3,
   "id": "c8980bc0-e32f-4413-a51c-9c65c39515fc",
   "metadata": {},
   "outputs": [],
   "source": [
    "api_world = ChatOpenAI(openai_api_key=OPENAI_API_KEY, model_name=\"gpt-3.5-turbo\", temperature=0.9)\n",
    "api_cypher = ChatOpenAI(openai_api_key=OPENAI_API_KEY, model_name=\"gpt-3.5-turbo\", temperature=0)"
   ]
  },
  {
   "cell_type": "code",
   "execution_count": 4,
   "id": "3de6eed9-084f-4409-a616-74fc370e9b43",
   "metadata": {},
   "outputs": [
    {
     "name": "stdout",
     "output_type": "stream",
     "text": [
      "Você é um escritor profissional fazendo o worldbuilding e um mundo de RPG.\n",
      "\n",
      "Cada lugar e organização que você criar deve ter um nome específico e uma descrição curta.\n",
      "\n",
      "Você deve considerar os seguintes aspectos, mas nunca falar sobre eles diretamente:\n",
      "1. O gênero é ficção;\n",
      "2. O mundo parece místico;\n",
      "3. O tom da história é leve;\n",
      "4. O mundo tem masmorras e dragões como temas recorrentes;\n",
      "5. O nível de tecnologia é medieval,\n",
      "6. O nível de magia é raro,\n",
      "7. A atmosfera é inspiradora\n",
      "\n"
     ]
    }
   ],
   "source": [
    "prompt_system_world = \"\"\"Você é um escritor profissional fazendo o worldbuilding e um mundo de RPG.\n",
    "\n",
    "Cada lugar e organização que você criar deve ter um nome específico e uma descrição curta.\n",
    "\n",
    "Você deve considerar os seguintes aspectos, mas nunca falar sobre eles diretamente:\n",
    "1. O gênero é ficção;\n",
    "2. O mundo parece místico;\n",
    "3. O tom da história é leve;\n",
    "4. O mundo tem masmorras e dragões como temas recorrentes;\n",
    "5. O nível de tecnologia é medieval,\n",
    "6. O nível de magia é raro,\n",
    "7. A atmosfera é inspiradora\n",
    "\"\"\"\n",
    "\n",
    "print(prompt_system_world)"
   ]
  },
  {
   "cell_type": "code",
   "execution_count": 5,
   "id": "370c40da-b914-498f-b89d-3f69b6522b22",
   "metadata": {},
   "outputs": [
    {
     "name": "stdout",
     "output_type": "stream",
     "text": [
      "Crie um mundo original e envolvente. Escreva 15 parágrafos na estrutura de uma história de ficção. O mundo deve ter 5 pontos de drama. Pontos de drama são os assuntos atuais do mundo - o que está acontecendo no momento.Exemplos de assuntos do mundo que podem ser explorados são: Influência do governo; Estado de direito; Serviços sociais; Força econômica; Distribuição de riqueza; Agricultura e comércio; Relações entre pessoas ditadas por características raciais, de classe de gênero ou de orientação sexual; Influência militar; Influência religiosa; Influência tecnológica; Influência das artes e da cultura; Geografia; A influência de diferentes civilizações e culturas no mundo, incluindo sua história, conflitos e política; Leis da natureza; A origem do universo; Quais espécies/culturas já viveram aqui; O que as espécies/culturas precisam e as relações entre elas.\n"
     ]
    }
   ],
   "source": [
    "# lugar, objeto. 3. O nível de agência dos personagens principais é alto; Inclua uma série de personagens diversos que sirvam como mentores aliados ou inimigos.\n",
    "\n",
    "prompt_user_world = \"Crie um mundo original e envolvente. Escreva 15 parágrafos na estrutura de uma história de ficção. \" \\\n",
    "                    \"O mundo deve ter 5 pontos de drama. Pontos de drama são os assuntos atuais do mundo - o que está acontecendo no momento. \" \\\n",
    "                    \"Exemplos de assuntos do mundo que podem ser explorados são: \" \\\n",
    "                    \"Influência do governo; Estado de direito; Serviços sociais; Força econômica; Distribuição de riqueza; \" \\\n",
    "                    \"Agricultura e comércio; Relações entre pessoas ditadas por características raciais, de classe de gênero ou de orientação sexual; \"\\\n",
    "                    \"Influência militar; Influência religiosa; Influência tecnológica; Influência das artes e da cultura; Geografia; \" \\\n",
    "                    \"A influência de diferentes civilizações e culturas no mundo, incluindo sua história, conflitos e política; \" \\\n",
    "                    \"Leis da natureza; A origem do universo; Quais espécies/culturas já viveram aqui; \" \\\n",
    "                    \"O que as espécies/culturas precisam e as relações entre elas.\"\n",
    "\n",
    "print(prompt_user_world)"
   ]
  },
  {
   "cell_type": "code",
   "execution_count": null,
   "id": "b66c644b-f27a-48d1-bdd8-a330950c2db6",
   "metadata": {},
   "outputs": [],
   "source": []
  },
  {
   "cell_type": "code",
   "execution_count": null,
   "id": "d81dce1f-4940-47f9-a23a-c21254129726",
   "metadata": {},
   "outputs": [],
   "source": [
    "world = api_world.predict_messages([SystemMessage(content=prompt_system_world), HumanMessage(content=prompt_user_world)])"
   ]
  },
  {
   "cell_type": "code",
   "execution_count": 5,
   "id": "f1845fb3-b5ac-4afc-a9e2-083cb86c4778",
   "metadata": {
    "scrolled": true
   },
   "outputs": [
    {
     "name": "stdout",
     "output_type": "stream",
     "text": [
      "Era uma vez, em um mundo místico conhecido como Eldoria, onde dragões e magia eram partes intrínsecas da vida cotidiana. Neste reino encantado, os heróis surgiam de tempos em tempos para enfrentar os desafios que ameaçavam a paz. Entre esses heróis estavam:\n",
      "\n",
      "1. Arianth, uma guerreira valente de cabelos prateados que dominava a arte da espada. Ela carregava consigo uma armadura lendária, forjada nas profundezas de uma masmorra esquecida.\n",
      "\n",
      "2. Lirael, uma maga dotada de poderes arcanos. Seu cajado de cristal irradiava uma luz mágica, capaz de curar e proteger aqueles que a cercavam.\n",
      "\n",
      "3. Thalir, um ladino astuto que dominava a arte da furtividade. Ele possuía uma adaga encantada, capaz de atravessar as defesas mais robustas.\n",
      "\n",
      "4. Lyra, uma druida com um espírito conectado à natureza. Seu toque era capaz de acalmar as feras mais selvagens e revitalizar a flora em momentos de desespero.\n",
      "\n",
      "5. Magnus, um sábio ancião que dedicara sua vida ao estudo das antigas profecias. Sua sabedoria era inigualável, e suas palavras eram ouvidas com reverência por todos.\n",
      "\n",
      "Enquanto esses heróis lutavam contra as forças das trevas, o mundo de Eldoria enfrentava pontos de drama que ameaçavam sua harmonia:\n",
      "\n",
      "1. A influência crescente do governo autoritário, que buscava controlar os cidadãos e restringir sua liberdade.\n",
      "\n",
      "2. A desigualdade na distribuição de riqueza, onde somente os privilegiados prosperavam, deixando os menos afortunados em condições precárias.\n",
      "\n",
      "3. A influência militar, que buscava dominar terras e subjugar povos indefesos em busca de poder.\n",
      "\n",
      "4. A busca incessante por conhecimento, onde diferentes culturas e civilizações rivalizavam na tentativa de desvendar os segredos da magia e dos dragões.\n",
      "\n",
      "5. A relação complexa entre as raças e culturas, onde preconceitos e estereótipos criavam divisões que precisavam ser superadas.\n",
      "\n",
      "Em meio a esses desafios, os heróis de Eldoria se uniram para enfrentar as ameaças e restaurar a paz. Com coragem, sabedoria e poder, eles buscaram a resolução dos pontos de drama, inspirando a todos com sua determinação e mostrando que, mesmo em um mundo repleto de masmorras e dragões, a esperança prevalece.\n"
     ]
    }
   ],
   "source": [
    "print(world.content)"
   ]
  },
  {
   "cell_type": "code",
   "execution_count": 10,
   "id": "b9d9f720-480f-477f-8cee-bad041c5d415",
   "metadata": {},
   "outputs": [],
   "source": [
    "prompt_system_cypher = \"Você é um programador profissional que lê uma história e escreve uma consulta Cypher para o banco de dados Neo4j, \" \\\n",
    "                       \"usando o Neo4j Python Driver. Todos os personagens, lugares, objetos e organizações presentes no tento \" \\\n",
    "                       \"devem ser representados como vértices (nodes). \" \\\n",
    "                       \"Os nodes podem ter somente os labels 'Personagem', 'Lugar', 'Objeto', e 'Organização'. Os nós devem ter as propriedades \" \\\n",
    "                       \"'nome' e 'descrição'. Os relacionamentos entre eles devem ser representados como arestas (edges). Você nunca explica seu código.\"\n",
    "\n",
    "example_system_cypher = \"No reino de Myrkvia, onde os raios do sol parecem dançar entre as folhagens densas das florestas encantadas, \" \\\n",
    "                        \"vive a valente guerreira Elysia. Com sua empunhadura de espada impecável e olhar de determinação, ela atravessa \" \\\n",
    "                        \"as terras em busca de uma antiga relíquia, a Lâmina de Luz, capaz de derrotar as forças das trevas que ameaçam o reino.\"\n",
    "\n",
    "answer_system_cypher = \"\"\"CREATE (Elysia:Personagem {nome: 'Elysia', descrição: 'Valente guerreira com uma empunhadura de espada impecável e olhar de determinação'})\n",
    "CREATE (Myrkvia:Lugar {nome: 'Myrkvia', descrição: 'Reino onde os raios do sol parecem dançar entre as folhagens densas das florestas encantadas'})\n",
    "CREATE (LâminaDeLuz:Objeto {nome: 'Lâmina de Luz', descrição: 'Antiga relíquia capaz de derrotar as forças das trevas'})\n",
    "CREATE (Elysia)-[:ESTÁ_EM]->(Myrkvia)\n",
    "CREATE (Elysia)-[:BUSCA]->(LâminaDeLuz)\"\"\"\n",
    "\n",
    "cypher = api_cypher.predict_messages([SystemMessage(content=prompt_system_cypher),\n",
    "                                      HumanMessage(content=example_system_cypher),\n",
    "                                      AIMessage(content=answer_system_cypher),\n",
    "                                      HumanMessage(content=world.content)])"
   ]
  },
  {
   "cell_type": "code",
   "execution_count": 29,
   "id": "cec71957-69d1-4a75-bec4-6d6a87dc6329",
   "metadata": {},
   "outputs": [
    {
     "name": "stdout",
     "output_type": "stream",
     "text": [
      "CREATE (Elysia:Personagem {nome: 'Elysia', descrição: 'Valente guerreira com uma empunhadura de espada impecável e olhar de determinação'})\n",
      "CREATE (Myrkvia:Lugar {nome: 'Myrkvia', descrição: 'Reino onde os raios do sol parecem dançar entre as folhagens densas das florestas encantadas'})\n",
      "CREATE (LâminaDeLuz:Objeto {nome: 'Lâmina de Luz', descrição: 'Antiga relíquia capaz de derrotar as forças das trevas'})\n",
      "CREATE (Elysia)-[:ESTÁ_EM]->(Myrkvia)\n",
      "CREATE (Elysia)-[:BUSCA]->(LâminaDeLuz)\n"
     ]
    }
   ],
   "source": [
    "print(answer_system_cypher)"
   ]
  },
  {
   "cell_type": "code",
   "execution_count": 11,
   "id": "6e7a16a9-af88-4094-a279-58459d703281",
   "metadata": {},
   "outputs": [
    {
     "name": "stdout",
     "output_type": "stream",
     "text": [
      "CREATE (Arianth:Personagem {nome: 'Arianth', descrição: 'Guerreira valente de cabelos prateados que domina a arte da espada'})\n",
      "CREATE (Lirael:Personagem {nome: 'Lirael', descrição: 'Maga dotada de poderes arcanos, com um cajado de cristal que irradia uma luz mágica'})\n",
      "CREATE (Thalir:Personagem {nome: 'Thalir', descrição: 'Ladino astuto que domina a arte da furtividade, com uma adaga encantada'})\n",
      "CREATE (Lyra:Personagem {nome: 'Lyra', descrição: 'Druida com um espírito conectado à natureza, capaz de acalmar feras e revitalizar a flora'})\n",
      "CREATE (Magnus:Personagem {nome: 'Magnus', descrição: 'Sábio ancião dedicado ao estudo das antigas profecias, com sabedoria inigualável'})\n",
      "\n",
      "CREATE (Eldoria:Lugar {nome: 'Eldoria', descrição: 'Mundo místico onde dragões e magia são partes intrínsecas da vida cotidiana'})\n",
      "CREATE (Masmorra:Lugar {nome: 'Masmorra', descrição: 'Profundezas de uma masmorra esquecida'})\n",
      "CREATE (Governo:Organização {nome: 'Governo Autoritário', descrição: 'Influência crescente que busca controlar os cidadãos e restringir sua liberdade'})\n",
      "CREATE (Desigualdade:Organização {nome: 'Desigualdade na Distribuição de Riqueza', descrição: 'Situação onde somente os privilegiados prosperam, deixando os menos afortunados em condições precárias'})\n",
      "CREATE (Militar:Organização {nome: 'Influência Militar', descrição: 'Busca dominar terras e subjugar povos indefesos em busca de poder'})\n",
      "CREATE (Conhecimento:Organização {nome: 'Busca por Conhecimento', descrição: 'Rivalidade entre diferentes culturas e civilizações na tentativa de desvendar os segredos da magia e dos dragões'})\n",
      "CREATE (Relações:Organização {nome: 'Relações Complexas entre Raças e Culturas', descrição: 'Preconceitos e estereótipos que criam divisões que precisam ser superadas'})\n",
      "\n",
      "CREATE (Arianth)-[:ESTÁ_EM]->(Eldoria)\n",
      "CREATE (Arianth)-[:POSSUI]->(Masmorra)\n",
      "CREATE (Lirael)-[:ESTÁ_EM]->(Eldoria)\n",
      "CREATE (Thalir)-[:ESTÁ_EM]->(Eldoria)\n",
      "CREATE (Lyra)-[:ESTÁ_EM]->(Eldoria)\n",
      "CREATE (Magnus)-[:ESTÁ_EM]->(Eldoria)\n",
      "\n",
      "CREATE (Arianth)-[:POSSUI]->(Governo)\n",
      "CREATE (Arianth)-[:POSSUI]->(Desigualdade)\n",
      "CREATE (Lirael)-[:POSSUI]->(Governo)\n",
      "CREATE (Lirael)-[:POSSUI]->(Desigualdade)\n",
      "CREATE (Thalir)-[:POSSUI]->(Governo)\n",
      "CREATE (Thalir)-[:POSSUI]->(Militar)\n",
      "CREATE (Lyra)-[:POSSUI]->(Governo)\n",
      "CREATE (Lyra)-[:POSSUI]->(Relações)\n",
      "CREATE (Magnus)-[:POSSUI]->(Conhecimento)\n",
      "CREATE (Magnus)-[:POSSUI]->(Relações)\n"
     ]
    }
   ],
   "source": [
    "print(cypher.content)"
   ]
  },
  {
   "cell_type": "markdown",
   "id": "b9efcb02-ca2e-4f9f-b451-d011fb4ab813",
   "metadata": {},
   "source": [
    "# Testing on Neo4j"
   ]
  },
  {
   "cell_type": "code",
   "execution_count": 30,
   "id": "3b830c0d-2e69-47a8-9004-8bb05e01d2a9",
   "metadata": {},
   "outputs": [],
   "source": [
    "from neo4j import GraphDatabase\n",
    "\n",
    "# Connect to the Neo4j database\n",
    "uri = \"bolt://localhost:7687\"\n",
    "username = \"neo4j\"\n",
    "password = \"12345678\"\n",
    "driver = GraphDatabase.driver(uri, auth=(username, password))"
   ]
  },
  {
   "cell_type": "code",
   "execution_count": 31,
   "id": "413d0496-ef5c-428d-a905-f3dba60f0368",
   "metadata": {},
   "outputs": [
    {
     "name": "stderr",
     "output_type": "stream",
     "text": [
      "C:\\Users\\rafae\\AppData\\Local\\Temp\\ipykernel_35572\\1445805520.py:5: DeprecationWarning: write_transaction has been renamed to execute_write\n",
      "  session.write_transaction(wipe_database)\n"
     ]
    }
   ],
   "source": [
    "def wipe_database(tx):\n",
    "    tx.run(\"MATCH (n) DETACH DELETE n\")\n",
    "\n",
    "with driver.session() as session:\n",
    "    session.write_transaction(wipe_database)"
   ]
  },
  {
   "cell_type": "code",
   "execution_count": 33,
   "id": "cbc0cb61-7ce0-42f9-81cd-7ec18ffe0f95",
   "metadata": {},
   "outputs": [],
   "source": [
    "query = \"\"\"CREATE (Aradim:Lugar {nome: 'Aradim', descrição: 'Mundo onde a magia é rara, mas sua influência está em todos os cantos'})\n",
    "CREATE (OrdemDosSábios:Organização {nome: 'Ordem dos Sábios', descrição: 'Protetores dos conhecimentos místicos e dos artefatos antigos'})\n",
    "CREATE (Eldara:Cidade {nome: 'Eldara', descrição: 'Cidade conhecida como o coração do conhecimento'})\n",
    "CREATE (Melchior:Personagem {nome: 'Melchior', descrição: 'Líder sábio e misterioso da Ordem dos Sábios'})\n",
    "CREATE (FlorestaNimmel:Lugar {nome: 'Floresta de Nimmel', descrição: 'Lar da tribo dos Elfos Lunares'})\n",
    "CREATE (TriboElfosLunares:Organização {nome: 'Tribo dos Elfos Lunares', descrição: 'Liderada pela Bruxa da Lua, Selene'})\n",
    "CREATE (Selene:Personagem {nome: 'Selene', descrição: 'Bruxa poderosa com habilidades mágicas incríveis'})\n",
    "CREATE (MontanhasDorsais:Lugar {nome: 'Montanhas Dorsais', descrição: 'Local das temidas Guilda dos Assassinos'})\n",
    "CREATE (GuildaAssassinos:Organização {nome: 'Guilda dos Assassinos', descrição: 'Liderada por Raven Blackthorn'})\n",
    "CREATE (RavenBlackthorn:Personagem {nome: 'Raven Blackthorn', descrição: 'Mestre das sombras'})\n",
    "CREATE (PântanoBrumal:Lugar {nome: 'Pântano Brumal', descrição: 'Reino da bruxa Agatha'})\n",
    "CREATE (BruxaAgatha:Personagem {nome: 'Agatha', descrição: 'Rainha das criaturas sombrias'})\n",
    "CREATE (ReinoArkadia:Lugar {nome: 'Reino de Arkadia', descrição: 'Reino do lendário cavaleiro Sir Roland'})\n",
    "CREATE (OrdemCavaleiros:Organização {nome: 'Ordem dos Cavaleiros', descrição: 'Comandada por Sir Roland'})\n",
    "CREATE (SirRoland:Personagem {nome: 'Sir Roland', descrição: 'Lendário cavaleiro conhecido por sua honra e bravura'})\n",
    "\n",
    "CREATE (Eldara)-[:ESTÁ_EM]->(Aradim)\n",
    "CREATE (OrdemDosSábios)-[:ESTÁ_EM]->(Eldara)\n",
    "CREATE (Melchior)-[:LÍDER]->(OrdemDosSábios)\n",
    "\n",
    "CREATE (FlorestaNimmel)-[:ESTÁ_EM]->(Aradim)\n",
    "CREATE (TriboElfosLunares)-[:ESTÁ_EM]->(FlorestaNimmel)\n",
    "CREATE (Selene)-[:LÍDER]->(TriboElfosLunares)\n",
    "\n",
    "CREATE (MontanhasDorsais)-[:ESTÁ_EM]->(Aradim)\n",
    "CREATE (GuildaAssassinos)-[:ESTÁ_EM]->(MontanhasDorsais)\n",
    "CREATE (RavenBlackthorn)-[:LÍDER]->(GuildaAssassinos)\n",
    "\n",
    "CREATE (PântanoBrumal)-[:ESTÁ_EM]->(Aradim)\n",
    "CREATE (BruxaAgatha)-[:LÍDER]->(PântanoBrumal)\n",
    "\n",
    "CREATE (ReinoArkadia)-[:ESTÁ_EM]->(Aradim)\n",
    "CREATE (OrdemCavaleiros)-[:ESTÁ_EM]->(ReinoArkadia)\n",
    "CREATE (SirRoland)-[:LÍDER]->(OrdemCavaleiros)\n",
    "\n",
    "CREATE (Eldara)-[:GOVERNO_CORRUPTO]->(Aradim)\n",
    "CREATE (Criminalidade:Cidade {nome: 'Criminalidade', descrição: 'Aumento da criminalidade nas cidades'})\n",
    "CREATE (DistribuiçãoRiqueza:Cidade {nome: 'Distribuição de Riqueza', descrição: 'Desigualdade na distribuição de riquezas'})\n",
    "CREATE (Eldara)-[:PROBLEMA_SOCIAL]->(Criminalidade)\n",
    "CREATE (Eldara)-[:PROBLEMA_SOCIAL]->(DistribuiçãoRiqueza)\n",
    "\n",
    "CREATE (ConflitoCivilizações:Cidade {nome: 'Conflito entre as Civilizações', descrição: 'Tensão entre Elfos Lunares e Humanos'})\n",
    "CREATE (ElfosLunares:Organização {nome: 'Elfos Lunares', descrição: 'Civilização dos Elfos Lunares'})\n",
    "CREATE (Humanos:Organização {nome: 'Humanos', descrição: 'Civilização dos Humanos'})\n",
    "CREATE (ElfosLunares)-[:CONFLITO]->(Humanos)\n",
    "CREATE (ConflitoCivilizações)-[:PROBLEMA_SOCIAL]->(ElfosLunares)\n",
    "CREATE (ConflitoCivilizações)-[:PROBLEMA_SOCIAL]->(Humanos)\n",
    "\n",
    "CREATE (Dragões:Cidade {nome: 'Ressurgimento dos Dragões', descrição: 'Medo e caos causado pelos dragões'})\n",
    "CREATE (Aradim)-[:PROBLEMA_SOCIAL]->(Dragões)\n",
    "\n",
    "CREATE (CentelhaEsperança:Cidade {nome: 'Centelha de Esperança', descrição: 'Heróis dispostos a enfrentar desafios'})\n",
    "CREATE (HeróisImprováveis:Organização {nome: 'Heróis Improváveis', descrição: 'Grupo de heróis improváveis'})\n",
    "CREATE (CentelhaEsperança)-[:PROBLEMA_SOCIAL]->(HeróisImprováveis)\n",
    "\n",
    "CREATE (Melchior)-[:PERTENCE_A]->(HeróisImprováveis)\n",
    "CREATE (Selene)-[:PERTENCE_A]->(HeróisImprováveis)\n",
    "CREATE (RavenBlackthorn)-[:PERTENCE_A]->(HeróisImprováveis)\n",
    "CREATE (BruxaAgatha)-[:PERTENCE_A]->(HeróisImprováveis)\n",
    "CREATE (SirRoland)-[:PERTENCE_A]->(HeróisImprováveis)\"\"\""
   ]
  },
  {
   "cell_type": "code",
   "execution_count": 34,
   "id": "6d7edffa-49ba-4bb8-b0fd-7b085b529a55",
   "metadata": {},
   "outputs": [],
   "source": [
    "with driver.session() as session:\n",
    "#    session.run(cypher.content)\n",
    "     session.run(query)"
   ]
  },
  {
   "cell_type": "code",
   "execution_count": 35,
   "id": "6c326ca7-41fc-4c3d-9745-788364b3182b",
   "metadata": {},
   "outputs": [
    {
     "name": "stdout",
     "output_type": "stream",
     "text": [
      "('Ordem dos Cavaleiros', 'ESTÁ_EM', 'Reino de Arkadia')\n",
      "('Sir Roland', 'LÍDER', 'Ordem dos Cavaleiros')\n",
      "('Eldara', 'GOVERNO_CORRUPTO', 'Aradim')\n",
      "('Eldara', 'PROBLEMA_SOCIAL', 'Criminalidade')\n",
      "('Eldara', 'PROBLEMA_SOCIAL', 'Distribuição de Riqueza')\n",
      "('Elfos Lunares', 'CONFLITO', 'Humanos')\n",
      "('Conflito entre as Civilizações', 'PROBLEMA_SOCIAL', 'Elfos Lunares')\n",
      "('Conflito entre as Civilizações', 'PROBLEMA_SOCIAL', 'Humanos')\n",
      "('Aradim', 'PROBLEMA_SOCIAL', 'Ressurgimento dos Dragões')\n",
      "('Centelha de Esperança', 'PROBLEMA_SOCIAL', 'Heróis Improváveis')\n",
      "('Melchior', 'PERTENCE_A', 'Heróis Improváveis')\n",
      "('Selene', 'PERTENCE_A', 'Heróis Improváveis')\n",
      "('Raven Blackthorn', 'PERTENCE_A', 'Heróis Improváveis')\n",
      "('Agatha', 'PERTENCE_A', 'Heróis Improváveis')\n",
      "('Sir Roland', 'PERTENCE_A', 'Heróis Improváveis')\n",
      "('Eldara', 'ESTÁ_EM', 'Aradim')\n",
      "('Ordem dos Sábios', 'ESTÁ_EM', 'Eldara')\n",
      "('Melchior', 'LÍDER', 'Ordem dos Sábios')\n",
      "('Floresta de Nimmel', 'ESTÁ_EM', 'Aradim')\n",
      "('Tribo dos Elfos Lunares', 'ESTÁ_EM', 'Floresta de Nimmel')\n",
      "('Selene', 'LÍDER', 'Tribo dos Elfos Lunares')\n",
      "('Montanhas Dorsais', 'ESTÁ_EM', 'Aradim')\n",
      "('Guilda dos Assassinos', 'ESTÁ_EM', 'Montanhas Dorsais')\n",
      "('Raven Blackthorn', 'LÍDER', 'Guilda dos Assassinos')\n",
      "('Pântano Brumal', 'ESTÁ_EM', 'Aradim')\n",
      "('Agatha', 'LÍDER', 'Pântano Brumal')\n",
      "('Reino de Arkadia', 'ESTÁ_EM', 'Aradim')\n"
     ]
    },
    {
     "name": "stderr",
     "output_type": "stream",
     "text": [
      "C:\\Users\\rafae\\AppData\\Local\\Temp\\ipykernel_35572\\1857058972.py:6: DeprecationWarning: read_transaction has been renamed to execute_read\n",
      "  triplets = session.read_transaction(get_triplets)\n"
     ]
    }
   ],
   "source": [
    "def get_triplets(tx):\n",
    "    result = tx.run(\"MATCH (n)-[r]->(m) RETURN n, r, m\")\n",
    "    return [(record[\"n\"][\"nome\"], record[\"r\"].type, record[\"m\"][\"nome\"]) for record in result]\n",
    "\n",
    "with driver.session() as session:\n",
    "    triplets = session.read_transaction(get_triplets)\n",
    "\n",
    "#for triplet in triplets:\n",
    "#    print(triplet)\n",
    "triplets = \"\\n\".join([str(x) for x in triplets])\n",
    "print(triplets)"
   ]
  },
  {
   "cell_type": "code",
   "execution_count": 36,
   "id": "d10764ed-15eb-43d5-8ce0-062d6793c9a6",
   "metadata": {},
   "outputs": [
    {
     "name": "stdout",
     "output_type": "stream",
     "text": [
      "('Aradim', {'descrição': 'Mundo onde a magia é rara, mas sua influência está em todos os cantos', 'nome': 'Aradim'})\n",
      "('Ordem dos Sábios', {'descrição': 'Protetores dos conhecimentos místicos e dos artefatos antigos', 'nome': 'Ordem dos Sábios'})\n",
      "('Eldara', {'descrição': 'Cidade conhecida como o coração do conhecimento', 'nome': 'Eldara'})\n",
      "('Melchior', {'descrição': 'Líder sábio e misterioso da Ordem dos Sábios', 'nome': 'Melchior'})\n",
      "('Floresta de Nimmel', {'descrição': 'Lar da tribo dos Elfos Lunares', 'nome': 'Floresta de Nimmel'})\n",
      "('Tribo dos Elfos Lunares', {'descrição': 'Liderada pela Bruxa da Lua, Selene', 'nome': 'Tribo dos Elfos Lunares'})\n",
      "('Selene', {'descrição': 'Bruxa poderosa com habilidades mágicas incríveis', 'nome': 'Selene'})\n",
      "('Montanhas Dorsais', {'descrição': 'Local das temidas Guilda dos Assassinos', 'nome': 'Montanhas Dorsais'})\n",
      "('Guilda dos Assassinos', {'descrição': 'Liderada por Raven Blackthorn', 'nome': 'Guilda dos Assassinos'})\n",
      "('Raven Blackthorn', {'descrição': 'Mestre das sombras', 'nome': 'Raven Blackthorn'})\n",
      "('Pântano Brumal', {'descrição': 'Reino da bruxa Agatha', 'nome': 'Pântano Brumal'})\n",
      "('Agatha', {'descrição': 'Rainha das criaturas sombrias', 'nome': 'Agatha'})\n",
      "('Reino de Arkadia', {'descrição': 'Reino do lendário cavaleiro Sir Roland', 'nome': 'Reino de Arkadia'})\n",
      "('Ordem dos Cavaleiros', {'descrição': 'Comandada por Sir Roland', 'nome': 'Ordem dos Cavaleiros'})\n",
      "('Sir Roland', {'descrição': 'Lendário cavaleiro conhecido por sua honra e bravura', 'nome': 'Sir Roland'})\n",
      "('Criminalidade', {'descrição': 'Aumento da criminalidade nas cidades', 'nome': 'Criminalidade'})\n",
      "('Distribuição de Riqueza', {'descrição': 'Desigualdade na distribuição de riquezas', 'nome': 'Distribuição de Riqueza'})\n",
      "('Conflito entre as Civilizações', {'descrição': 'Tensão entre Elfos Lunares e Humanos', 'nome': 'Conflito entre as Civilizações'})\n",
      "('Elfos Lunares', {'descrição': 'Civilização dos Elfos Lunares', 'nome': 'Elfos Lunares'})\n",
      "('Humanos', {'descrição': 'Civilização dos Humanos', 'nome': 'Humanos'})\n",
      "('Ressurgimento dos Dragões', {'descrição': 'Medo e caos causado pelos dragões', 'nome': 'Ressurgimento dos Dragões'})\n",
      "('Centelha de Esperança', {'descrição': 'Heróis dispostos a enfrentar desafios', 'nome': 'Centelha de Esperança'})\n",
      "('Heróis Improváveis', {'descrição': 'Grupo de heróis improváveis', 'nome': 'Heróis Improváveis'})\n"
     ]
    },
    {
     "name": "stderr",
     "output_type": "stream",
     "text": [
      "C:\\Users\\rafae\\AppData\\Local\\Temp\\ipykernel_35572\\2230681695.py:6: DeprecationWarning: read_transaction has been renamed to execute_read\n",
      "  entities = session.read_transaction(get_entities_and_properties)\n"
     ]
    }
   ],
   "source": [
    "def get_entities_and_properties(tx):\n",
    "    result = tx.run(\"MATCH (n) RETURN n\")\n",
    "    return [(record[\"n\"][\"nome\"], dict(record[\"n\"].items())) for record in result]\n",
    "\n",
    "with driver.session() as session:\n",
    "    entities = session.read_transaction(get_entities_and_properties)\n",
    "\n",
    "#for entity in entities:\n",
    "#    print(entity)\n",
    "\n",
    "entities = \"\\n\".join([str(x) for x in entities])\n",
    "print(entities)"
   ]
  },
  {
   "cell_type": "markdown",
   "id": "b9ed5a3b-cd26-4ca8-b41a-285a4e2bbb63",
   "metadata": {},
   "source": [
    "# Graph to text and other tasks"
   ]
  },
  {
   "cell_type": "code",
   "execution_count": 37,
   "id": "0cff93bd-9748-4fd0-8785-11d71eb0e234",
   "metadata": {},
   "outputs": [],
   "source": [
    "prompt_system_g2t = \"\"\"Você é um programador profissional que lê uma lista de triplets, assim como uma lista de entidades e propriedades, e escreve uma código em Cypher para o banco de dados Neo4j, que realiza a tarefa solicitada. Utilize o Neo4j Python Driver.\n",
    "\n",
    "A lista de triplets é gerada pelo seguinte código, delimitado por '<código python>':\n",
    "\n",
    "<código python> from neo4j import GraphDatabase\n",
    "driver = GraphDatabase.driver(uri, auth=(username, password))\n",
    "\n",
    "\n",
    "def get_triplets(tx):\n",
    "    result = tx.run(\"MATCH (n)-[r]->(m) RETURN n, r, m\")\n",
    "    return [(record[\"n\"][\"nome\"], record[\"r\"].type, record[\"m\"][\"nome\"]) for record in result]\n",
    "\n",
    "\n",
    "with driver.session() as session:\n",
    "    triplets = session.read_transaction(get_triplets)\n",
    "\n",
    "for triplet in triplets:\n",
    "    print(triplet)\n",
    "<código python>\n",
    "\n",
    "A lista de entidades e suas propriedades é gerada pelo seguinte código, delimitado por '<código python>':\n",
    "\n",
    "<código python> from neo4j import GraphDatabase\n",
    "driver = GraphDatabase.driver(uri, auth=(username, password))\n",
    "\n",
    "\n",
    "def get_entities_and_properties(tx):\n",
    "    result = tx.run(\"MATCH (n) RETURN n\")\n",
    "    return [(record[\"n\"][\"nome\"], dict(record[\"n\"].items())) for record in result]\n",
    "\n",
    "\n",
    "with driver.session() as session:\n",
    "    entities = session.read_transaction(get_entities_and_properties)\n",
    "\n",
    "for entity in entities:\n",
    "    print(entity)\n",
    "<código python>\n",
    "\"\"\"\n",
    "\n",
    "prompt_human_g2t = (\"A lista de triplets está a seguir: \\n\" + triplets + \n",
    "                   \"\\n \\n A lista de entidades e suas propriedades está a seguir: \\n\" + entities + \n",
    "\"\"\" \\n \\n Você é um escritor profissional fazendo o worldbuilding e um mundo de RPG. \n",
    "\n",
    "Você deve considerar os seguintes aspectos, mas nunca falar sobre eles diretamente:\n",
    "1. O gênero é ficção;\n",
    "2. O mundo parece místico;\n",
    "3. O nível de agência dos personagens principais é alto;\n",
    "4. O tom da história é leve;\n",
    "5. O mundo tem masmorras e dragões como temas recorrentes;\n",
    "6. O nível de tecnologia é medieval,\n",
    "7.  O nível de magia é raro,\n",
    "8. A atmosfera é inspiradora,\n",
    "9. O mundo deve ter 5 pontos de drama. Pontos de drama são os assuntos atuais do mundo - o que está acontecendo no momento.\n",
    "\n",
    "\"\"\" +\n",
    "                   \"Com base nesses dados, escreva a história representada em 15 parágrafos na estrutura de uma história de ficção.\")"
   ]
  },
  {
   "cell_type": "code",
   "execution_count": 21,
   "id": "7ed06631-8199-4980-aec4-35571e127b38",
   "metadata": {},
   "outputs": [],
   "source": [
    "g2t = api_cypher.predict_messages([SystemMessage(content=prompt_system_g2t),\n",
    "                                   HumanMessage(content=prompt_human_g2t)])"
   ]
  },
  {
   "cell_type": "code",
   "execution_count": 22,
   "id": "e3991735-97ad-40fc-8515-82fec64f7d65",
   "metadata": {},
   "outputs": [
    {
     "name": "stdout",
     "output_type": "stream",
     "text": [
      "Era uma vez, em um mundo místico repleto de magia e dragões, onde a agência dos personagens principais era elevada, viviam cinco heróis lendários. Arianth, uma guerreira valente de cabelos prateados, dominava a arte da espada. Lirael, uma maga dotada de poderes arcanos, possuía um cajado de cristal que irradiava uma luz mágica. Thalir, um ladino astuto, dominava a furtividade com sua adaga encantada. Lyra, uma druida com um espírito conectado à natureza, acalmava feras e revitalizava a flora. E Magnus, um sábio ancião dedicado ao estudo das antigas profecias, possuía uma sabedoria inigualável.\n",
      "\n",
      "Esses heróis viviam em Eldoria, um mundo místico onde dragões e magia eram partes intrínsecas da vida cotidiana. Porém, Eldoria enfrentava desafios. Um governo autoritário buscava controlar os cidadãos e restringir sua liberdade, gerando desigualdade na distribuição de riqueza. Além disso, a influência militar ameaçava dominar terras e subjugar povos indefesos em busca de poder. Esses eram alguns dos cinco pontos de drama que permeavam o mundo.\n",
      "\n",
      "Apesar dos desafios, os heróis não se deixavam abater. Arianth liderava a resistência contra o governo autoritário, lutando pela liberdade de todos. Lirael usava seus poderes arcanos para desvendar os segredos por trás das profecias e buscar uma solução para a desigualdade. Thalir, com sua habilidade furtiva, infiltrava-se nas fileiras da influência militar, sabotando seus planos e protegendo os povos oprimidos.\n",
      "\n",
      "Lyra, por sua vez, buscava unir as raças e culturas de Eldoria, superando preconceitos e estereótipos. Ela acreditava que a harmonia entre todos era essencial para enfrentar os desafios do mundo. E Magnus, o sábio ancião, dedicava-se à busca por conhecimento, desvendando os segredos da magia e dos dragões, na esperança de encontrar uma solução para os problemas que assolavam Eldoria.\n",
      "\n",
      "Enquanto os heróis lutavam por um mundo melhor, exploravam masmorras esquecidas, enfrentando perigos e desvendando mistérios. A atmosfera inspiradora do mundo impulsionava-os a seguir em frente, mesmo diante das adversidades. O tom da história era leve, com momentos de humor e camaradagem entre os heróis.\n",
      "\n",
      "E assim, a história de Eldoria se desenrolava, com os heróis enfrentando os pontos de drama que assolavam o mundo. Arianth, Lirael, Thalir, Lyra e Magnus eram a esperança de um futuro melhor, onde a liberdade, a igualdade e a harmonia prevaleceriam. Em um mundo medieval, onde a tecnologia era limitada e a magia rara, eles se tornaram lendas vivas, inspirando gerações futuras a lutar por um mundo mais justo e equilibrado.\n"
     ]
    }
   ],
   "source": [
    "print(g2t.content)"
   ]
  },
  {
   "cell_type": "markdown",
   "id": "49a99c55-a1e4-4965-a997-71e0982dcc0e",
   "metadata": {},
   "source": [
    "# Testing metrics"
   ]
  },
  {
   "cell_type": "code",
   "execution_count": 40,
   "id": "0753c29e-79e0-4a7f-9411-caa32b64e476",
   "metadata": {},
   "outputs": [],
   "source": [
    "prompt2 = \"\"\"Era uma vez, em um mundo místico e encantado chamado Aradim, onde a magia era rara, mas sua influência estava presente em todos os cantos. Nesse mundo, existia uma cidade conhecida como Eldara, considerada o coração do conhecimento. Eldara era governada por um governo corrupto, liderado por Aradim, um reino marcado pelo ressurgimento dos dragões.\n",
    "\n",
    "No entanto, Eldara não era apenas um lugar de problemas políticos. A cidade também enfrentava desafios sociais, como a crescente criminalidade e a desigualdade na distribuição de riquezas. Esses problemas afetavam não apenas os habitantes de Eldara, mas também as civilizações vizinhas, como os Elfos Lunares e os Humanos.\n",
    "\n",
    "O conflito entre as civilizações era uma realidade constante. Os Elfos Lunares, liderados pela poderosa bruxa Selene, viviam em constante tensão com os Humanos. Essa tensão era alimentada pela rivalidade entre as duas raças e pelas diferenças culturais e sociais.\n",
    "\n",
    "Enquanto isso, em Aradim, surgia uma centelha de esperança. Um grupo de heróis improváveis, composto por Melchior, Selene, Raven Blackthorn, Agatha e Sir Roland, uniu-se para enfrentar os desafios que assolavam o reino. Melchior, um líder sábio e misterioso, liderava a Ordem dos Sábios, protetores dos conhecimentos místicos e dos artefatos antigos.\n",
    "\n",
    "A jornada desses heróis os levou a lugares fascinantes em Aradim. A Floresta de Nimmel, lar da tribo dos Elfos Lunares, era um local de magia e mistério. Selene, a bruxa da lua, liderava sua tribo com habilidades mágicas incríveis.\n",
    "\n",
    "Além da floresta, as Montanhas Dorsais eram conhecidas como o local das temidas Guilda dos Assassinos, liderada por Raven Blackthorn, um mestre das sombras. E no Pântano Brumal, reinava Agatha, a rainha das criaturas sombrias.\n",
    "\n",
    "Enquanto os heróis enfrentavam seus desafios, o lendário cavaleiro Sir Roland protegia o Reino de Arkadia. Esse reino era conhecido por sua história de bravura e honra, e era onde a Ordem dos Cavaleiros estava estabelecida, comandada por Sir Roland.\n",
    "\n",
    "A história desse mundo de RPG era repleta de mistérios, mas também de inspiração. Os personagens principais tinham um alto nível de agência, podendo moldar o destino de Aradim. Eles exploravam masmorras, enfrentavam dragões e desvendavam segredos antigos, tudo em um cenário medieval, onde a magia era vista como algo raro e especial.\n",
    "\n",
    "Assim, a história de Aradim se desenrolava, com seus personagens cativantes e lugares fascinantes. Era um mundo onde a imaginação fluía livremente, inspirando os jogadores a embarcarem em aventuras épicas e a desvendarem os mistérios desse reino encantado.\"\"\"\n",
    "\n",
    "prompt1 = \"\"\"Há muito tempo, em um mundo chamado Aradim, onde a magia é rara, mas sua influência está em todos os cantos, um grupo improvável de heróis começa a se reunir. \n",
    "\n",
    "Em uma cidade chamada Eldara, conhecida como o coração do conhecimento, está a Ordem dos Sábios. Eles são os protetores dos conhecimentos místicos e dos artefatos antigos. O Líder dos Sábios, Melchior, é um homem sábio e misterioso que guarda segredos profundos sobre o mundo e seus jogos políticos.\n",
    "\n",
    "Na Floresta de Nimmel, há a tribo dos Elfos Lunares, liderada pela Bruxa da Lua, Selene. Ela é uma mulher poderosa com habilidades mágicas incríveis, capazes de despertar a luz da lua para curar seus aliados e punir seus inimigos.\n",
    "\n",
    "Nas Montanhas Dorsais, existe a temida Guilda dos Assassinos, liderada por Raven Blackthorn. Ele é um mestre das sombras, treinado em artes nefastas e conhecido por suas habilidades de combate mortal e capacidade de se infiltrar em qualquer lugar sem ser detectado.\n",
    "\n",
    "No pântano assombrado de Brumal, a bruxa Agatha, rainha das criaturas sombrias, governa com um punho de ferro. Ela manipula a vida e a morte, usando sua magia para controlar espíritos e zumbis que obedecem a cada um de seus caprichos.\n",
    "\n",
    "No reino de Arkadia, o lendário cavaleiro Sir Roland é conhecido por sua honra e bravura. Ele é o comandante da Ordem dos Cavaleiros e faz questão de defender os mais fracos, lutando contra a opressão e o mal onde quer que esteja.\n",
    "\n",
    "Dentro desses personagens, os dramas do mundo se entrelaçam. O governo corrupto de Eldara está traindo a confiança da população em sua busca por mais poder. A criminalidade está aumentando nas cidades do reino, e os serviços sociais estão sendo negligenciados pela ganância dos ricos. A distribuição de riqueza é desigual, com a classe alta controlando a maior parte dos recursos.\n",
    "\n",
    "Enquanto isso, duas grandes civilizações, os Elfos Lunares e os Humanos, estão em conflito há séculos, cada um clamando por terra e poder. Essa tensão tumultuada é alimentada por preconceitos enraizados e falta de compreensão mútua.\n",
    "\n",
    "Por toda Aradim, os dragões estão ressurgindo das profundezas da terra, trazendo medo e caos. Seus rugidos ecoam pelos vales e suas asas negras obscurecem o sol, deixando o povo apavorado.\n",
    "\n",
    "Mas entre todas as trevas, há uma centelha de esperança. Os heróis improváveis ​​estão dispostos a enfrentar todos os perigos, desvendar os segredos antigos e lutar pelos mais necessitados. Unidos pela determinação e guiados por sua própria agência, eles descobrirão que, mesmo em um mundo repleto de masmorras e dragões, a verdadeira força está no coração dos indivíduos e na crença de que o bem pode prevalecer sobre o mal.\"\"\""
   ]
  },
  {
   "cell_type": "code",
   "execution_count": 41,
   "id": "5390e4dd-5d9d-41e5-9ae6-b235f986d891",
   "metadata": {
    "tags": []
   },
   "outputs": [],
   "source": [
    "from evaluate import load\n",
    "bertscore = load(\"bertscore\")\n",
    "\n",
    "#predictions = [world.content]\n",
    "#references = [g2t.content]\n",
    "\n",
    "predictions = [prompt1]\n",
    "references = [prompt2]\n",
    "\n",
    "results = bertscore.compute(predictions=predictions, references=references, model_type=\"distilbert-base-uncased\")"
   ]
  },
  {
   "cell_type": "code",
   "execution_count": 42,
   "id": "17cf0f05-572a-436f-9531-510f5b0b6faf",
   "metadata": {},
   "outputs": [
    {
     "data": {
      "text/plain": [
       "{'precision': [0.8676817417144775],\n",
       " 'recall': [0.8756520748138428],\n",
       " 'f1': [0.8716486692428589],\n",
       " 'hashcode': 'distilbert-base-uncased_L5_no-idf_version=0.3.12(hug_trans=4.30.2)'}"
      ]
     },
     "execution_count": 42,
     "metadata": {},
     "output_type": "execute_result"
    }
   ],
   "source": [
    "results"
   ]
  },
  {
   "cell_type": "code",
   "execution_count": null,
   "id": "86abdc15-c1fa-4495-bd8d-eef37d07e62f",
   "metadata": {},
   "outputs": [],
   "source": []
  }
 ],
 "metadata": {
  "kernelspec": {
   "display_name": "Python 3 (ipykernel)",
   "language": "python",
   "name": "python3"
  },
  "language_info": {
   "codemirror_mode": {
    "name": "ipython",
    "version": 3
   },
   "file_extension": ".py",
   "mimetype": "text/x-python",
   "name": "python",
   "nbconvert_exporter": "python",
   "pygments_lexer": "ipython3",
   "version": "3.11.4"
  }
 },
 "nbformat": 4,
 "nbformat_minor": 5
}
