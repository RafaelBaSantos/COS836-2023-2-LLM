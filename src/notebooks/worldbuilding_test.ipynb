{
 "cells": [
  {
   "cell_type": "markdown",
   "id": "b016bc4f-f7a0-4857-a496-1fcda89dafc4",
   "metadata": {},
   "source": [
    "# Importando bibliotecas"
   ]
  },
  {
   "cell_type": "code",
   "execution_count": 1,
   "id": "432ae3d5-4749-4c94-92d8-9c91cb35d4b0",
   "metadata": {},
   "outputs": [],
   "source": [
    "from dotenv import load_dotenv\n",
    "import os\n",
    "\n",
    "from langchain.chat_models import ChatOpenAI\n",
    "from langchain.schema import AIMessage, HumanMessage, SystemMessage"
   ]
  },
  {
   "cell_type": "markdown",
   "id": "9532761a-6490-49a4-ab30-489ba219d63a",
   "metadata": {},
   "source": [
    "# Inicializando API"
   ]
  },
  {
   "cell_type": "code",
   "execution_count": 2,
   "id": "3542daa2-9658-4e09-9da5-52273317b8ca",
   "metadata": {},
   "outputs": [],
   "source": [
    "load_dotenv(r'E:\\Documentos\\Estudos\\UFRJ_PESC\\3_periodo\\llm\\projeto final\\COS836-2023-2-LLM\\src\\utils\\openai_api_key.env')  # take environment variables from .env.\n",
    "OPENAI_API_KEY = os.getenv('OPENAI_API_KEY')"
   ]
  },
  {
   "cell_type": "code",
   "execution_count": 8,
   "id": "36e3a763-518c-4612-a6cf-886c151ceb0c",
   "metadata": {},
   "outputs": [],
   "source": [
    "api_t1 = ChatOpenAI(openai_api_key=OPENAI_API_KEY, model_name=\"gpt-3.5-turbo\", temperature=1)"
   ]
  },
  {
   "cell_type": "code",
   "execution_count": 51,
   "id": "4806226d-60ea-4c12-adcc-66f3112b755a",
   "metadata": {},
   "outputs": [],
   "source": [
    "api_t0 = ChatOpenAI(openai_api_key=OPENAI_API_KEY, model_name=\"gpt-3.5-turbo\", temperature=0)"
   ]
  },
  {
   "cell_type": "code",
   "execution_count": 50,
   "id": "3d18c8a6-a86a-4801-81c7-bd1cd1d84fdb",
   "metadata": {},
   "outputs": [],
   "source": [
    "api_t0_16k = ChatOpenAI(openai_api_key=OPENAI_API_KEY, model_name=\"gpt-3.5-turbo-16k\", temperature=0)"
   ]
  },
  {
   "cell_type": "markdown",
   "id": "74111378-f282-4c25-b477-67146a1ae560",
   "metadata": {},
   "source": [
    "# Criação do background"
   ]
  },
  {
   "cell_type": "markdown",
   "id": "1297b2ff-4122-48b8-97d3-be7bf84c09a7",
   "metadata": {},
   "source": [
    "### Background geral do mundo"
   ]
  },
  {
   "cell_type": "code",
   "execution_count": 5,
   "id": "3de6eed9-084f-4409-a616-74fc370e9b43",
   "metadata": {},
   "outputs": [
    {
     "name": "stdout",
     "output_type": "stream",
     "text": [
      "Você é um escritor profissional fazendo o worldbuilding de um mundo de RPG.\n",
      "\n",
      "Cada lugar e organização que você criar deve ter um nome específico e uma descrição curta.\n",
      "\n",
      "Você deve considerar os seguintes aspectos, mas nunca falar sobre eles diretamente:\n",
      "1. O gênero é ficção;\n",
      "2. O mundo trás um sentimento místico;\n",
      "3. O tom da história é leve;\n",
      "4. Masmorras e dragões são temas recorrentes do mundo;\n",
      "5. O nível de tecnologia é medieval,\n",
      "6. Magia é vista como algo raro,\n",
      "7. A atmosfera é empolgante,\n",
      "8. A história é inspirada nos escritores George R. R. Martin, J. R. R. Tolkien, Matthew Mercer e Brennan Lee Mulligan,\n",
      "9. A história é inspirada no universo de Dungeons & Dragons e Tormenta 20.\n",
      "10. O mundo tem mais ou menos 5 pontos de drama, ou seja, assuntos atuais do mundo - o que está acontecendo no momento. Exemplos de assuntos do mundo que podem ser explorados são: Influência do governo; Estado de direito; Serviços sociais; Força econômica; Distribuição de riqueza; Agricultura e comércio; Relações entre pessoas ditadas por características raciais, de classe de gênero ou de orientação sexual; Influência militar; Influência religiosa; Influência tecnológica; Influência das artes e da cultura; Geografia; A influência de diferentes civilizações e culturas no mundo, incluindo sua história, conflitos e política; Leis da natureza; A origem do universo; Quais espécies/culturas já viveram aqui; O que as espécies/culturas precisam e as relações entre elas.\n",
      "\n"
     ]
    }
   ],
   "source": [
    "prompt_system_world = \"\"\"Você é um escritor profissional fazendo o worldbuilding de um mundo de RPG.\n",
    "\n",
    "Cada lugar e organização que você criar deve ter um nome específico e uma descrição curta.\n",
    "\n",
    "Você deve considerar os seguintes aspectos, mas nunca falar sobre eles diretamente:\n",
    "1. O gênero é ficção;\n",
    "2. O mundo trás um sentimento místico;\n",
    "3. O tom da história é leve;\n",
    "4. Masmorras e dragões são temas recorrentes do mundo;\n",
    "5. O nível de tecnologia é medieval,\n",
    "6. Magia é vista como algo raro,\n",
    "7. A atmosfera é empolgante,\n",
    "8. A história é inspirada nos escritores George R. R. Martin, J. R. R. Tolkien, Matthew Mercer e Brennan Lee Mulligan,\n",
    "9. A história é inspirada no universo de Dungeons & Dragons e Tormenta 20.\n",
    "10. O mundo tem mais ou menos 5 pontos de drama, ou seja, assuntos atuais do mundo - o que está acontecendo no momento. Exemplos de assuntos do mundo que podem ser explorados são: Influência do governo; Estado de direito; Serviços sociais; Força econômica; Distribuição de riqueza; Agricultura e comércio; Relações entre pessoas ditadas por características raciais, de classe de gênero ou de orientação sexual; Influência militar; Influência religiosa; Influência tecnológica; Influência das artes e da cultura; Geografia; A influência de diferentes civilizações e culturas no mundo, incluindo sua história, conflitos e política; Leis da natureza; A origem do universo; Quais espécies/culturas já viveram aqui; O que as espécies/culturas precisam e as relações entre elas.\n",
    "\"\"\"\n",
    "\n",
    "print(prompt_system_world)"
   ]
  },
  {
   "cell_type": "code",
   "execution_count": 6,
   "id": "370c40da-b914-498f-b89d-3f69b6522b22",
   "metadata": {},
   "outputs": [
    {
     "name": "stdout",
     "output_type": "stream",
     "text": [
      "Crie um mundo original e envolvente. Escreva na estrutura de uma história de ficção.\n"
     ]
    }
   ],
   "source": [
    "# lugar, objeto. 3. O nível de agência dos personagens principais é alto; Inclua uma série de personagens diversos que sirvam como mentores aliados ou inimigos.\n",
    "\n",
    "prompt_user_world = \"Crie um mundo original e envolvente. Escreva na estrutura de uma história de ficção.\"\n",
    "print(prompt_user_world)"
   ]
  },
  {
   "cell_type": "code",
   "execution_count": 9,
   "id": "d81dce1f-4940-47f9-a23a-c21254129726",
   "metadata": {
    "scrolled": true
   },
   "outputs": [],
   "source": [
    "world_bg = api_t1.predict_messages([SystemMessage(content=prompt_system_world), HumanMessage(content=prompt_user_world)])"
   ]
  },
  {
   "cell_type": "code",
   "execution_count": 10,
   "id": "08c98820-972e-4a76-9d7b-a83d8a0139af",
   "metadata": {},
   "outputs": [
    {
     "name": "stdout",
     "output_type": "stream",
     "text": [
      "Numa terra muito distante, chamada Ethoria, onde a magia e a aventura se entrelaçam, existem diversos reinos e cidades que compõem esse vasto e encantador mundo.\n",
      "\n",
      "Um desses reinos é Chambral, um lugar repleto de altas montanhas e florestas densas. Liderado pelo rei Eardam, conhecido por sua sabedoria e justiça, Chambral é um refúgio para aventureiros em busca de uma terra rica em tesouros e oportunidades. A Cidade de Pedra, capital do reino, é um local agitado, cheio de mercadores animados e tabernas barulhentas. O reino também abriga uma renomada guilda de caçadores de dragões, que se autodenomina Estrelas do Dragão.\n",
      "\n",
      "Próximo a Chambral, além das florestas imponentes, está o reino de Alden. Este lugar é conhecido por sua classe guerreira e arquitetura grandiosa, com castelos esculpidos em pedra e torres altas que se estendem até o céu. Alden é governado pela rainha Amara, uma estrategista habilidosa e dona de uma espada lendária chamada Velastra, que segundo as histórias, foi forjada nas profundezas de uma masmorra ancestral localizada nas Terras Sombrias.\n",
      "\n",
      "Nas Terras Sombrias, uma região perigosa e cheia de mistérios, está a morada dos Elfos Noturnos, uma raça misteriosa e reclusa. Liderados pela Rainha Íride, os elfos noturnos são conhecidos por suas habilidades arcanas e ligação com a natureza. Porém, nas sombras, também vive uma seita sombria chamada os Devoradores de Sonhos, que busca usar a magia dos elfos noturnos para despertar um antigo demônio que dorme sob as raízes da Grande Árvore Celestial.\n",
      "\n",
      "Ao sul de Chambral, existe o reino de Solenna, um lugar banhado por rios sinuosos e vastas planícies repletas de colheitas. Governada pelo rei Tristan, Solenna é conhecida por sua rica cultura artística e excelentes cavaleiros. O reino abriga a Sociedade dos Sete Sóis, uma organização de bardos dedicados a preservar e difundir a história e a música em todo o mundo.\n",
      "\n",
      "Por fim, chegamos ao reino místico de Arcanum, uma terra cheia de segredos e conhecimento arcano. Governado por uma guilda de magos chamada Os Sábios, o reino de Arcanum é protegido por uma barreira mágica conhecida como O Véu, que impede a entrada de qualquer pessoa destituída de poder mágico. Os Sábios são responsáveis por buscar e proteger os artefatos mágicos mais poderosos do mundo, além de oferecer treinamento para jovens aprendizes em sua famosa Torre do Ébano.\n",
      "\n",
      "Nesse mundo de Ethoria, reinos colidem, aventuras espreitam em cada esquina e as escolhas dos personagens moldam o destino do mundo. Masmorras escuras e dragões majestosos aguardam a coragem dos aventureiros para explorá-las, enquanto desafios e segredos aguardam ser desvendados. É um mundo onde os limites da imaginação se misturam com a força da ação e da amizade, proporcionando uma jornada inigualável para todos aqueles que se atrevem a vivê-la.\n"
     ]
    }
   ],
   "source": [
    "print(world_bg.content)"
   ]
  },
  {
   "cell_type": "markdown",
   "id": "b59be919-88e1-491e-ad7f-ee29f96a128e",
   "metadata": {},
   "source": [
    "### Aprofundando o background em tópicos"
   ]
  },
  {
   "cell_type": "code",
   "execution_count": 17,
   "id": "06ea48da-4682-45fa-9188-678de6033303",
   "metadata": {},
   "outputs": [
    {
     "name": "stdout",
     "output_type": "stream",
     "text": [
      "Quais são os principais tópicos dessa história que poderiam ser melhor desenvolvidos?\n",
      "Responda com uma lista de tópicos e uma breve explicação de cada um. Não faça mais nenhum comentário.\n"
     ]
    }
   ],
   "source": [
    "prompt_ask_topics = \"\"\"Quais são os principais tópicos dessa história que poderiam ser melhor desenvolvidos?\n",
    "Responda com uma lista de tópicos e uma breve explicação de cada um. Não faça mais nenhum comentário.\"\"\"\n",
    "print(prompt_ask_topics)"
   ]
  },
  {
   "cell_type": "code",
   "execution_count": 13,
   "id": "1cc04fbe-982c-43bc-873b-ceba69729d3b",
   "metadata": {},
   "outputs": [],
   "source": [
    "world_ls_topics = api_world.predict_messages([SystemMessage(content=prompt_system_world),\n",
    "                                              HumanMessage(content=prompt_user_world),\n",
    "                                              AIMessage(content=world_bg.content),\n",
    "                                              HumanMessage(content=prompt_ask_topics)])"
   ]
  },
  {
   "cell_type": "code",
   "execution_count": 14,
   "id": "03e03e8f-e4b9-404a-b884-0eed6a4af503",
   "metadata": {},
   "outputs": [
    {
     "name": "stdout",
     "output_type": "stream",
     "text": [
      "1. A influência do governo: Explorar a dinâmica política e as diferentes estruturas governamentais existentes nos reinos de Ethoria. Desde a monarquia de Chambral até a guilda de magos governando Arcanum, examinar como esses sistemas afetam os habitantes e as relações entre os reinos.\n",
      "\n",
      "2. Relações raciais, de classe e de gênero: Investigar as tensões sociais e as desigualdades presentes em Ethoria, levando em consideração como a raça, a classe e o gênero influenciam as interações entre os personagens e as comunidades em que vivem.\n",
      "\n",
      "3. Distribuição de riqueza: Abordar a disparidade econômica entre os reinos e as consequências que isso traz para as pessoas comuns. Explorar a exploração dos recursos naturais, o comércio desigual e as implicações socioeconômicas.\n",
      "\n",
      "4. Influência militar: Examinar a presença de organizações militares nos reinos de Ethoria, desde a guilda de caçadores de dragões em Chambral até a guarda real de Alden. Focar nas estratégias militares, nos conflitos e nos impactos dessas forças armadas para a paz e estabilidade nos reinos.\n",
      "\n",
      "5. Influência religiosa: Investigar as crenças e práticas religiosas presentes em Ethoria, como a adoração à Grande Árvore Celestial dos Elfos Noturnos ou as diversas divindades veneradas pelos habitantes do mundo. Explorar o papel dos clérigos e sacerdotes, bem como as tensões religiosas entre os diferentes reinos.\n",
      "\n",
      "6. Influência das artes e da cultura: Analisar como a arte, a música e a cultura são valorizadas e celebradas em Ethoria, com destaque para a Sociedade dos Sete Sóis em Solenna. Explorar como essas expressões artísticas moldam identidades individuais e coletivas e influenciam os personagens em suas jornadas.\n",
      "\n",
      "7. A origem do universo: Revelar os mitos e lendas por trás da criação de Ethoria, desde a formação do mundo até os seres divinos que influenciam o destino do mesmo. Explorar como essas histórias afetam as crenças, os costumes e o comportamento dos personagens.\n",
      "\n",
      "8. A influência de diferentes civilizações e culturas no mundo: Investigar as interações entre os reinos de Ethoria e as diversas civilizações e culturas que existem além de suas fronteiras. Focar nos conflitos e nas trocas culturais, bem como nas diferenças e semelhanças entre as sociedades.\n",
      "\n",
      "9. Conflitos e política: Explorar os conflitos internos e externos que ocorrem em Ethoria, desde as disputas de poder entre nobres até as rivalidades entre reinos. Analisar como as alianças são formadas, as consequências das guerras e a diplomacia entre os personagens e as nações.\n",
      "\n",
      "10. Leis da natureza: Investigar as forças naturais presentes em Ethoria, como os elementos da natureza, as criaturas místicas e a magia. Explorar como essas leis afetam a vida cotidiana, a exploração das terras desconhecidas e as habilidades dos personagens.\n"
     ]
    }
   ],
   "source": [
    "print(world_ls_topics.content)"
   ]
  },
  {
   "cell_type": "code",
   "execution_count": 15,
   "id": "5c62cb36-8749-46a1-94bd-551e3cdb71e9",
   "metadata": {},
   "outputs": [],
   "source": [
    "ls_topics = [x for x in world_ls_topics.content.split(\"\\n\") if x != \"\"]"
   ]
  },
  {
   "cell_type": "code",
   "execution_count": 19,
   "id": "96e5b5fe-3fa8-4da4-9345-5e0bec5b28f9",
   "metadata": {},
   "outputs": [],
   "source": [
    "ls_expanded_bg = []\n",
    "for topic in ls_topics:\n",
    "    local_exp_bg = api_world.predict_messages([SystemMessage(content=prompt_system_world),\n",
    "                                               HumanMessage(content=prompt_user_world),\n",
    "                                               AIMessage(content=world_bg.content),\n",
    "                                               HumanMessage(content=\"Desenvolva detalhadamente o seguinte tópico: \" + topic)])\n",
    "    ls_expanded_bg.append(local_exp_bg.content)"
   ]
  },
  {
   "cell_type": "markdown",
   "id": "3f8f3eae-4d50-41f3-85c4-9eb584f74780",
   "metadata": {},
   "source": [
    "### Salvando informações de background"
   ]
  },
  {
   "cell_type": "code",
   "execution_count": 21,
   "id": "b91c9343-8e01-45cc-b6c2-60a5fc0e71ba",
   "metadata": {},
   "outputs": [],
   "source": [
    "import pandas as pd"
   ]
  },
  {
   "cell_type": "code",
   "execution_count": 35,
   "id": "3dd09820-6668-4b90-9c51-f8d8cf3e3e7e",
   "metadata": {},
   "outputs": [],
   "source": [
    "df_bg = pd.DataFrame({\"topics\": [\"background geral\"] + ls_topics, \"content\": [world_bg.content] + ls_expanded_bg})\n",
    "df_bg.to_csv(r\".\\files\\bg.csv\", index=False)"
   ]
  },
  {
   "cell_type": "markdown",
   "id": "7b2cf026-d3eb-4615-90ae-bf9b8f550f0d",
   "metadata": {},
   "source": [
    "# Text 2 Graph"
   ]
  },
  {
   "cell_type": "code",
   "execution_count": 37,
   "id": "83592065-f625-446a-98ca-e474eac0054d",
   "metadata": {},
   "outputs": [],
   "source": [
    "df_bg = pd.read_csv(r\".\\files\\bg.csv\")"
   ]
  },
  {
   "cell_type": "code",
   "execution_count": 41,
   "id": "09430c14-9ed3-431a-b23e-d53495f1d30e",
   "metadata": {},
   "outputs": [
    {
     "name": "stdout",
     "output_type": "stream",
     "text": [
      "Você é um programador profissional que lê uma história e uma lista de coisas e escreve uma consulta Cypher para o banco de dados Neo4j, usando o Neo4j Python Driver.\n",
      "\n",
      "Todas as Construções (edifícios ou pontos de referência), Personagens, Condições, Documentos, Etnias, Localizações geográficas, Itens, Leis (naturais e metafísicas), Idiomas, Materiais, Conflitos militares, Formações militares, Mitos e lendas, Organizações, Profissões, Prosa, Postos e títulos, Relatório de sessão, Assentamentos, Espécies, Feitiços e habilidades, Enredos de histórias, Tecnologias e ciências, Tradições e rituais e Veículos presentes no texto devem ser representados como vértices (nodes). \n",
      "\n",
      "Os nodes podem ter somente os labels \"Construção\", \"Personagem\", \"Condição\", \"Documento\", \"Etnia\", \"Localização geográfica\", \"Item\", \"Lei\", \"Idioma\", \"Material\", \"Conflitos militares\", \"Formação militar\", \"Mito ou lenda\", \"Organização\", \"Profissão\", \"Prosa\", \"Posto ou título\", \"Relatório de sessão\", \"Assentamento\", \"Espécie\", \"Feitiço ou habilidade\", \"Tecnologia ou ciência\", \"Tradição ou ritual\", \"Veículo\" e \"Outro\".\n",
      "\n",
      "Os nós devem ter as propriedades \"nome\", o nome da entidade, e 'descrição', uma descrição detalhada com todas as informações referentes à entidade. Os relacionamentos entre eles devem ser representados como arestas (edges).\n",
      "\n",
      "Você nunca explica seu código.\n"
     ]
    }
   ],
   "source": [
    "prompt_system_cypher = \"\"\"Você é um programador profissional que lê uma história e uma lista de coisas e escreve uma consulta Cypher para o banco de dados Neo4j, usando o Neo4j Python Driver.\n",
    "\n",
    "Todas as Construções (edifícios ou pontos de referência), Personagens, Condições, Documentos, Etnias, Localizações geográficas, Itens, Leis (naturais e metafísicas), Idiomas, Materiais, Conflitos militares, Formações militares, Mitos e lendas, Organizações, Profissões, Prosa, Postos e títulos, Relatório de sessão, Assentamentos, Espécies, Feitiços e habilidades, Enredos de histórias, Tecnologias e ciências, Tradições e rituais e Veículos presentes no texto devem ser representados como vértices (nodes). \n",
    "\n",
    "Os nodes podem ter somente os labels \"Construção\", \"Personagem\", \"Condição\", \"Documento\", \"Etnia\", \"Localização geográfica\", \"Item\", \"Lei\", \"Idioma\", \"Material\", \"Conflitos militares\", \"Formação militar\", \"Mito ou lenda\", \"Organização\", \"Profissão\", \"Prosa\", \"Posto ou título\", \"Relatório de sessão\", \"Assentamento\", \"Espécie\", \"Feitiço ou habilidade\", \"Tecnologia ou ciência\", \"Tradição ou ritual\", \"Veículo\" e \"Outro\".\n",
    "\n",
    "Os nós devem ter as propriedades \"nome\", o nome da entidade, e 'descrição', uma descrição detalhada com todas as informações referentes à entidade. Os relacionamentos entre eles devem ser representados como arestas (edges).\n",
    "\n",
    "Você nunca explica seu código.\"\"\"\n",
    "\n",
    "print(prompt_system_cypher)"
   ]
  },
  {
   "cell_type": "code",
   "execution_count": 42,
   "id": "05376a03-de18-43f3-bc01-b1d2b3301d4b",
   "metadata": {},
   "outputs": [
    {
     "name": "stdout",
     "output_type": "stream",
     "text": [
      "No reino de Myrkvia, onde os raios do sol parecem dançar entre as folhagens densas das florestas encantadas, vive a valente guerreira Elysia. Com sua empunhadura de espada impecável e olhar de determinação, ela atravessa as terras em busca de uma antiga relíquia, a Lâmina de Luz, capaz de derrotar as forças das trevas que ameaçam o reino.\n"
     ]
    }
   ],
   "source": [
    "example_system_cypher = \"No reino de Myrkvia, onde os raios do sol parecem dançar entre as folhagens densas das florestas encantadas, \" \\\n",
    "                        \"vive a valente guerreira Elysia. Com sua empunhadura de espada impecável e olhar de determinação, ela atravessa \" \\\n",
    "                        \"as terras em busca de uma antiga relíquia, a Lâmina de Luz, capaz de derrotar as forças das trevas que ameaçam o reino.\"\n",
    "print(example_system_cypher)"
   ]
  },
  {
   "cell_type": "code",
   "execution_count": 43,
   "id": "8dc6111a-b52e-4d2d-8ca5-d2f20a79e4d3",
   "metadata": {},
   "outputs": [
    {
     "name": "stdout",
     "output_type": "stream",
     "text": [
      "CREATE (Elysia:Personagem {nome: 'Elysia', descrição: 'Valente guerreira com uma empunhadura de espada impecável e olhar de determinação'})\n",
      "CREATE (Myrkvia:Lugar {nome: 'Myrkvia', descrição: 'Reino onde os raios do sol parecem dançar entre as folhagens densas das florestas encantadas'})\n",
      "CREATE (LâminaDeLuz:Objeto {nome: 'Lâmina de Luz', descrição: 'Antiga relíquia capaz de derrotar as forças das trevas'})\n",
      "CREATE (Elysia)-[:ESTÁ_EM]->(Myrkvia)\n",
      "CREATE (Elysia)-[:BUSCA]->(LâminaDeLuz)\n"
     ]
    }
   ],
   "source": [
    "answer_system_cypher = \"\"\"CREATE (Elysia:Personagem {nome: 'Elysia', descrição: 'Valente guerreira com uma empunhadura de espada impecável e olhar de determinação'})\n",
    "CREATE (Myrkvia:Lugar {nome: 'Myrkvia', descrição: 'Reino onde os raios do sol parecem dançar entre as folhagens densas das florestas encantadas'})\n",
    "CREATE (LâminaDeLuz:Objeto {nome: 'Lâmina de Luz', descrição: 'Antiga relíquia capaz de derrotar as forças das trevas'})\n",
    "CREATE (Elysia)-[:ESTÁ_EM]->(Myrkvia)\n",
    "CREATE (Elysia)-[:BUSCA]->(LâminaDeLuz)\"\"\"\n",
    "print(answer_system_cypher)"
   ]
  },
  {
   "cell_type": "code",
   "execution_count": 45,
   "id": "3dfef62e-a94f-452e-9962-8be8c8859354",
   "metadata": {},
   "outputs": [],
   "source": [
    "ls_cypher_bg = []\n",
    "for local_bg in df_bg.content:\n",
    "    cypher = api_t0.predict_messages([SystemMessage(content=prompt_system_cypher),\n",
    "                                      HumanMessage(content=example_system_cypher),\n",
    "                                      AIMessage(content=answer_system_cypher),\n",
    "                                      HumanMessage(content=local_bg)])\n",
    "    ls_cypher_bg.append(cypher.content)"
   ]
  },
  {
   "cell_type": "code",
   "execution_count": 47,
   "id": "6e7a16a9-af88-4094-a279-58459d703281",
   "metadata": {
    "scrolled": true
   },
   "outputs": [
    {
     "name": "stdout",
     "output_type": "stream",
     "text": [
      "CREATE (Ethoria:Lugar {nome: 'Ethoria', descrição: 'Terra distante onde a magia e a aventura se entrelaçam'})\n",
      "CREATE (Chambral:Lugar {nome: 'Chambral', descrição: 'Reino repleto de altas montanhas e florestas densas'})\n",
      "CREATE (Eardam:Personagem {nome: 'Eardam', descrição: 'Rei de Chambral conhecido por sua sabedoria e justiça'})\n",
      "CREATE (CidadeDePedra:Lugar {nome: 'Cidade de Pedra', descrição: 'Capital de Chambral, um local agitado, cheio de mercadores animados e tabernas barulhentas'})\n",
      "CREATE (EstrelasDoDragão:Organização {nome: 'Estrelas do Dragão', descrição: 'Renomada guilda de caçadores de dragões em Chambral'})\n",
      "CREATE (Chambral)-[:GOVERNA]->(Eardam)\n",
      "CREATE (Chambral)-[:TEM_COMO_CAPITAL]->(CidadeDePedra)\n",
      "CREATE (Chambral)-[:ABRIGA]->(EstrelasDoDragão)\n",
      "\n",
      "CREATE (Alden:Lugar {nome: 'Alden', descrição: 'Reino conhecido por sua classe guerreira e arquitetura grandiosa'})\n",
      "CREATE (Amara:Personagem {nome: 'Amara', descrição: 'Rainha de Alden, uma estrategista habilidosa'})\n",
      "CREATE (Velastra:Objeto {nome: 'Velastra', descrição: 'Espada lendária forjada nas profundezas de uma masmorra ancestral em Alden'})\n",
      "CREATE (Alden)-[:GOVERNA]->(Amara)\n",
      "CREATE (Alden)-[:POSSUI]->(Velastra)\n",
      "\n",
      "CREATE (TerrasSombrias:Lugar {nome: 'Terras Sombrias', descrição: 'Região perigosa e cheia de mistérios'})\n",
      "CREATE (ElfosNoturnos:Etnia {nome: 'Elfos Noturnos', descrição: 'Raça misteriosa e reclusa'})\n",
      "CREATE (Íride:Personagem {nome: 'Íride', descrição: 'Rainha dos Elfos Noturnos'})\n",
      "CREATE (DevoradoresDeSonhos:Organização {nome: 'Devoradores de Sonhos', descrição: 'Seita sombria que busca usar a magia dos elfos noturnos'})\n",
      "CREATE (GrandeÁrvoreCelestial:Construção {nome: 'Grande Árvore Celestial', descrição: 'Árvore ancestral onde um antigo demônio dorme nas raízes'})\n",
      "CREATE (TerrasSombrias)-[:ABRIGA]->(ElfosNoturnos)\n",
      "CREATE (ElfosNoturnos)-[:GOVERNA]->(Íride)\n",
      "CREATE (ElfosNoturnos)-[:TEM_COMO_INIMIGO]->(DevoradoresDeSonhos)\n",
      "CREATE (TerrasSombrias)-[:TEM_COMO_PONTO_DE_INTERESSE]->(GrandeÁrvoreCelestial)\n",
      "\n",
      "CREATE (Solenna:Lugar {nome: 'Solenna', descrição: 'Reino banhado por rios sinuosos e vastas planícies repletas de colheitas'})\n",
      "CREATE (Tristan:Personagem {nome: 'Tristan', descrição: 'Rei de Solenna, conhecido por sua rica cultura artística e excelentes cavaleiros'})\n",
      "CREATE (SociedadeDosSeteSóis:Organização {nome: 'Sociedade dos Sete Sóis', descrição: 'Organização de bardos dedicados a preservar e difundir a história e a música'})\n",
      "CREATE (Solenna)-[:GOVERNA]->(Tristan)\n",
      "CREATE (Solenna)-[:ABRIGA]->(SociedadeDosSeteSóis)\n",
      "\n",
      "CREATE (Arcanum:Lugar {nome: 'Arcanum', descrição: 'Reino místico cheio de segredos e conhecimento arcano'})\n",
      "CREATE (OsSábios:Organização {nome: 'Os Sábios', descrição: 'Guilda de magos que governa Arcanum'})\n",
      "CREATE (OVéu:Construção {nome: 'O Véu', descrição: 'Barreira mágica que protege Arcanum'})\n",
      "CREATE (TorreDoÉbano:Construção {nome: 'Torre do Ébano', descrição: 'Local de treinamento para jovens aprendizes em Arcanum'})\n",
      "CREATE (Arcanum)-[:GOVERNA]->(OsSábios)\n",
      "CREATE (Arcanum)-[:TEM_COMO_PONTO_DE_INTERESSE]->(OVéu)\n",
      "CREATE (Arcanum)-[:TEM_COMO_PONTO_DE_INTERESSE]->(TorreDoÉbano)\n",
      "CREATE (Chambral:Assentamento {nome: 'Chambral', descrição: 'Reino governado por uma monarquia liderada pelo rei Eardam'})\n",
      "CREATE (Eardam:Personagem {nome: 'Eardam', descrição: 'Rei de Chambral'})\n",
      "CREATE (Assembleia:Organização {nome: 'Assembleia', descrição: 'Órgão consultivo composto por líderes das guildas e representantes dos diferentes distritos e cidades de Chambral'})\n",
      "CREATE (Chambral)-[:GOVERNADO_POR]->(Eardam)\n",
      "CREATE (Eardam)-[:ACONSELHADO_POR]->(Assembleia)\n",
      "\n",
      "CREATE (Alden:Assentamento {nome: 'Alden', descrição: 'Reino governado por uma monarquia absoluta liderada pela rainha Amara'})\n",
      "CREATE (Amara:Personagem {nome: 'Amara', descrição: 'Rainha de Alden'})\n",
      "CREATE (Alden)-[:GOVERNADO_POR]->(Amara)\n",
      "\n",
      "CREATE (TerrasSombrias:Assentamento {nome: 'Terras Sombrias', descrição: 'Reino dos Elfos Noturnos organizado de forma tribal'})\n",
      "CREATE (Íride:Personagem {nome: 'Íride', descrição: 'Rainha dos Elfos Noturnos'})\n",
      "CREATE (Conselho:Organização {nome: 'Conselho de Anciãos', descrição: 'Órgão consultivo composto por líderes tribais e sábios das Terras Sombrias'})\n",
      "CREATE (TerrasSombrias)-[:GOVERNADO_POR]->(Íride)\n",
      "CREATE (Íride)-[:ACONSELHADO_POR]->(Conselho)\n",
      "\n",
      "CREATE (Solenna:Assentamento {nome: 'Solenna', descrição: 'Reino governado por uma monarquia parlamentar liderada pelo rei Tristan'})\n",
      "CREATE (Tristan:Personagem {nome: 'Tristan', descrição: 'Rei de Solenna'})\n",
      "CREATE (AssembleiaNobres:Organização {nome: 'Assembleia de Nobres', descrição: 'Órgão legislativo composto por nobres eleitos em Solenna'})\n",
      "CREATE (SociedadeSeteSóis:Organização {nome: 'Sociedade dos Sete Sóis', descrição: 'Organização de bardos de renome em Solenna'})\n",
      "CREATE (Solenna)-[:GOVERNADO_POR]->(Tristan)\n",
      "CREATE (Tristan)-[:PODER_COMPARTILHADO_COM]->(AssembleiaNobres)\n",
      "CREATE (Solenna)-[:INFLUENCIADO_POR]->(SociedadeSeteSóis)\n",
      "\n",
      "CREATE (Arcanum:Assentamento {nome: 'Arcanum', descrição: 'Reino governado pela Guilda dos Sábios'})\n",
      "CREATE (GrandeMago:Personagem {nome: 'Grande Mago', descrição: 'Líder da Guilda dos Sábios em Arcanum'})\n",
      "CREATE (GuildaSábios:Organização {nome: 'Guilda dos Sábios', descrição: 'Organização de magos poderosos e sábios em Arcanum'})\n",
      "CREATE (TorreÉbano:Construção {nome: 'Torre do Ébano', descrição: 'Local de treinamento para jovens aprendizes em Arcanum'})\n",
      "CREATE (Arcanum)-[:GOVERNADO_POR]->(GuildaSábios)\n",
      "CREATE (GrandeMago)-[:LÍDER_DA]->(GuildaSábios)\n",
      "CREATE (Arcanum)-[:PROTEGE]->(TorreÉbano)\n",
      "CREATE (Ethoria:Lugar {nome: 'Ethoria', descrição: 'Um mundo onde as relações raciais, de classe e de gênero são elementos-chave que moldam as interações entre os personagens e as comunidades'})\n",
      "CREATE (Humanos:Etnia {nome: 'Humanos', descrição: 'Raça mais comum em Ethoria, ocupando a maioria das posições de poder e influência'})\n",
      "CREATE (Elfos:Etnia {nome: 'Elfos', descrição: 'Raça com características distintas, muitas vezes relegada a papéis secundários ou estereotipados em certas profissões'})\n",
      "CREATE (Anões:Etnia {nome: 'Anões', descrição: 'Raça com características distintas, muitas vezes relegada a papéis secundários ou estereotipados em certas profissões'})\n",
      "CREATE (Gnomos:Etnia {nome: 'Gnomos', descrição: 'Raça com características distintas, muitas vezes relegada a papéis secundários ou estereotipados em certas profissões'})\n",
      "CREATE (Aristocracia:Classe {nome: 'Aristocracia', descrição: 'Classe governante com privilégios e riquezas'})\n",
      "CREATE (ClasseMédia:Classe {nome: 'Classe Média', descrição: 'Classe com desafios e aspirações, buscando ascensão social e oportunidades'})\n",
      "CREATE (Camponeses:Classe {nome: 'Camponeses', descrição: 'Classe que vive em condições precárias, com escassez de recursos e falta de acesso a serviços básicos'})\n",
      "CREATE (Mulheres:Gênero {nome: 'Mulheres', descrição: 'Gênero que enfrenta desafios para conquistar posições de poder e respeito em uma sociedade patriarcal'})\n",
      "CREATE (Elysia)-[:VIVE_EM]->(Ethoria)\n",
      "CREATE (Elysia)-[:PERTENCE_A]->(Humanos)\n",
      "CREATE (Elysia)-[:ENFRENTA]->(Elfos)\n",
      "CREATE (Elysia)-[:ENFRENTA]->(Anões)\n",
      "CREATE (Elysia)-[:ENFRENTA]->(Gnomos)\n",
      "CREATE (Humanos)-[:OCUPA]->(Aristocracia)\n",
      "CREATE (Elfos)-[:RELEGADOS_A]->(Profissão {nome: 'Artesãos', descrição: 'Profissão estereotipada para elfos'})\n",
      "CREATE (Anões)-[:RELEGADOS_A]->(Profissão {nome: 'Comerciantes', descrição: 'Profissão estereotipada para anões'})\n",
      "CREATE (Gnomos)-[:RELEGADOS_A]->(Profissão {nome: 'Comerciantes', descrição: 'Profissão estereotipada para gnomos'})\n",
      "CREATE (Aristocracia)-[:GOVERNA]->(Ethoria)\n",
      "CREATE (ClasseMédia)-[:BUSCA]->(AscensãoSocial {nome: 'Ascensão Social', descrição: 'Busca por ascensão social e oportunidades'})\n",
      "CREATE (Camponeses)-[:VIVEM_EM]->(CondiçõesPrecárias {nome: 'Condições Precárias', descrição: 'Vivem em condições precárias, com escassez de recursos e falta de acesso a serviços básicos'})\n",
      "CREATE (Mulheres)-[:ENFRENTAM]->(Discriminação {nome: 'Discriminação', descrição: 'Enfrentam discriminação e preconceito devido às normas de gênero estabelecidas'})\n",
      "CREATE (Elysia)-[:ENFRENTA]->(Mulheres)\n",
      "CREATE (Elysia)-[:INSPIRA]->(PersonagensInspiração {nome: 'Personagens Inspiração', descrição: 'Personagens inspiradores desafiando as expectativas e lutando contra a opressão'})\n",
      "CREATE (Ethoria:Lugar {nome: 'Ethoria', descrição: 'Mundo fantástico onde a distribuição de riqueza é um tema importante e um ponto central de conflito socioeconômico'})\n",
      "CREATE (Chambral:Lugar {nome: 'Chambral', descrição: 'Reino com montanhas ricas em minerais preciosos, como ouro e prata'})\n",
      "CREATE (Arcanum:Lugar {nome: 'Arcanum', descrição: 'Reino com vastas reservas de cristais mágicos'})\n",
      "CREATE (Corporações:Organização {nome: 'Grandes corporações de mineração', descrição: 'Controladas pelos nobres e pela realeza, exploram os recursos naturais de Chambral'})\n",
      "CREATE (Nobres:Organização {nome: 'Nobres', descrição: 'Detêm o controle das grandes corporações de mineração em Chambral'})\n",
      "CREATE (Realeza:Organização {nome: 'Realeza', descrição: 'Detém o controle das grandes corporações de mineração em Chambral'})\n",
      "CREATE (ComunidadesLocais:Assentamento {nome: 'Comunidades locais', descrição: 'Vivem nas proximidades das minas em Chambral'})\n",
      "CREATE (GuildaMagos:Organização {nome: 'Os Sábios', descrição: 'Guilda de magos com monopólio sobre a extração e o comércio de cristais mágicos em Arcanum'})\n",
      "CREATE (Magos:Profissão {nome: 'Magos', descrição: 'Membros da guilda Os Sábios em Arcanum'})\n",
      "CREATE (PopulaçãoComum:Assentamento {nome: 'População comum', descrição: 'Habitantes comuns de Arcanum'})\n",
      "CREATE (RegiõesPobres:Assentamento {nome: 'Regiões mais pobres', descrição: 'Onde os recursos naturais são escassos e o comércio é limitado'})\n",
      "CREATE (LigaComércioJusto:Organização {nome: 'Liga do Comércio Justo', descrição: 'Guilda de mercadores que promove um comércio mais equilibrado e justo entre os reinos'})\n",
      "CREATE (MovimentosResistência:Organização {nome: 'Movimentos de resistência', descrição: 'Liderados por aventureiros e heróis, lutam contra a opressão dos poderosos e defendem os direitos das pessoas comuns'})\n",
      "\n",
      "CREATE (Chambral)-[:FAZ_PARTE_DE]->(Ethoria)\n",
      "CREATE (Arcanum)-[:FAZ_PARTE_DE]->(Ethoria)\n",
      "CREATE (Corporações)-[:CONTROLADO_POR]->(Nobres)\n",
      "CREATE (Corporações)-[:CONTROLADO_POR]->(Realeza)\n",
      "CREATE (ComunidadesLocais)-[:ESTÁ_EM]->(Chambral)\n",
      "CREATE (GuildaMagos)-[:CONTROLA]->(Arcanum)\n",
      "CREATE (Magos)-[:FAZ_PARTE_DE]->(GuildaMagos)\n",
      "CREATE (PopulaçãoComum)-[:ESTÁ_EM]->(Arcanum)\n",
      "CREATE (RegiõesPobres)-[:ESTÁ_EM]->(Ethoria)\n",
      "CREATE (LigaComércioJusto)-[:ATUA_EM]->(Ethoria)\n",
      "CREATE (MovimentosResistência)-[:ATUA_EM]->(Ethoria)\n",
      "CREATE (Chambral:Assentamento {nome: 'Chambral', descrição: 'Reino conhecido por abrigar a renomada guilda de caçadores de dragões, as Estrelas do Dragão'})\n",
      "CREATE (EstrelasDoDragão:Organização {nome: 'Estrelas do Dragão', descrição: 'Guilda de caçadores de dragões especializada em caçar e proteger a população dos temíveis dragões'})\n",
      "CREATE (Jareth:Personagem {nome: 'Jareth', descrição: 'Mestre das guildas e líder das Estrelas do Dragão'})\n",
      "CREATE (Chambral)-[:ABRIGA]->(EstrelasDoDragão)\n",
      "CREATE (EstrelasDoDragão)-[:LIDERADA_POR]->(Jareth)\n",
      "\n",
      "CREATE (Alden:Assentamento {nome: 'Alden', descrição: 'Reino conhecido pela sua guarda real'})\n",
      "CREATE (GuardaReal:Organização {nome: 'Guarda Real', descrição: 'Elite de guerreiros treinados para a proteção da rainha Amara, do reino e de seus cidadãos'})\n",
      "CREATE (Garius:Personagem {nome: 'Garius', descrição: 'Comandante da guarda real'})\n",
      "CREATE (Alden)-[:ABRIGA]->(GuardaReal)\n",
      "CREATE (GuardaReal)-[:LIDERADA_POR]->(Garius)\n",
      "\n",
      "CREATE (Chambral)-[:POSSUI]->(LegiãoDasMontanhas:FormaçãoMilitar {nome: 'Legião das Montanhas', descrição: 'Exército treinado para combater inimigos em terrenos acidentados e hostis'})\n",
      "CREATE (Skarn:Personagem {nome: 'Skarn', descrição: 'General da Legião das Montanhas'})\n",
      "CREATE (LegiãoDasMontanhas)-[:LIDERADA_POR]->(Skarn)\n",
      "\n",
      "CREATE (Solenna:Assentamento {nome: 'Solenna', descrição: 'Reino conhecido pelos Guardiões do Sol'})\n",
      "CREATE (GuardiõesDoSol:FormaçãoMilitar {nome: 'Guardiões do Sol', descrição: 'Exército composto por cavaleiros habilidosos e treinados nas artes da guerra'})\n",
      "CREATE (Renald:Personagem {nome: 'Renald', descrição: 'General dos Guardiões do Sol'})\n",
      "CREATE (Solenna)-[:ABRIGA]->(GuardiõesDoSol)\n",
      "CREATE (GuardiõesDoSol)-[:LIDERADA_POR]->(Renald)\n",
      "\n",
      "CREATE (Arcanum:Assentamento {nome: 'Arcanum', descrição: 'Reino com foco militar nas ordens de magos e conjuradores'})\n",
      "CREATE (OrdemDosCincoArcanos:Organização {nome: 'Ordem dos Cinco Arcanos', descrição: 'Grupo de magos habilidosos que utilizam suas habilidades arcanas em batalhas para proteger o reino contra ameaças mágicas'})\n",
      "CREATE (Xandor:Personagem {nome: 'Xandor', descrição: 'Grande Mago e líder da Ordem dos Cinco Arcanos'})\n",
      "CREATE (Arcanum)-[:ABRIGA]->(OrdemDosCincoArcanos)\n",
      "CREATE (OrdemDosCincoArcanos)-[:LIDERADA_POR]->(Xandor)\n",
      "CREATE (Ethoria:Lugar {nome: 'Ethoria', descrição: 'Reino onde a influência religiosa é uma parte central da vida dos habitantes'})\n",
      "CREATE (GrandeÁrvoreCelestial:Construção {nome: 'Grande Árvore Celestial', descrição: 'Representação viva dos deuses, venerada como um ser sagrado pelos Elfos Noturnos'})\n",
      "CREATE (DeusaColheita:Divindade {nome: 'Deusa da Colheita', descrição: 'Divindade adorada em Solenna'})\n",
      "CREATE (DeusGuerra:Divindade {nome: 'Deus da Guerra', descrição: 'Divindade adorada em Solenna'})\n",
      "CREATE (DeusaSabedoria:Divindade {nome: 'Deusa da Sabedoria', descrição: 'Divindade adorada em Solenna'})\n",
      "CREATE (Sábios:Profissão {nome: 'Sábios', descrição: 'Líderes da guilda de magos em Arcanum'})\n",
      "CREATE (Arcana:Organização {nome: 'Arcana', descrição: 'Academia de magia em Arcanum'})\n",
      "CREATE (Elysia)-[:ESTÁ_EM]->(Ethoria)\n",
      "CREATE (GrandeÁrvoreCelestial)-[:ESTÁ_EM]->(Ethoria)\n",
      "CREATE (GrandeÁrvoreCelestial)-[:VENERA]->(Elysia)\n",
      "CREATE (Elysia)-[:REALIZA]->(:Ritual {nome: 'Ritual de Honra à Grande Árvore Celestial', descrição: 'Ritual realizado pelos Elfos Noturnos em honra à Grande Árvore Celestial'})\n",
      "CREATE (Elysia)-[:CANALIZA]->(:Magia {nome: 'Magia de Cura', descrição: 'Magia canalizada pelos clérigos e sacerdotes elfos para cura'})\n",
      "CREATE (Elysia)-[:CANALIZA]->(:Magia {nome: 'Magia de Proteção', descrição: 'Magia canalizada pelos clérigos e sacerdotes elfos para proteção'})\n",
      "CREATE (Elysia)-[:CANALIZA]->(:Magia {nome: 'Magia de Orientação Espiritual', descrição: 'Magia canalizada pelos clérigos e sacerdotes elfos para orientação espiritual'})\n",
      "CREATE (DeusaColheita)-[:ADORADA_EM]->(Solenna)\n",
      "CREATE (DeusGuerra)-[:ADORADA_EM]->(Solenna)\n",
      "CREATE (DeusaSabedoria)-[:ADORADA_EM]->(Solenna)\n",
      "CREATE (Elysia)-[:REALIZA]->(:Ritual {nome: 'Ritual de Adoração à Deusa da Colheita', descrição: 'Ritual realizado em Solenna em adoração à Deusa da Colheita'})\n",
      "CREATE (Elysia)-[:REALIZA]->(:Ritual {nome: 'Ritual de Adoração ao Deus da Guerra', descrição: 'Ritual realizado em Solenna em adoração ao Deus da Guerra'})\n",
      "CREATE (Elysia)-[:REALIZA]->(:Ritual {nome: 'Ritual de Adoração à Deusa da Sabedoria', descrição: 'Ritual realizado em Solenna em adoração à Deusa da Sabedoria'})\n",
      "CREATE (Sábios)-[:LÍDERES_DA]->(Arcana)\n",
      "CREATE (Elysia)-[:ORIENTA_EM]->(Arcana)\n",
      "CREATE (Elysia)-[:REALIZA]->(:Ritual {nome: 'Ritual de Interpretação dos Sinais Arcanos', descrição: 'Ritual realizado pelos clérigos e sacerdotes arcanos em Arcanum para interpretar os sinais e presságios transmitidos pelos deuses arcanos'})\n",
      "CREATE (Elysia)-[:REALIZA]->(:Ritual {nome: 'Ritual de Orientação Espiritual na Academia de Magia', descrição: 'Ritual realizado pelos clérigos e sacerdotes arcanos em Arcanum para orientar os estudantes em sua jornada espiritual e aprimorar seu conhecimento mágico'})\n",
      "CREATE (Ethoria)-[:TEM_TENSÕES_COM]->(Solenna)\n",
      "CREATE (Ethoria)-[:TEM_TENSÕES_COM]->(Arcanum)\n",
      "CREATE (Solenna)-[:TEM_TENSÕES_COM]->(Arcanum)\n",
      "CREATE (Ethoria)-[:TEM_CONFLITOS_COM]->(Solenna)\n",
      "CREATE (Ethoria)-[:TEM_CONFLITOS_COM]->(Arcanum)\n",
      "CREATE (Solenna)-[:TEM_CONFLITOS_COM]->(Arcanum)\n",
      "CREATE (Ethoria)-[:INFLUENCIA_POLITICAMENTE]->(Solenna)\n",
      "CREATE (Ethoria)-[:INFLUENCIA_POLITICAMENTE]->(Arcanum)\n",
      "CREATE (Solenna)-[:INFLUENCIA_POLITICAMENTE]->(Ethoria)\n",
      "CREATE (Solenna)-[:INFLUENCIA_POLITICAMENTE]->(Arcanum)\n",
      "CREATE (Arcanum)-[:INFLUENCIA_POLITICAMENTE]->(Ethoria)\n",
      "CREATE (Arcanum)-[:INFLUENCIA_POLITICAMENTE]->(Solenna)\n",
      "CREATE (Ethoria:Lugar {nome: 'Ethoria', descrição: 'Um mundo repleto de perigos e aventuras, onde as expressões artísticas são valorizadas'})\n",
      "CREATE (Arte:Lugar {nome: 'Arte', descrição: 'A influência das artes e da cultura é profundamente valorizada e celebrada em Ethoria'})\n",
      "CREATE (Música:Lugar {nome: 'Música', descrição: 'A música tem o poder de unir pessoas, conectar corações e transmitir experiências emocionais de uma maneira única'})\n",
      "CREATE (Cultura:Lugar {nome: 'Cultura', descrição: 'A cultura é valorizada e incentivada em Ethoria'})\n",
      "CREATE (SociedadeDosSeteSóis:Organização {nome: 'Sociedade dos Sete Sóis', descrição: 'Organização famosa por preservar e difundir a história e a música em Ethoria'})\n",
      "CREATE (Solenna:Lugar {nome: 'Solenna', descrição: 'Cidade onde está situada a Sociedade dos Sete Sóis'})\n",
      "CREATE (ReiTristan:Personagem {nome: 'Rei Tristan', descrição: 'Rei de Ethoria que valoriza a importância da arte no desenvolvimento da sociedade'})\n",
      "CREATE (Artistas:Profissão {nome: 'Artistas', descrição: 'Pessoas que se dedicam à expressão artística'})\n",
      "CREATE (Bardos:Profissão {nome: 'Bardos', descrição: 'Pessoas que contam histórias através da música'})\n",
      "CREATE (ContadoresDeHistórias:Profissão {nome: 'Contadores de histórias', descrição: 'Pessoas que narram lendas antigas'})\n",
      "CREATE (Músicos:Profissão {nome: 'Músicos', descrição: 'Pessoas que se dedicam à criação e interpretação musical'})\n",
      "CREATE (Pintores:Profissão {nome: 'Pintores', descrição: 'Pessoas que se dedicam à pintura'})\n",
      "CREATE (Escultores:Profissão {nome: 'Escultores', descrição: 'Pessoas que se dedicam à escultura'})\n",
      "CREATE (Personagem)-[:ESTÁ_EM]->(Ethoria)\n",
      "CREATE (Arte)-[:ESTÁ_EM]->(Ethoria)\n",
      "CREATE (Música)-[:ESTÁ_EM]->(Ethoria)\n",
      "CREATE (Cultura)-[:ESTÁ_EM]->(Ethoria)\n",
      "CREATE (SociedadeDosSeteSóis)-[:ESTÁ_EM]->(Solenna)\n",
      "CREATE (ReiTristan)-[:VALORIZA]->(Arte)\n",
      "CREATE (Solenna)-[:VALORIZA]->(Arte)\n",
      "CREATE (Solenna)-[:VALORIZA]->(Música)\n",
      "CREATE (Solenna)-[:VALORIZA]->(Cultura)\n",
      "CREATE (Artistas)-[:PERTENCE_A]->(SociedadeDosSeteSóis)\n",
      "CREATE (Bardos)-[:PERTENCE_A]->(SociedadeDosSeteSóis)\n",
      "CREATE (ContadoresDeHistórias)-[:PERTENCE_A]->(SociedadeDosSeteSóis)\n",
      "CREATE (Músicos)-[:PERTENCE_A]->(SociedadeDosSeteSóis)\n",
      "CREATE (Pintores)-[:PERTENCE_A]->(SociedadeDosSeteSóis)\n",
      "CREATE (Escultores)-[:PERTENCE_A]->(SociedadeDosSeteSóis)\n",
      "CREATE (Personagem)-[:INTERAGE_COM]->(SociedadeDosSeteSóis)\n",
      "CREATE (Aion:Divindade {nome: 'Aion', descrição: 'Deusa da Luz, trazendo a luz, a esperança e a criação'})\n",
      "CREATE (Tenebris:Divindade {nome: 'Tenebris', descrição: 'Deus das Sombras, trazendo a escuridão, a sabedoria e o poder'})\n",
      "CREATE (Ethoria:Lugar {nome: 'Ethoria', descrição: 'Mundo criado pela união de Aion e Tenebris'})\n",
      "CREATE (DespertarPrimordial:Evento {nome: 'Despertar Primordial', descrição: 'Violenta colisão entre as forças de Aion e Tenebris, criando uma explosão'})\n",
      "CREATE (Aion)-[:CRIADOR_DE]->(Ethoria)\n",
      "CREATE (Tenebris)-[:CRIADOR_DE]->(Ethoria)\n",
      "CREATE (Aion)-[:DIVINDADE_FEMININA]->(Ethoria)\n",
      "CREATE (Tenebris)-[:DIVINDADE_MASCULINA]->(Ethoria)\n",
      "CREATE (Aion)-[:PROTETORA_DO_DIA]->(Ethoria)\n",
      "CREATE (Tenebris)-[:ACOLHE_A_NOITE]->(Ethoria)\n",
      "CREATE (Aion)-[:PROTETORA_DO_SOL]->(Ethoria)\n",
      "CREATE (Tenebris)-[:ACOLHE_A_LUA]->(Ethoria)\n",
      "CREATE (Aion)-[:PROTETORA_DA_VIDA]->(Ethoria)\n",
      "CREATE (Tenebris)-[:GUARDIÃO_DOS_SEGREDOS]->(Ethoria)\n",
      "CREATE (Iluminados:Raça {nome: 'Iluminados', descrição: 'Seres divinos criados pela energia resultante da colisão entre Aion e Tenebris'})\n",
      "CREATE (DespertarPrimordial)-[:GERA]->(Ethoria)\n",
      "CREATE (DespertarPrimordial)-[:GERA]->(Iluminados)\n",
      "CREATE (Elfos:Raça {nome: 'Elfos', descrição: 'Raça que acredita ser descendente direta dos Iluminados'})\n",
      "CREATE (Humanos:Raça {nome: 'Humanos', descrição: 'Raça que acredita ser descendente direta dos Iluminados'})\n",
      "CREATE (Elfos)-[:DESCENDE_DE]->(Iluminados)\n",
      "CREATE (Humanos)-[:DESCENDE_DE]->(Iluminados)\n",
      "CREATE (Elfos)-[:POSSUI_TRAÇOS_FÍSICOS_ESPECIAIS]->(Iluminados)\n",
      "CREATE (Humanos)-[:POSSUI_TRAÇOS_FÍSICOS_ESPECIAIS]->(Iluminados)\n",
      "CREATE (Elfos)-[:POSSUI_HABILIDADES_ESPECIAIS]->(Iluminados)\n",
      "CREATE (Humanos)-[:POSSUI_HABILIDADES_ESPECIAIS]->(Iluminados)\n",
      "CREATE (Raigora:Civilização {nome: 'Raigora', descrição: 'Império poderoso localizado além do vasto deserto conhecido como Areias Flamejantes, com cultura fortemente oriental, práticas de artes marciais, arquitetura de templos sagrados e arte da guerra baseada em estratégia e disciplina'})\n",
      "CREATE (MercadoresDaLua:Civilização {nome: 'Mercadores da Lua', descrição: 'Grupo de navegadores habilidosos e comerciantes astutos, vivendo em uma frota gigantesca de navios, conhecidos por suas feiras ambulantes e influência econômica significativa'})\n",
      "CREATE (ErmosArenosos:Civilização {nome: 'Ermos Arenosos', descrição: 'Tribos nômades que sobrevivem nas vastas extensões do deserto, habilidosas em sobreviver em ambientes inóspitos, domar bestas selvagens e utilizar armas e equipamentos adaptados ao deserto'})\n",
      "CREATE (Lyrune:Civilização {nome: 'Lyrune', descrição: 'Clãs que habitam as densas florestas a oeste de Alden, conhecidos por sua conexão profunda com a natureza, respeito pelos segredos da floresta e rituais místicos'})\n",
      "\n",
      "CREATE (Ethoria:Lugar {nome: 'Ethoria', descrição: 'Reinos de Ethoria'})\n",
      "CREATE (AreiasFlamejantes:Lugar {nome: 'Areias Flamejantes', descrição: 'Vasto deserto além de Ethoria'})\n",
      "\n",
      "CREATE (Raigora)-[:INFLUENCIA]->(Ethoria)\n",
      "CREATE (MercadoresDaLua)-[:INFLUENCIA]->(Ethoria)\n",
      "CREATE (ErmosArenosos)-[:INFLUENCIA]->(Ethoria)\n",
      "CREATE (Lyrune)-[:INFLUENCIA]->(Ethoria)\n",
      "\n",
      "CREATE (Raigora)-[:LOCALIZADO_EM]->(AreiasFlamejantes)\n",
      "CREATE (MercadoresDaLua)-[:LOCALIZADO_EM]->(AreiasFlamejantes)\n",
      "CREATE (ErmosArenosos)-[:LOCALIZADO_EM]->(AreiasFlamejantes)\n",
      "CREATE (Lyrune)-[:LOCALIZADO_EM]->(Ethoria)\n",
      "CREATE (Ethoria:Lugar {nome: 'Ethoria', descrição: 'Mundo onde os conflitos e a política desempenham um papel significativo'})\n",
      "CREATE (Chambral:Lugar {nome: 'Chambral', descrição: 'Reino com disputas territoriais e rivalidades com Alden'})\n",
      "CREATE (Alden:Lugar {nome: 'Alden', descrição: 'Reino com disputas territoriais e rivalidades com Chambral'})\n",
      "CREATE (Batalha:Conflito {nome: 'Batalha', descrição: 'Conflitos épicos entre exércitos rivais'})\n",
      "CREATE (Aliança:Relação {nome: 'Aliança', descrição: 'Formação de alianças políticas'})\n",
      "CREATE (Amara:Personagem {nome: 'Amara', descrição: 'Rainha de Alden'})\n",
      "CREATE (EstrelasDoDragão:Organização {nome: 'Estrelas do Dragão', descrição: 'Guilda de Chambral'})\n",
      "CREATE (Horda:Conflito {nome: 'Horda de criaturas dracônicas', descrição: 'Ameaça em comum para Alden e Chambral'})\n",
      "CREATE (Cicatrizes:Condição {nome: 'Cicatrizes', descrição: 'Marcas visíveis deixadas pelas batalhas'})\n",
      "CREATE (Diplomacia:Relação {nome: 'Diplomacia', descrição: 'Negociações entre reinos'})\n",
      "CREATE (Trono:Construção {nome: 'Trono', descrição: 'Disputas pelo trono'})\n",
      "CREATE (CasaNobre:Organização {nome: 'Casa Nobre', descrição: 'Rivalidades entre casas nobres'})\n",
      "CREATE (ConflitoInterno:Conflito {nome: 'Conflito interno', descrição: 'Disputas e lutas pelo poder dentro dos reinos'})\n",
      "CREATE (Ethoria)-[:OCORRE_EM]->(Chambral)\n",
      "CREATE (Ethoria)-[:OCORRE_EM]->(Alden)\n",
      "CREATE (Chambral)-[:DISPUTA_TERRITORIAL]->(Alden)\n",
      "CREATE (Chambral)-[:PARTICIPA_DE]->(Batalha)\n",
      "CREATE (Alden)-[:PARTICIPA_DE]->(Batalha)\n",
      "CREATE (Amara)-[:BUSCA_ALIANÇA_COM]->(EstrelasDoDragão)\n",
      "CREATE (EstrelasDoDragão)-[:BUSCA_ALIANÇA_COM]->(Amara)\n",
      "CREATE (Amara)-[:ENFRENTA]->(Horda)\n",
      "CREATE (Chambral)-[:SOFRE_CONSEQUÊNCIAS_DE]->(Cicatrizes)\n",
      "CREATE (Alden)-[:SOFRE_CONSEQUÊNCIAS_DE]->(Cicatrizes)\n",
      "CREATE (Ethoria)-[:ENVOLVE]->(Diplomacia)\n",
      "CREATE (Amara)-[:ENVOLVE]->(Diplomacia)\n",
      "CREATE (Trono)-[:ENVOLVE]->(ConflitoInterno)\n",
      "CREATE (CasaNobre)-[:ENVOLVE]->(ConflitoInterno)\n",
      "CREATE (Ethoria:Lugar {nome: 'Ethoria', descrição: 'Mundo onde as leis da natureza são essenciais'})\n",
      "CREATE (LeisDaNatureza:Lei {nome: 'Leis da Natureza', descrição: 'Leis que moldam o ambiente físico e a vida cotidiana em Ethoria'})\n",
      "CREATE (Fogo:Elemento {nome: 'Fogo', descrição: 'Elemento presente em diferentes regiões de Ethoria'})\n",
      "CREATE (Água:Elemento {nome: 'Água', descrição: 'Elemento presente em diferentes regiões de Ethoria'})\n",
      "CREATE (Terra:Elemento {nome: 'Terra', descrição: 'Elemento presente em diferentes regiões de Ethoria'})\n",
      "CREATE (Ar:Elemento {nome: 'Ar', descrição: 'Elemento presente em diferentes regiões de Ethoria'})\n",
      "CREATE (CriaturasMísticas:MitoOuLenda {nome: 'Criaturas Místicas', descrição: 'Criaturas místicas que habitam as florestas, desertos e planícies de Ethoria'})\n",
      "CREATE (Magia:FeitiçoOuHabilidade {nome: 'Magia', descrição: 'Fonte de poder mágico intrinsecamente ligada ao mundo natural'})\n",
      "CREATE (Agricultura:Profição {nome: 'Agricultura', descrição: 'Atividade influenciada pelos ciclos da natureza em Ethoria'})\n",
      "CREATE (Exploração:Profição {nome: 'Exploração', descrição: 'Atividade que requer conhecimento das leis da natureza em Ethoria'})\n",
      "CREATE (Habilidades:FeitiçoOuHabilidade {nome: 'Habilidades dos Personagens', descrição: 'Habilidades influenciadas pelas leis da natureza em Ethoria'})\n",
      "\n",
      "CREATE (Ethoria)-[:POSSUI]->(LeisDaNatureza)\n",
      "CREATE (Ethoria)-[:POSSUI]->(Fogo)\n",
      "CREATE (Ethoria)-[:POSSUI]->(Água)\n",
      "CREATE (Ethoria)-[:POSSUI]->(Terra)\n",
      "CREATE (Ethoria)-[:POSSUI]->(Ar)\n",
      "CREATE (Ethoria)-[:POSSUI]->(CriaturasMísticas)\n",
      "CREATE (Ethoria)-[:POSSUI]->(Magia)\n",
      "CREATE (Ethoria)-[:POSSUI]->(Agricultura)\n",
      "CREATE (Ethoria)-[:POSSUI]->(Exploração)\n",
      "CREATE (Ethoria)-[:POSSUI]->(Habilidades)\n"
     ]
    }
   ],
   "source": [
    "cypher_all = \"\\n\".join(ls_cypher_bg)\n",
    "print(cypher_all)"
   ]
  },
  {
   "cell_type": "code",
   "execution_count": 48,
   "id": "3e911d1c-79ed-4f4b-a6ad-dd10581f27fd",
   "metadata": {},
   "outputs": [
    {
     "name": "stdout",
     "output_type": "stream",
     "text": [
      "Você é um programador profissional que remove entradas repetidas de consultas Cypher para o banco de dados Neo4j.\n",
      "\n",
      "Todas as Construções (edifícios ou pontos de referência), Personagens, Condições, Documentos, Etnias, Localizações geográficas, Itens, Leis (naturais e metafísicas), Idiomas, Materiais, Conflitos militares, Formações militares, Mitos e lendas, Organizações, Profissões, Prosa, Postos e títulos, Relatório de sessão, Assentamentos, Espécies, Feitiços e habilidades, Enredos de histórias, Tecnologias e ciências, Tradições e rituais e Veículos presentes no texto devem ser representados como vértices (nodes). \n",
      "\n",
      "Os nodes podem ter somente os labels \"Construção\", \"Personagem\", \"Condição\", \"Documento\", \"Etnia\", \"Localização geográfica\", \"Item\", \"Lei\", \"Idioma\", \"Material\", \"Conflitos militares\", \"Formação militar\", \"Mito ou lenda\", \"Organização\", \"Profissão\", \"Prosa\", \"Posto ou título\", \"Relatório de sessão\", \"Assentamento\", \"Espécie\", \"Feitiço ou habilidade\", \"Tecnologia ou ciência\", \"Tradição ou ritual\", \"Veículo\" e \"Outro\".\n",
      "\n",
      "Os nós devem ter as propriedades \"nome\", o nome da entidade, e 'descrição', uma descrição detalhada com todas as informações referentes à entidade. Os relacionamentos entre eles devem ser representados como arestas (edges).\n",
      "\n",
      "Você nunca explica seu código.\n"
     ]
    }
   ],
   "source": [
    "system_resume_query = \"\"\"Você é um programador profissional que remove entradas repetidas de consultas Cypher para o banco de dados Neo4j.\n",
    "Se existem \n",
    "\n",
    "Todas as Construções (edifícios ou pontos de referência), Personagens, Condições, Documentos, Etnias, Localizações geográficas, Itens, Leis (naturais e metafísicas), Idiomas, Materiais, Conflitos militares, Formações militares, Mitos e lendas, Organizações, Profissões, Prosa, Postos e títulos, Relatório de sessão, Assentamentos, Espécies, Feitiços e habilidades, Enredos de histórias, Tecnologias e ciências, Tradições e rituais e Veículos presentes no texto devem ser representados como vértices (nodes). \n",
    "\n",
    "Os nodes podem ter somente os labels \"Construção\", \"Personagem\", \"Condição\", \"Documento\", \"Etnia\", \"Localização geográfica\", \"Item\", \"Lei\", \"Idioma\", \"Material\", \"Conflitos militares\", \"Formação militar\", \"Mito ou lenda\", \"Organização\", \"Profissão\", \"Prosa\", \"Posto ou título\", \"Relatório de sessão\", \"Assentamento\", \"Espécie\", \"Feitiço ou habilidade\", \"Tecnologia ou ciência\", \"Tradição ou ritual\", \"Veículo\" e \"Outro\".\n",
    "\n",
    "Os nós devem ter as propriedades \"nome\", o nome da entidade, e 'descrição', uma descrição detalhada com todas as informações referentes à entidade. Os relacionamentos entre eles devem ser representados como arestas (edges).\n",
    "\n",
    "Você nunca explica seu código.\"\"\"\n",
    "\n",
    "print(system_resume_query)"
   ]
  },
  {
   "cell_type": "code",
   "execution_count": null,
   "id": "d4892dd3-bfb6-49e1-b711-372c92e5f913",
   "metadata": {
    "scrolled": true
   },
   "outputs": [],
   "source": [
    "cypher_bg_all = api_t0_16k.predict_messages([SystemMessage(content=system_resume_query),\n",
    "                                      HumanMessage(content=cypher_all)])"
   ]
  },
  {
   "cell_type": "code",
   "execution_count": 59,
   "id": "4b46b61c-fe2c-45c4-afd8-b094da1ac0df",
   "metadata": {
    "scrolled": true
   },
   "outputs": [
    {
     "name": "stdout",
     "output_type": "stream",
     "text": [
      "CREATE (Ethoria:Lugar {nome: 'Ethoria', descrição: 'Terra distante onde a magia e a aventura se entrelaçam'})\n",
      "CREATE (Chambral:Lugar {nome: 'Chambral', descrição: 'Reino repleto de altas montanhas e florestas densas'})\n",
      "CREATE (Eardam:Personagem {nome: 'Eardam', descrição: 'Rei de Chambral conhecido por sua sabedoria e justiça'})\n",
      "CREATE (CidadeDePedra:Lugar {nome: 'Cidade de Pedra', descrição: 'Capital de Chambral, um local agitado, cheio de mercadores animados e tabernas barulhentas'})\n",
      "CREATE (EstrelasDoDragão:Organização {nome: 'Estrelas do Dragão', descrição: 'Renomada guilda de caçadores de dragões em Chambral'})\n",
      "CREATE (Alden:Lugar {nome: 'Alden', descrição: 'Reino conhecido por sua classe guerreira e arquitetura grandiosa'})\n",
      "CREATE (Amara:Personagem {nome: 'Amara', descrição: 'Rainha de Alden, uma estrategista habilidosa'})\n",
      "CREATE (Velastra:Objeto {nome: 'Velastra', descrição: 'Espada lendária forjada nas profundezas de uma masmorra ancestral em Alden'})\n",
      "CREATE (TerrasSombrias:Lugar {nome: 'Terras Sombrias', descrição: 'Região perigosa e cheia de mistérios'})\n",
      "CREATE (ElfosNoturnos:Etnia {nome: 'Elfos Noturnos', descrição: 'Raça misteriosa e reclusa'})\n",
      "CREATE (Íride:Personagem {nome: 'Íride', descrição: 'Rainha dos Elfos Noturnos'})\n",
      "CREATE (DevoradoresDeSonhos:Organização {nome: 'Devoradores de Sonhos', descrição: 'Seita sombria que busca usar a magia dos elfos noturnos'})\n",
      "CREATE (GrandeÁrvoreCelestial:Construção {nome: 'Grande Árvore Celestial', descrição: 'Árvore ancestral onde um antigo demônio dorme nas raízes'})\n",
      "CREATE (Solenna:Lugar {nome: 'Solenna', descrição: 'Reino banhado por rios sinuosos e vastas planícies repletas de colheitas'})\n",
      "CREATE (Tristan:Personagem {nome: 'Tristan', descrição: 'Rei de Solenna, conhecido por sua rica cultura artística e excelentes cavaleiros'})\n",
      "CREATE (SociedadeDosSeteSóis:Organização {nome: 'Sociedade dos Sete Sóis', descrição: 'Organização de bardos dedicados a preservar e difundir a história e a música'})\n",
      "CREATE (Arcanum:Lugar {nome: 'Arcanum', descrição: 'Reino místico cheio de segredos e conhecimento arcano'})\n",
      "CREATE (OsSábios:Organização {nome: 'Os Sábios', descrição: 'Guilda de magos que governa Arcanum'})\n",
      "CREATE (OVéu:Construção {nome: 'O Véu', descrição: 'Barreira mágica que protege Arcanum'})\n",
      "CREATE (TorreDoÉbano:Construção {nome: 'Torre do Ébano', descrição: 'Local de treinamento para jovens aprendizes em Arcanum'})\n",
      "CREATE (Chambral:Assentamento {nome: 'Chambral', descrição: 'Reino governado por uma monarquia liderada pelo rei Eardam'})\n",
      "CREATE (Assembleia:Organização {nome: 'Assembleia', descrição: 'Órgão consultivo composto por líderes das guildas e representantes dos diferentes distritos e cidades de Chambral'})\n",
      "CREATE (Alden:Assentamento {nome: 'Alden', descrição: 'Reino governado por uma monarquia absoluta liderada pela rainha Amara'})\n",
      "CREATE (TerrasSombrias:Assentamento {nome: 'Terras Sombrias', descrição: 'Reino dos Elfos Noturnos organizado de forma tribal'})\n",
      "CREATE (Conselho:Organização {nome: 'Conselho de Anciãos', descrição: 'Órgão consultivo composto por líderes tribais e sábios das Terras Sombrias'})\n",
      "CREATE (Solenna:Assentamento {nome: 'Solenna', descrição: 'Reino governado por uma monarquia parlamentar liderada pelo rei Tristan'})\n",
      "CREATE (AssembleiaNobres:Organização {nome: 'Assembleia de Nobres', descrição: 'Órgão legislativo composto por nobres eleitos em Solenna'})\n",
      "CREATE (SociedadeSeteSóis:Organização {nome: 'Sociedade dos Sete Sóis', descrição: 'Organização de bardos de renome em Solenna'})\n",
      "CREATE (Arcanum:Assentamento {nome: 'Arcanum', descrição: 'Reino governado pela Guilda dos Sábios'})\n",
      "CREATE (GrandeMago:Personagem {nome: 'Grande Mago', descrição: 'Líder da Guilda dos Sábios em Arcanum'})\n",
      "CREATE (GuildaSábios:Organização {nome: 'Guilda dos Sábios', descrição: 'Organização de magos poderosos e sábios em Arcanum'})\n",
      "CREATE (TorreÉbano:Construção {nome: 'Torre do Ébano', descrição: 'Local de treinamento para jovens aprendizes em Arcanum'})\n",
      "CREATE (Ethoria:Lugar {nome: 'Ethoria', descrição: 'Um mundo onde as relações raciais, de classe e de gênero são elementos-chave que moldam as interações entre os personagens e as comunidades'})\n",
      "CREATE (Humanos:Etnia {nome: 'Humanos', descrição: 'Raça mais comum em Ethoria, ocupando a maioria das posições de poder e influência'})\n",
      "CREATE (Elfos:Etnia {nome: 'Elfos', descrição: 'Raça com características distintas, muitas vezes relegada a papéis secundários ou estereotipados em certas profissões'})\n",
      "CREATE (Anões:Etnia {nome: 'Anões', descrição: 'Raça com características distintas, muitas vezes relegada a papéis secundários ou estereotipados em certas profissões'})\n",
      "CREATE (Gnomos:Etnia {nome: 'Gnomos', descrição: 'Raça com características distintas, muitas vezes relegada a papéis secundários ou estereotipados em certas profissões'})\n",
      "CREATE (Aristocracia:Classe {nome: 'Aristocracia', descrição: 'Classe governante com privilégios e riquezas'})\n",
      "CREATE (ClasseMédia:Classe {nome: 'Classe Média', descrição: 'Classe com desafios e aspirações, buscando ascensão social e oportunidades'})\n",
      "CREATE (Camponeses:Classe {nome: 'Camponeses', descrição: 'Classe que vive em condições precárias, com escassez de recursos e falta de acesso a serviços básicos'})\n",
      "CREATE (Mulheres:Gênero {nome: 'Mulheres', descrição: 'Gênero que enfrenta desafios para conquistar posições de poder e respeito em uma sociedade patriarcal'})\n",
      "CREATE (Elysia)-[:VIVE_EM]->(Ethoria)\n",
      "CREATE (Elysia)-[:PERTENCE_A]->(Humanos)\n",
      "CREATE (Elysia)-[:ENFRENTA]->(Elfos)\n",
      "CREATE (Elysia)-[:ENFRENTA]->(Anões)\n",
      "CREATE (Elysia)-[:ENFRENTA]->(Gnomos)\n",
      "CREATE (Humanos)-[:OCUPA]->(Aristocracia)\n",
      "CREATE (Elfos)-[:RELEGADOS_A]->(Profissão {nome: 'Artesãos', descrição: 'Profissão estereotipada para elfos'})\n",
      "CREATE (Anões)-[:RELEGADOS_A]->(Profissão {nome: 'Comerciantes', descrição: 'Profissão estereotipada para anões'})\n",
      "CREATE (Gnomos)-[:RELEGADOS_A]->(Profissão {nome: 'Comerciantes', descrição: 'Profissão estereotipada para gnomos'})\n",
      "CREATE (Aristocracia)-[:GOVERNA]->(Ethoria)\n",
      "CREATE (ClasseMédia)-[:BUSCA]->(AscensãoSocial {nome: 'Ascensão Social', descrição: 'Busca por ascensão social e oportunidades'})\n",
      "CREATE (Camponeses)-[:VIVEM_EM]->(CondiçõesPrecárias {nome: 'Condições Precárias', descrição: 'Vivem em condições precárias, com escassez de recursos e falta de acesso a serviços básicos'})\n",
      "CREATE (Mulheres)-[:ENFRENTAM]->(Discriminação {nome: 'Discriminação', descrição: 'Enfrentam discriminação e preconceito devido às normas de gênero estabelecidas'})\n",
      "CREATE (Elysia)-[:ENFRENTA]->(Mulheres)\n",
      "CREATE (Elysia)-[:INSPIRA]->(PersonagensInspiração {nome: 'Personagens Inspiração', descrição: 'Personagens inspiradores desafiando as expectativas e lutando contra a opressão'})\n",
      "CREATE (Ethoria:Lugar {nome: 'Ethoria', descrição: 'Mundo fantástico onde a distribuição de riqueza é um tema importante e um ponto central de conflito socioeconômico'})\n",
      "CREATE (Chambral:Lugar {nome: 'Chambral', descrição: 'Reino com montanhas ricas em minerais preciosos, como ouro e prata'})\n",
      "CREATE (Arcanum:Lugar {nome: 'Arcanum', descrição: 'Reino com vastas reservas de cristais mágicos'})\n",
      "CREATE (Corporações:Organização {nome: 'Grandes corporações de mineração', descrição: 'Controladas pelos nobres e pela realeza, exploram os recursos naturais de Chambral'})\n",
      "CREATE (Nobres:Organização {nome: 'Nobres', descrição: 'Detêm o controle das grandes corporações de mineração em Chambral'})\n",
      "CREATE (Realeza:Organização {nome: 'Realeza', descrição: 'Detêm o controle das grandes corporações de mineração em Chambral'})\n",
      "CREATE (ComunidadesLocais:Assentamento {nome: 'Comunidades locais', descrição: 'Vivem nas proximidades das minas em Chambral'})\n",
      "CREATE (GuildaMagos:Organização {nome: 'Os Sábios', descrição: 'Guilda de magos com monopólio sobre a extração e o comércio de cristais mágicos em Arcanum'})\n",
      "CREATE (Magos:Profissão {nome: 'Magos', descrição: 'Membros da guilda Os Sábios em Arcanum'})\n",
      "CREATE (PopulaçãoComum:Assentamento {nome: 'População comum', descrição: 'Habitantes comuns de Arcanum'})\n",
      "CREATE (RegiõesPobres:Assentamento {nome: 'Regiões mais pobres', descrição: 'Onde os recursos naturais são escassos e o comércio é limitado'})\n",
      "CREATE (LigaComércioJusto:Organização {nome: 'Liga do Comércio Justo', descrição: 'Guilda de mercadores que promove um comércio mais equilibrado e justo entre os reinos'})\n",
      "CREATE (MovimentosResistência:Organização {nome: 'Movimentos de resistência', descrição: 'Liderados por aventureiros e heróis, lutam contra a opressão dos poderosos e defendem os direitos das pessoas comuns'})\n",
      "CREATE (Chambral)-[:FAZ_PARTE_DE]->(Ethoria)\n",
      "CREATE (Arcanum)-[:FAZ_PARTE_DE]->(Ethoria)\n",
      "CREATE (Corporações)-[:CONTROLADO_POR]->(Nobres)\n",
      "CREATE (Corporações)-[:CONTROLADO_POR]->(Realeza)\n",
      "CREATE (ComunidadesLocais)-[:ESTÁ_EM]->(Chambral)\n",
      "CREATE (GuildaMagos)-[:CONTROLA]->(Arcanum)\n",
      "CREATE (Magos)-[:FAZ_PARTE]->(GuildaMagos)\n",
      "CREATE (PopulaçãoComum)-[:ESTÁ_EM]->(Arcanum)\n",
      "CREATE (RegiõesPobres)-[:ESTÁ_EM]->(Ethoria)\n",
      "CREATE (LigaComércioJusto)-[:ATUA_EM]->(Ethoria)\n",
      "CREATE (MovimentosResistência)-[:ATUA_EM]->(Ethoria)\n",
      "CREATE (Chambral:Assentamento {nome: 'Chambral', descrição: 'Reino conhecido por abrigar a renomada guilda de caçadores de dragões, as Estrelas do Dragão'})\n",
      "CREATE (EstrelasDoDragão:Organização {nome: 'Estrelas do Dragão', descrição: 'Guilda de caçadores de dragões especializada em caçar e proteger a população dos temíveis dragões'})\n",
      "CREATE (Jareth:Personagem {nome: 'Jareth', descrição: 'Mestre das guildas e líder das Estrelas do Dragão'})\n",
      "CREATE (Chambral)-[:ABRIGA]->(EstrelasDoDragão)\n",
      "CREATE (EstrelasDoDragão)-[:LIDERADA_POR]->(Jareth)\n",
      "CREATE (Alden:Assentamento {nome: 'Alden', descrição: 'Reino conhecido pela sua guarda real'})\n",
      "CREATE (GuardaReal:Organização {nome: 'Guarda Real', descrição: 'Elite de guerreiros treinados para a proteção da rainha Amara, do reino e de seus cidadãos'})\n",
      "CREATE (Garius:Personagem {nome: 'Garius', descrição: 'Comandante da guarda real'})\n",
      "CREATE (Alden)-[:ABRIGA]->(GuardaReal)\n",
      "CREATE (GuardaReal)-[:LIDERADA_POR]->(Garius)\n",
      "CREATE (Chambral)-[:POSSUI]->(LegiãoDasMontanhas:FormaçãoMilitar {nome: 'Legião das Montanhas', descrição: 'Exército treinado para combater inimigos em terrenos acidentados e hostis'})\n",
      "CREATE (Skarn:Personagem {nome: 'Skarn', descrição: 'General da Legião das Montanhas'})\n",
      "CREATE (LegiãoDasMontanhas)-[:LIDERADA_POR]->(Skarn)\n",
      "CREATE (Solenna:Assentamento {nome: 'Solenna', descrição: 'Reino conhecido pelos Guardiões do Sol'})\n",
      "CREATE (GuardiõesDoSol:FormaçãoMilitar {nome: 'Guardiões do Sol', descrição: 'Exército composto por cavaleiros habilidosos e treinados nas artes da guerra'})\n",
      "CREATE (Renald:Personagem {nome: 'Renald', descrição: 'General dos Guardiões do Sol'})\n",
      "CREATE (Solenna)-[:ABRIGA]->(GuardiõesDoSol)\n",
      "CREATE (GuardiõesDoSol)-[:LIDERADA_POR]->(Renald)\n",
      "CREATE (Arcanum:Assentamento {nome: 'Arcanum', descrição: 'Reino com foco militar nas ordens de magos e conjuradores'})\n",
      "CREATE (OrdemDosCincoArcanos:Organização {nome: 'Ordem dos Cinco Arcanos', descrição: 'Grupo de magos habilidosos que utilizam suas habilidades arcanas em batalhas para proteger o reino contra ameaças mágicas'})\n",
      "CREATE (Xandor:Personagem {nome: 'Xandor', descrição: 'Grande Mago e líder da Ordem dos Cinco Arcanos'})\n",
      "CREATE (Arcanum)-[:ABRIGA]->(OrdemDosCincoArcanos)\n",
      "CREATE (OrdemDosCincoArcanos)-[:LIDERADA_POR]->(Xandor)\n",
      "CREATE (Ethoria:Lugar {nome: 'Ethoria', descrição: 'Reino onde a influência religiosa é uma parte central da vida dos habitantes'})\n",
      "CREATE (GrandeÁrvoreCelestial:Construção {nome: 'Grande Árvore Celestial', descrição: 'Representação viva dos deuses, venerada como um ser sagrado pelos Elfos Noturnos'})\n",
      "CREATE (DeusaColheita:Divindade {nome: 'Deusa da Colheita', descrição: 'Divindade adorada em Solenna'})\n",
      "CREATE (DeusGuerra:Divindade {nome: 'Deus da Guerra', descrição: 'Divindade adorada em Solenna'})\n",
      "CREATE (DeusaSabedoria:Divindade {nome: 'Deusa da Sabedoria', descrição: 'Divindade adorada em Solenna'})\n",
      "CREATE (Sábios:Profissão {nome: 'Sábios', descrição: 'Líderes da guilda de magos em Arcanum'})\n",
      "CREATE (Arcana:Organização {nome: 'Arcana', descrição: 'Academia de magia em Arcanum'})\n",
      "CREATE (Elysia)-[:ESTÁ_EM]->(Ethoria)\n",
      "CREATE (GrandeÁrvoreCelestial)-[:ESTÁ_EM]->(Ethoria)\n",
      "CREATE (GrandeÁrvoreCelestial)-[:VENERA]->(Elysia)\n",
      "CREATE (Elysia)-[:REALIZA]->(:Ritual {nome: 'Ritual de Honra à Grande Árvore Celestial', descrição: 'Ritual realizado pelos Elfos Noturnos em honra à Grande Árvore Celestial'})\n",
      "CREATE (Elysia)-[:CANALIZA]->(:Magia {nome: 'Magia de Cura', descrição: 'Magia canalizada pelos clérigos e sacerdotes elfos para cura'})\n",
      "CREATE (Elysia)-[:CANALIZA]->(:Magia {nome: 'Magia de Proteção', descrição: 'Magia canalizada pelos clérigos e sacerdotes elfos para proteção'})\n",
      "CREATE (Elysia)-[:CANALIZA]->(:Magia {nome: 'Magia de Orientação Espiritual', descrição: 'Magia canalizada pelos clérigos e sacerdotes elfos para orientação espiritual'})\n",
      "CREATE (DeusaColheita)-[:ADORADA_EM]->(Solenna)\n",
      "CREATE (DeusGuerra)-[:ADORADA_EM]->(Solenna)\n",
      "CREATE (DeusaSabedoria)-[:ADORADA_EM]->(Solenna)\n",
      "CREATE (Elysia)-[:REALIZA]->(:Ritual {nome: 'Ritual de Adoração à Deusa da Colheita', descrição: 'Ritual realizado em Solenna em adoração à Deusa da Colheita'})\n",
      "CREATE (Elysia)-[:REALIZA]->(:Ritual {nome: 'Ritual de Adoração ao Deus da Guerra', descrição: 'Ritual realizado em Solenna em adoração ao Deus da Guerra'})\n",
      "CREATE (Elysia)-[:REALIZA]->(:Ritual {nome: 'Ritual de Adoração à Deusa da Sabedoria', descrição: 'Ritual realizado em Solenna em adoração à Deusa da Sabedoria'})\n",
      "CREATE (Sábios)-[:LÍDERES_DA]->(Arcana)\n",
      "CREATE (Elysia)-[:ORIENTA_EM]->(Arcana)\n",
      "CREATE (Elysia)-[:REALIZA]->(:Ritual {nome: 'Ritual de Interpretação dos Sinais Arcanos', descrição: 'Ritual realizado pelos clérigos e sacerdotes arcanos em Arcanum para interpretar os sinais e presságios transmitidos pelos deuses arcanos'})\n",
      "CREATE (Elysia)-[:REALIZA]->(:Ritual {nome: 'Ritual de Orientação Espiritual na Academia de Magia', descrição: 'Ritual realizado pelos clérigos e sacerdotes arcanos em Arcanum para orientar os estudantes em sua jornada espiritual e aprimorar seu conhecimento mágico'})\n",
      "CREATE (Ethoria)-[:TEM_TENSÕES_COM]->(Solenna)\n",
      "CREATE (Ethoria)-[:TEM_TENSÕES_COM]->(Arcanum)\n",
      "CREATE (Solenna)-[:TEM_TENSÕES_COM]->(Arcanum)\n",
      "CREATE (Ethoria)-[:TEM_CONFLITOS_COM]->(Solenna)\n",
      "CREATE (Ethoria)-[:TEM_CONFLITOS_COM]->(Arcanum)\n",
      "CREATE (Solenna)-[:TEM_CONFLITOS_COM]->(Arcanum)\n",
      "CREATE (Ethoria)-[:INFLUENCIA_POLITICAMENTE]->(Solenna)\n",
      "CREATE (Ethoria)-[:INFLUENCIA_POLITICAMENTE]->(Arcanum)\n",
      "CREATE (Solenna)-[:INFLUENCIA_POLITICAMENTE]->(Ethoria)\n",
      "CREATE (Solenna)-[:INFLUENCIA_POLITICAMENTE]->(Arcanum)\n",
      "CREATE (Arcanum)-[:INFLUENCIA_POLITICAMENTE]->(Ethoria)\n",
      "CREATE (Arcanum)-[:INFLUENCIA_POLITICAMENTE]->(Solenna)\n",
      "CREATE (Ethoria:Lugar {nome: 'Ethoria', descrição: 'Mundo repleto de perigos e aventuras, onde as expressões artísticas são valorizadas'})\n",
      "CREATE (Arte:Lugar {nome: 'Arte', descrição: 'A influência das artes e da cultura é profundamente valorizada e celebrada em Ethoria'})\n",
      "CREATE (Música:Lugar {nome: 'Música', descrição: 'A música tem o poder de unir pessoas, conectar corações e transmitir experiências emocionais de uma maneira única'})\n",
      "CREATE (Cultura:Lugar {nome: 'Cultura', descrição: 'A cultura é valorizada e incentivada em Ethoria'})\n",
      "CREATE (SociedadeDosSeteSóis:Organização {nome: 'Sociedade dos Sete Sóis', descrição: 'Organização famosa por preservar e difundir a história e a música em Ethoria'})\n",
      "CREATE (Solenna:Lugar {nome: 'Solenna', descrição: 'Cidade onde está situada a Sociedade dos Sete Sóis'})\n",
      "CREATE (ReiTristan:Personagem {nome: 'Rei Tristan', descrição: 'Rei de Ethoria que valoriza a importância da arte no desenvolvimento da sociedade'})\n",
      "CREATE (Artistas:Profissão {nome: 'Artistas', descrição: 'Pessoas que se dedicam à expressão artística'})\n",
      "CREATE (Bardos:Profissão {nome: 'Bardos', descrição: 'Pessoas que contam histórias através da música'})\n",
      "CREATE (ContadoresDeHistórias:Profissão {nome: 'Contadores de histórias', descrição: 'Pessoas que narram lendas antigas'})\n",
      "CREATE (Músicos:Profissão {nome: 'Músicos', descrição: 'Pessoas que se dedicam à criação e interpretação musical'})\n",
      "CREATE (Pintores:Profissão {nome: 'Pintores', descrição: 'Pessoas que se dedicam à pintura'})\n",
      "CREATE (Escultores:Profissão {nome: 'Escultores', descrição: 'Pessoas que se dedicam à escultura'})\n",
      "CREATE (Personagem)-[:ESTÁ_EM]->(Ethoria)\n",
      "CREATE (Arte)-[:ESTÁ_EM]->(Ethoria)\n",
      "CREATE (Música)-[:ESTÁ_EM]->(Ethoria)\n",
      "CREATE (Cultura)-[:ESTÁ_EM]->(Ethoria)\n",
      "CREATE (SociedadeDosSeteSóis)-[:ESTÁ_EM]->(Solenna)\n",
      "CREATE (ReiTristan)-[:VALORIZA]->(Arte)\n",
      "CREATE (Solenna)-[:VALORIZA]->(Arte)\n",
      "CREATE (Solenna)-[:VALORIZA]->(Música)\n",
      "CREATE (Solenna)-[:VALORIZA]->(Cultura)\n",
      "CREATE (Artistas)-[:PERTENCE_A]->(SociedadeDosSeteSóis)\n",
      "CREATE (Bardos)-[:PERTENCE_A]->(SociedadeDosSeteSóis)\n",
      "CREATE (ContadoresDeHistórias)-[:PERTENCE_A]->(SociedadeDosSeteSóis)\n",
      "CREATE (Músicos)-[:PERTENCE_A]->(SociedadeDosSeteSóis)\n",
      "CREATE (Pintores)-[:PERTENCE_A]->(SociedadeDosSeteSóis)\n",
      "CREATE (Escultores)-[:PERTENCE_A]->(SociedadeDosSeteSóis)\n",
      "CREATE (Personagem)-[:INTERAGE_COM]->(SociedadeDosSeteSóis)\n",
      "CREATE (Aion:Divindade {nome: 'Aion', descrição: 'Deusa da Luz, trazendo a luz, a esperança e a criação'})\n",
      "CREATE (Tenebris:Divindade {nome: 'Tenebris', descrição: 'Deus das Sombras, trazendo a escuridão, a sabedoria e o poder'})\n",
      "CREATE (Ethoria:Lugar {nome: 'Ethoria', descrição: 'Mundo criado pela união de Aion e Tenebris'})\n",
      "CREATE (DespertarPrimordial:Evento {nome: 'Despertar Primordial', descrição: 'Violenta colisão entre as forças de Aion e Tenebris, criando uma explosão'})\n",
      "CREATE (Aion)-[:CRIADOR_DE]->(Ethoria)\n",
      "CREATE (Tenebris)-[:CRIADOR_DE]->(Ethoria)\n",
      "CREATE (Aion)-[:DIVINDADE_FEMININA]->(Ethoria)\n",
      "CREATE (Tenebris)-[:DIVINDADE_MASCULINA]->(Ethoria)\n",
      "CREATE (Aion)-[:PROTETORA_DO_DIA]->(Ethoria)\n",
      "CREATE (Tenebris)-[:ACOLHE_A_NOITE]->(Ethoria)\n",
      "CREATE (Aion)-[:PROTETORA_DO_SOL]->(Ethoria)\n",
      "CREATE (Tenebris)-[:ACOLHE_A_LUA]->(Ethoria)\n",
      "CREATE (Aion)-[:PROTETORA_DA_VIDA]->(Ethoria)\n",
      "CREATE (Tenebris)-[:GUARDIÃO_DOS_SEGREDOS]->(Ethoria)\n",
      "CREATE (Iluminados:Raça {nome: 'Iluminados', descrição: 'Seres divinos criados pela energia resultante da colisão entre Aion e Tenebris'})\n",
      "CREATE (DespertarPrimordial)-[:GERA]->(Ethoria)\n",
      "CREATE (DespertarPrimordial)-[:GERA]->(Iluminados)\n",
      "CREATE (Elfos:Raça {nome: 'Elfos', descrição: 'Raça que acredita ser descendente direta dos Iluminados'})\n",
      "CREATE (Humanos:Raça {nome: 'Humanos', descrição: 'Raça que acredita ser descendente direta dos Iluminados'})\n",
      "CREATE (Elfos)-[:DESCENDE_DE]->(Iluminados)\n",
      "CREATE (Humanos)-[:DESCENDE_DE]->(Iluminados)\n",
      "CREATE (Elfos)-[:POSSUI_TRAÇOS_FÍSICOS_ESPECIAIS]->(Iluminados)\n",
      "CREATE (Humanos)-[:POSSUI_TRAÇOS_FÍSICOS_ESPECIAIS]->(Iluminados)\n",
      "CREATE (Elfos)-[:POSSUI_HABILIDADES_ESPECIAIS]->(Iluminados)\n",
      "CREATE (Humanos)-[:POSSUI_HABILIDADES_ESPECIAIS]->(Iluminados)\n",
      "CREATE (Raigora:Civilização {nome: 'Raigora', descrição: 'Império poderoso localizado além do vasto deserto conhecido como Areias Flamejantes, com cultura fortemente oriental, práticas de artes marciais, arquitetura de templos sagrados e arte da guerra baseada em estratégia e disciplina'})\n",
      "CREATE (MercadoresDaLua:Civilização {nome: 'Mercadores da Lua', descrição: 'Grupo de navegadores habilidosos e comerciantes astutos, vivendo em uma frota gigantesca de navios, conhecidos por suas feiras ambulantes e influência econômica significativa'})\n",
      "CREATE (ErmosArenosos:Civilização {nome: 'Ermos Arenosos', descrição: 'Tribos nômades que sobrevivem nas vastas extensões do deserto, habilidosas em sobreviver em ambientes inóspitos, domar bestas selvagens e utilizar armas e equipamentos adaptados ao deserto'})\n",
      "CREATE (Lyrune:Civilização {nome: 'Lyrune', descrição: 'Clãs que habitam as densas florestas a oeste de Alden, conhecidos por sua conexão profunda com a natureza, respeito pelos segredos da floresta e rituais místicos'})\n",
      "CREATE (Ethoria)-[:POSSUI]->(Raigora)\n",
      "CREATE (Ethoria)-[:POSSUI]->(MercadoresDaLua)\n",
      "CREATE (Ethoria)-[:POSSUI]->(ErmosArenosos)\n",
      "CREATE (Ethoria)-[:POSSUI]->(Lyrune)\n"
     ]
    }
   ],
   "source": [
    "print(cypher_bg_all.content)"
   ]
  },
  {
   "cell_type": "markdown",
   "id": "b9efcb02-ca2e-4f9f-b451-d011fb4ab813",
   "metadata": {},
   "source": [
    "# Testing on Neo4j"
   ]
  },
  {
   "cell_type": "code",
   "execution_count": 55,
   "id": "3b830c0d-2e69-47a8-9004-8bb05e01d2a9",
   "metadata": {},
   "outputs": [],
   "source": [
    "from neo4j import GraphDatabase\n",
    "\n",
    "# Connect to the Neo4j database\n",
    "uri = \"bolt://localhost:7687\"\n",
    "username = \"neo4j\"\n",
    "password = \"12345678\"\n",
    "driver = GraphDatabase.driver(uri, auth=(username, password))"
   ]
  },
  {
   "cell_type": "code",
   "execution_count": 60,
   "id": "413d0496-ef5c-428d-a905-f3dba60f0368",
   "metadata": {},
   "outputs": [
    {
     "name": "stderr",
     "output_type": "stream",
     "text": [
      "C:\\Users\\rafae\\AppData\\Local\\Temp\\ipykernel_149368\\1445805520.py:5: DeprecationWarning: write_transaction has been renamed to execute_write\n",
      "  session.write_transaction(wipe_database)\n"
     ]
    }
   ],
   "source": [
    "def wipe_database(tx):\n",
    "    tx.run(\"MATCH (n) DETACH DELETE n\")\n",
    "\n",
    "with driver.session() as session:\n",
    "    session.write_transaction(wipe_database)"
   ]
  },
  {
   "cell_type": "code",
   "execution_count": 61,
   "id": "6d7edffa-49ba-4bb8-b0fd-7b085b529a55",
   "metadata": {},
   "outputs": [
    {
     "ename": "CypherSyntaxError",
     "evalue": "{code: Neo.ClientError.Statement.SyntaxError} {message: Variable `Chambral` already declared (line 21, column 9 (offset: 2418))\r\n\"CREATE (Chambral:Assentamento {nome: 'Chambral', descrição: 'Reino governado por uma monarquia liderada pelo rei Eardam'})\"\r\n         ^}",
     "output_type": "error",
     "traceback": [
      "\u001b[1;31m---------------------------------------------------------------------------\u001b[0m",
      "\u001b[1;31mCypherSyntaxError\u001b[0m                         Traceback (most recent call last)",
      "Cell \u001b[1;32mIn[61], line 2\u001b[0m\n\u001b[0;32m      1\u001b[0m \u001b[38;5;28;01mwith\u001b[39;00m driver\u001b[38;5;241m.\u001b[39msession() \u001b[38;5;28;01mas\u001b[39;00m session:\n\u001b[1;32m----> 2\u001b[0m     \u001b[43msession\u001b[49m\u001b[38;5;241;43m.\u001b[39;49m\u001b[43mrun\u001b[49m\u001b[43m(\u001b[49m\u001b[43mcypher_bg_all\u001b[49m\u001b[38;5;241;43m.\u001b[39;49m\u001b[43mcontent\u001b[49m\u001b[43m)\u001b[49m\n\u001b[0;32m      3\u001b[0m \u001b[38;5;66;03m#     session.run(query)    \u001b[39;00m\n",
      "File \u001b[1;32mE:\\Documentos\\Estudos\\UFRJ_PESC\\3_periodo\\llm\\projeto final\\COS836-2023-2-LLM\\src\\venv\\Lib\\site-packages\\neo4j\\_sync\\work\\session.py:311\u001b[0m, in \u001b[0;36mSession.run\u001b[1;34m(self, query, parameters, **kwargs)\u001b[0m\n\u001b[0;32m    309\u001b[0m bookmarks \u001b[38;5;241m=\u001b[39m \u001b[38;5;28mself\u001b[39m\u001b[38;5;241m.\u001b[39m_get_bookmarks()\n\u001b[0;32m    310\u001b[0m parameters \u001b[38;5;241m=\u001b[39m \u001b[38;5;28mdict\u001b[39m(parameters \u001b[38;5;129;01mor\u001b[39;00m {}, \u001b[38;5;241m*\u001b[39m\u001b[38;5;241m*\u001b[39mkwargs)\n\u001b[1;32m--> 311\u001b[0m \u001b[38;5;28;43mself\u001b[39;49m\u001b[38;5;241;43m.\u001b[39;49m\u001b[43m_auto_result\u001b[49m\u001b[38;5;241;43m.\u001b[39;49m\u001b[43m_run\u001b[49m\u001b[43m(\u001b[49m\n\u001b[0;32m    312\u001b[0m \u001b[43m    \u001b[49m\u001b[43mquery\u001b[49m\u001b[43m,\u001b[49m\u001b[43m \u001b[49m\u001b[43mparameters\u001b[49m\u001b[43m,\u001b[49m\u001b[43m \u001b[49m\u001b[38;5;28;43mself\u001b[39;49m\u001b[38;5;241;43m.\u001b[39;49m\u001b[43m_config\u001b[49m\u001b[38;5;241;43m.\u001b[39;49m\u001b[43mdatabase\u001b[49m\u001b[43m,\u001b[49m\n\u001b[0;32m    313\u001b[0m \u001b[43m    \u001b[49m\u001b[38;5;28;43mself\u001b[39;49m\u001b[38;5;241;43m.\u001b[39;49m\u001b[43m_config\u001b[49m\u001b[38;5;241;43m.\u001b[39;49m\u001b[43mimpersonated_user\u001b[49m\u001b[43m,\u001b[49m\u001b[43m \u001b[49m\u001b[38;5;28;43mself\u001b[39;49m\u001b[38;5;241;43m.\u001b[39;49m\u001b[43m_config\u001b[49m\u001b[38;5;241;43m.\u001b[39;49m\u001b[43mdefault_access_mode\u001b[49m\u001b[43m,\u001b[49m\n\u001b[0;32m    314\u001b[0m \u001b[43m    \u001b[49m\u001b[43mbookmarks\u001b[49m\u001b[43m,\u001b[49m\u001b[43m \u001b[49m\u001b[38;5;28;43mself\u001b[39;49m\u001b[38;5;241;43m.\u001b[39;49m\u001b[43m_config\u001b[49m\u001b[38;5;241;43m.\u001b[39;49m\u001b[43mnotifications_min_severity\u001b[49m\u001b[43m,\u001b[49m\n\u001b[0;32m    315\u001b[0m \u001b[43m    \u001b[49m\u001b[38;5;28;43mself\u001b[39;49m\u001b[38;5;241;43m.\u001b[39;49m\u001b[43m_config\u001b[49m\u001b[38;5;241;43m.\u001b[39;49m\u001b[43mnotifications_disabled_categories\u001b[49m\u001b[43m,\u001b[49m\n\u001b[0;32m    316\u001b[0m \u001b[43m\u001b[49m\u001b[43m)\u001b[49m\n\u001b[0;32m    318\u001b[0m \u001b[38;5;28;01mreturn\u001b[39;00m \u001b[38;5;28mself\u001b[39m\u001b[38;5;241m.\u001b[39m_auto_result\n",
      "File \u001b[1;32mE:\\Documentos\\Estudos\\UFRJ_PESC\\3_periodo\\llm\\projeto final\\COS836-2023-2-LLM\\src\\venv\\Lib\\site-packages\\neo4j\\_sync\\work\\result.py:166\u001b[0m, in \u001b[0;36mResult._run\u001b[1;34m(self, query, parameters, db, imp_user, access_mode, bookmarks, notifications_min_severity, notifications_disabled_categories)\u001b[0m\n\u001b[0;32m    164\u001b[0m \u001b[38;5;28mself\u001b[39m\u001b[38;5;241m.\u001b[39m_pull()\n\u001b[0;32m    165\u001b[0m \u001b[38;5;28mself\u001b[39m\u001b[38;5;241m.\u001b[39m_connection\u001b[38;5;241m.\u001b[39msend_all()\n\u001b[1;32m--> 166\u001b[0m \u001b[38;5;28;43mself\u001b[39;49m\u001b[38;5;241;43m.\u001b[39;49m\u001b[43m_attach\u001b[49m\u001b[43m(\u001b[49m\u001b[43m)\u001b[49m\n",
      "File \u001b[1;32mE:\\Documentos\\Estudos\\UFRJ_PESC\\3_periodo\\llm\\projeto final\\COS836-2023-2-LLM\\src\\venv\\Lib\\site-packages\\neo4j\\_sync\\work\\result.py:274\u001b[0m, in \u001b[0;36mResult._attach\u001b[1;34m(self)\u001b[0m\n\u001b[0;32m    272\u001b[0m \u001b[38;5;28;01mif\u001b[39;00m \u001b[38;5;28mself\u001b[39m\u001b[38;5;241m.\u001b[39m_exhausted \u001b[38;5;129;01mis\u001b[39;00m \u001b[38;5;28;01mFalse\u001b[39;00m:\n\u001b[0;32m    273\u001b[0m     \u001b[38;5;28;01mwhile\u001b[39;00m \u001b[38;5;28mself\u001b[39m\u001b[38;5;241m.\u001b[39m_attached \u001b[38;5;129;01mis\u001b[39;00m \u001b[38;5;28;01mFalse\u001b[39;00m:\n\u001b[1;32m--> 274\u001b[0m         \u001b[38;5;28;43mself\u001b[39;49m\u001b[38;5;241;43m.\u001b[39;49m\u001b[43m_connection\u001b[49m\u001b[38;5;241;43m.\u001b[39;49m\u001b[43mfetch_message\u001b[49m\u001b[43m(\u001b[49m\u001b[43m)\u001b[49m\n",
      "File \u001b[1;32mE:\\Documentos\\Estudos\\UFRJ_PESC\\3_periodo\\llm\\projeto final\\COS836-2023-2-LLM\\src\\venv\\Lib\\site-packages\\neo4j\\_sync\\io\\_common.py:180\u001b[0m, in \u001b[0;36mConnectionErrorHandler.__getattr__.<locals>.outer.<locals>.inner\u001b[1;34m(*args, **kwargs)\u001b[0m\n\u001b[0;32m    178\u001b[0m \u001b[38;5;28;01mdef\u001b[39;00m \u001b[38;5;21minner\u001b[39m(\u001b[38;5;241m*\u001b[39margs, \u001b[38;5;241m*\u001b[39m\u001b[38;5;241m*\u001b[39mkwargs):\n\u001b[0;32m    179\u001b[0m     \u001b[38;5;28;01mtry\u001b[39;00m:\n\u001b[1;32m--> 180\u001b[0m         \u001b[43mfunc\u001b[49m\u001b[43m(\u001b[49m\u001b[38;5;241;43m*\u001b[39;49m\u001b[43margs\u001b[49m\u001b[43m,\u001b[49m\u001b[43m \u001b[49m\u001b[38;5;241;43m*\u001b[39;49m\u001b[38;5;241;43m*\u001b[39;49m\u001b[43mkwargs\u001b[49m\u001b[43m)\u001b[49m\n\u001b[0;32m    181\u001b[0m     \u001b[38;5;28;01mexcept\u001b[39;00m (Neo4jError, ServiceUnavailable, SessionExpired) \u001b[38;5;28;01mas\u001b[39;00m exc:\n\u001b[0;32m    182\u001b[0m         \u001b[38;5;28;01massert\u001b[39;00m \u001b[38;5;129;01mnot\u001b[39;00m asyncio\u001b[38;5;241m.\u001b[39miscoroutinefunction(\u001b[38;5;28mself\u001b[39m\u001b[38;5;241m.\u001b[39m__on_error)\n",
      "File \u001b[1;32mE:\\Documentos\\Estudos\\UFRJ_PESC\\3_periodo\\llm\\projeto final\\COS836-2023-2-LLM\\src\\venv\\Lib\\site-packages\\neo4j\\_sync\\io\\_bolt.py:808\u001b[0m, in \u001b[0;36mBolt.fetch_message\u001b[1;34m(self)\u001b[0m\n\u001b[0;32m    804\u001b[0m \u001b[38;5;66;03m# Receive exactly one message\u001b[39;00m\n\u001b[0;32m    805\u001b[0m tag, fields \u001b[38;5;241m=\u001b[39m \u001b[38;5;28mself\u001b[39m\u001b[38;5;241m.\u001b[39minbox\u001b[38;5;241m.\u001b[39mpop(\n\u001b[0;32m    806\u001b[0m     hydration_hooks\u001b[38;5;241m=\u001b[39m\u001b[38;5;28mself\u001b[39m\u001b[38;5;241m.\u001b[39mresponses[\u001b[38;5;241m0\u001b[39m]\u001b[38;5;241m.\u001b[39mhydration_hooks\n\u001b[0;32m    807\u001b[0m )\n\u001b[1;32m--> 808\u001b[0m res \u001b[38;5;241m=\u001b[39m \u001b[38;5;28;43mself\u001b[39;49m\u001b[38;5;241;43m.\u001b[39;49m\u001b[43m_process_message\u001b[49m\u001b[43m(\u001b[49m\u001b[43mtag\u001b[49m\u001b[43m,\u001b[49m\u001b[43m \u001b[49m\u001b[43mfields\u001b[49m\u001b[43m)\u001b[49m\n\u001b[0;32m    809\u001b[0m \u001b[38;5;28mself\u001b[39m\u001b[38;5;241m.\u001b[39midle_since \u001b[38;5;241m=\u001b[39m perf_counter()\n\u001b[0;32m    810\u001b[0m \u001b[38;5;28;01mreturn\u001b[39;00m res\n",
      "File \u001b[1;32mE:\\Documentos\\Estudos\\UFRJ_PESC\\3_periodo\\llm\\projeto final\\COS836-2023-2-LLM\\src\\venv\\Lib\\site-packages\\neo4j\\_sync\\io\\_bolt5.py:361\u001b[0m, in \u001b[0;36mBolt5x0._process_message\u001b[1;34m(self, tag, fields)\u001b[0m\n\u001b[0;32m    359\u001b[0m \u001b[38;5;28mself\u001b[39m\u001b[38;5;241m.\u001b[39m_server_state_manager\u001b[38;5;241m.\u001b[39mstate \u001b[38;5;241m=\u001b[39m \u001b[38;5;28mself\u001b[39m\u001b[38;5;241m.\u001b[39mserver_states\u001b[38;5;241m.\u001b[39mFAILED\n\u001b[0;32m    360\u001b[0m \u001b[38;5;28;01mtry\u001b[39;00m:\n\u001b[1;32m--> 361\u001b[0m     \u001b[43mresponse\u001b[49m\u001b[38;5;241;43m.\u001b[39;49m\u001b[43mon_failure\u001b[49m\u001b[43m(\u001b[49m\u001b[43msummary_metadata\u001b[49m\u001b[43m \u001b[49m\u001b[38;5;129;43;01mor\u001b[39;49;00m\u001b[43m \u001b[49m\u001b[43m{\u001b[49m\u001b[43m}\u001b[49m\u001b[43m)\u001b[49m\n\u001b[0;32m    362\u001b[0m \u001b[38;5;28;01mexcept\u001b[39;00m (ServiceUnavailable, DatabaseUnavailable):\n\u001b[0;32m    363\u001b[0m     \u001b[38;5;28;01mif\u001b[39;00m \u001b[38;5;28mself\u001b[39m\u001b[38;5;241m.\u001b[39mpool:\n",
      "File \u001b[1;32mE:\\Documentos\\Estudos\\UFRJ_PESC\\3_periodo\\llm\\projeto final\\COS836-2023-2-LLM\\src\\venv\\Lib\\site-packages\\neo4j\\_sync\\io\\_common.py:247\u001b[0m, in \u001b[0;36mResponse.on_failure\u001b[1;34m(self, metadata)\u001b[0m\n\u001b[0;32m    245\u001b[0m handler \u001b[38;5;241m=\u001b[39m \u001b[38;5;28mself\u001b[39m\u001b[38;5;241m.\u001b[39mhandlers\u001b[38;5;241m.\u001b[39mget(\u001b[38;5;124m\"\u001b[39m\u001b[38;5;124mon_summary\u001b[39m\u001b[38;5;124m\"\u001b[39m)\n\u001b[0;32m    246\u001b[0m Util\u001b[38;5;241m.\u001b[39mcallback(handler)\n\u001b[1;32m--> 247\u001b[0m \u001b[38;5;28;01mraise\u001b[39;00m Neo4jError\u001b[38;5;241m.\u001b[39mhydrate(\u001b[38;5;241m*\u001b[39m\u001b[38;5;241m*\u001b[39mmetadata)\n",
      "\u001b[1;31mCypherSyntaxError\u001b[0m: {code: Neo.ClientError.Statement.SyntaxError} {message: Variable `Chambral` already declared (line 21, column 9 (offset: 2418))\r\n\"CREATE (Chambral:Assentamento {nome: 'Chambral', descrição: 'Reino governado por uma monarquia liderada pelo rei Eardam'})\"\r\n         ^}"
     ]
    }
   ],
   "source": [
    "with driver.session() as session:\n",
    "    session.run(cypher_bg_all.content)\n",
    "#     session.run(query)    "
   ]
  },
  {
   "cell_type": "code",
   "execution_count": null,
   "id": "6c326ca7-41fc-4c3d-9745-788364b3182b",
   "metadata": {},
   "outputs": [],
   "source": [
    "def get_triplets(tx):\n",
    "    result = tx.run(\"MATCH (n)-[r]->(m) RETURN n, r, m\")\n",
    "    return [(record[\"n\"][\"nome\"], record[\"r\"].type, record[\"m\"][\"nome\"]) for record in result]\n",
    "\n",
    "with driver.session() as session:\n",
    "    triplets = session.read_transaction(get_triplets)\n",
    "\n",
    "#for triplet in triplets:\n",
    "#    print(triplet)\n",
    "triplets = \"\\n\".join([str(x) for x in triplets])\n",
    "print(triplets)"
   ]
  },
  {
   "cell_type": "code",
   "execution_count": 62,
   "id": "d10764ed-15eb-43d5-8ce0-062d6793c9a6",
   "metadata": {},
   "outputs": [
    {
     "name": "stdout",
     "output_type": "stream",
     "text": [
      "\n"
     ]
    },
    {
     "name": "stderr",
     "output_type": "stream",
     "text": [
      "C:\\Users\\rafae\\AppData\\Local\\Temp\\ipykernel_149368\\2230681695.py:6: DeprecationWarning: read_transaction has been renamed to execute_read\n",
      "  entities = session.read_transaction(get_entities_and_properties)\n"
     ]
    }
   ],
   "source": [
    "def get_entities_and_properties(tx):\n",
    "    result = tx.run(\"MATCH (n) RETURN n\")\n",
    "    return [(record[\"n\"][\"nome\"], dict(record[\"n\"].items())) for record in result]\n",
    "\n",
    "with driver.session() as session:\n",
    "    entities = session.read_transaction(get_entities_and_properties)\n",
    "\n",
    "#for entity in entities:\n",
    "#    print(entity)\n",
    "\n",
    "entities = \"\\n\".join([str(x) for x in entities])\n",
    "print(entities)"
   ]
  },
  {
   "cell_type": "markdown",
   "id": "b9ed5a3b-cd26-4ca8-b41a-285a4e2bbb63",
   "metadata": {},
   "source": [
    "# Graph to text and other tasks"
   ]
  },
  {
   "cell_type": "code",
   "execution_count": 70,
   "id": "0cff93bd-9748-4fd0-8785-11d71eb0e234",
   "metadata": {},
   "outputs": [],
   "source": [
    "prompt_system_g2t = \"\"\"Você é um programador profissional que lê uma lista de triplets, assim como uma lista de entidades e propriedades, e escreve uma código em Cypher para o banco de dados Neo4j, que realiza a tarefa solicitada. Utilize o Neo4j Python Driver.\n",
    "\n",
    "A lista de triplets é gerada pelo seguinte código, delimitado por '<código python>':\n",
    "\n",
    "<código python> from neo4j import GraphDatabase\n",
    "driver = GraphDatabase.driver(uri, auth=(username, password))\n",
    "\n",
    "\n",
    "def get_triplets(tx):\n",
    "    result = tx.run(\"MATCH (n)-[r]->(m) RETURN n, r, m\")\n",
    "    return [(record[\"n\"][\"nome\"], record[\"r\"].type, record[\"m\"][\"nome\"]) for record in result]\n",
    "\n",
    "\n",
    "with driver.session() as session:\n",
    "    triplets = session.read_transaction(get_triplets)\n",
    "\n",
    "for triplet in triplets:\n",
    "    print(triplet)\n",
    "<código python>\n",
    "\n",
    "A lista de entidades e suas propriedades é gerada pelo seguinte código, delimitado por '<código python>':\n",
    "\n",
    "<código python> from neo4j import GraphDatabase\n",
    "driver = GraphDatabase.driver(uri, auth=(username, password))\n",
    "\n",
    "\n",
    "def get_entities_and_properties(tx):\n",
    "    result = tx.run(\"MATCH (n) RETURN n\")\n",
    "    return [(record[\"n\"][\"nome\"], dict(record[\"n\"].items())) for record in result]\n",
    "\n",
    "\n",
    "with driver.session() as session:\n",
    "    entities = session.read_transaction(get_entities_and_properties)\n",
    "\n",
    "for entity in entities:\n",
    "    print(entity)\n",
    "<código python>\n",
    "\"\"\"\n",
    "\n",
    "prompt_human_g2t = (\"A lista de triplets está a seguir: \\n\" + triplets + \n",
    "                   \"\\n \\n A lista de entidades e suas propriedades está a seguir: \\n\" + entities + \n",
    "\"\"\" \\n \\n Você é um escritor profissional fazendo o worldbuilding e um mundo de RPG. \n",
    "\n",
    "Você deve considerar os seguintes aspectos, mas nunca falar sobre eles diretamente:\n",
    "1. O gênero é ficção;\n",
    "2. O mundo parece místico;\n",
    "3. O tom da história é leve;\n",
    "4. O mundo tem masmorras e dragões como temas recorrentes;\n",
    "5. O nível de tecnologia é medieval,\n",
    "6. O nível de magia é raro,\n",
    "7. A atmosfera é inspiradora,\n",
    "8. A história é inspirada nos escritores George R. R. Martin, J. R. R. Tolkien, Matthew Mercer e Brennan Lee Mulligan,\n",
    "\"\"\" +\n",
    "                   \"Com base nesses dados, escreva a história representada em 15 parágrafos na estrutura de uma história de ficção.\")"
   ]
  },
  {
   "cell_type": "code",
   "execution_count": 71,
   "id": "7ed06631-8199-4980-aec4-35571e127b38",
   "metadata": {},
   "outputs": [],
   "source": [
    "g2t = api_cypher.predict_messages([SystemMessage(content=prompt_system_g2t),\n",
    "                                   HumanMessage(content=prompt_human_g2t)])"
   ]
  },
  {
   "cell_type": "code",
   "execution_count": 72,
   "id": "e3991735-97ad-40fc-8515-82fec64f7d65",
   "metadata": {},
   "outputs": [
    {
     "name": "stdout",
     "output_type": "stream",
     "text": [
      "Eldoria, um reino distante onde a magia e a aventura se entrelaçam, é o cenário principal desta história mística. Em Arkania, um reino conhecido por seu sistema de justiça imparcial e seus governantes justos, o Rei sábio e benevolente governa com sabedoria. Porém, Arkania não está livre de ameaças, e a Ordem das Mãos de Prata, uma organização de honrados cavaleiros, é responsável por garantir a paz no reino.\n",
      "\n",
      "Mas uma sombra sinistra paira sobre Arkania. A Sombra Crescente, uma sociedade secreta enigmática e ameaçadora, busca minar a paz e a estabilidade do reino. Enquanto isso, nas Montanhas do Trovão, uma região onde Flamewrath, o temido dragão vermelho, ameaça a paz, a Guilda dos Desbravadores, uma congregação de aventureiros corajosos, enfrenta os perigos e desafios que surgem.\n",
      "\n",
      "Enquanto isso, na Floresta de Ébano, uma floresta encantada assombrada por uma antiga maldição, o Círculo dos Druidas, guardiões da natureza, busca desvendar os segredos e encontrar uma forma de quebrar a maldição que assola o local. Eldoria, por sua vez, enfrenta ameaças dos Reinos Sombrios de Zorak, um território sombrio onde o General Sombrio e suas forças se preparam para invadir o reino.\n",
      "\n",
      "Nesse mundo inspirador, onde masmorras e dragões são temas recorrentes, a magia é rara, mas poderosa. Os Filhos das Marés, uma raça subaquática que busca paz e cooperação com os habitantes de Eldoria, habitam o vasto Oceano Esmeralda. Eles enfrentam a devastação de sua terra natal e contam com a ajuda da Sociedade dos Selos Azuis, uma organização de diplomatas e exploradores aquáticos, que trabalha para estabelecer relações amigáveis com os Filhos das Marés.\n",
      "\n",
      "Inspirada pelos escritores George R. R. Martin, J. R. R. Tolkien, Matthew Mercer e Brennan Lee Mulligan, esta história de ficção transporta os leitores para um mundo místico, onde a tecnologia é medieval e a magia é rara, mas poderosa. A atmosfera é inspiradora, repleta de desafios, mistérios e aventuras. Os personagens enfrentam perigos, desvendam segredos e lutam para proteger seus reinos e encontrar a paz. Neste mundo de fantasia, a jornada está apenas começando, e o destino de Eldoria está nas mãos daqueles corajosos o suficiente para enfrentar os desafios que surgem em seu caminho.\n"
     ]
    }
   ],
   "source": [
    "print(g2t.content)"
   ]
  },
  {
   "cell_type": "markdown",
   "id": "49a99c55-a1e4-4965-a997-71e0982dcc0e",
   "metadata": {},
   "source": [
    "# Testing metrics"
   ]
  },
  {
   "cell_type": "code",
   "execution_count": 73,
   "id": "5390e4dd-5d9d-41e5-9ae6-b235f986d891",
   "metadata": {
    "tags": []
   },
   "outputs": [],
   "source": [
    "from evaluate import load\n",
    "bertscore = load(\"bertscore\")\n",
    "\n",
    "predictions = [full_bg]\n",
    "references = [g2t.content]\n",
    "\n",
    "#predictions = [prompt1]\n",
    "#references = [prompt2]\n",
    "\n",
    "results = bertscore.compute(predictions=predictions, references=references, model_type=\"distilbert-base-uncased\")"
   ]
  },
  {
   "cell_type": "code",
   "execution_count": 74,
   "id": "17cf0f05-572a-436f-9531-510f5b0b6faf",
   "metadata": {},
   "outputs": [
    {
     "data": {
      "text/plain": [
       "{'precision': [0.8756647109985352],\n",
       " 'recall': [0.8785662651062012],\n",
       " 'f1': [0.8771131038665771],\n",
       " 'hashcode': 'distilbert-base-uncased_L5_no-idf_version=0.3.12(hug_trans=4.30.2)'}"
      ]
     },
     "execution_count": 74,
     "metadata": {},
     "output_type": "execute_result"
    }
   ],
   "source": [
    "results"
   ]
  },
  {
   "cell_type": "code",
   "execution_count": null,
   "id": "86abdc15-c1fa-4495-bd8d-eef37d07e62f",
   "metadata": {},
   "outputs": [],
   "source": []
  }
 ],
 "metadata": {
  "kernelspec": {
   "display_name": "Python 3 (ipykernel)",
   "language": "python",
   "name": "python3"
  },
  "language_info": {
   "codemirror_mode": {
    "name": "ipython",
    "version": 3
   },
   "file_extension": ".py",
   "mimetype": "text/x-python",
   "name": "python",
   "nbconvert_exporter": "python",
   "pygments_lexer": "ipython3",
   "version": "3.11.4"
  }
 },
 "nbformat": 4,
 "nbformat_minor": 5
}
