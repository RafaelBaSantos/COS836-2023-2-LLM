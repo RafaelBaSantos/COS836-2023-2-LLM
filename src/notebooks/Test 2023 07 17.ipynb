{
 "cells": [
  {
   "cell_type": "markdown",
   "id": "b016bc4f-f7a0-4857-a496-1fcda89dafc4",
   "metadata": {},
   "source": [
    "# Importando bibliotecas"
   ]
  },
  {
   "cell_type": "code",
   "execution_count": null,
   "id": "432ae3d5-4749-4c94-92d8-9c91cb35d4b0",
   "metadata": {},
   "outputs": [],
   "source": [
    "from dotenv import load_dotenv\n",
    "import os\n",
    "\n",
    "from langchain.chat_models import ChatOpenAI\n",
    "from langchain.schema import AIMessage, HumanMessage, SystemMessage\n",
    "from langchain.prompts.chat import ChatPromptTemplate, SystemMessagePromptTemplate, HumanMessagePromptTemplate, AIMessagePromptTemplate\n",
    "from langchain import LLMChain\n",
    "\n",
    "import pandas as pd"
   ]
  },
  {
   "cell_type": "markdown",
   "id": "9532761a-6490-49a4-ab30-489ba219d63a",
   "metadata": {},
   "source": [
    "# Inicializando API"
   ]
  },
  {
   "cell_type": "code",
   "execution_count": null,
   "id": "86a3cfdb-6ee2-44fb-9283-f0a15fef1d00",
   "metadata": {},
   "outputs": [],
   "source": [
    "load_dotenv(r'E:\\Documentos\\Estudos\\UFRJ_PESC\\3_periodo\\llm\\projeto final\\COS836-2023-2-LLM\\src\\utils\\openai_api_key.env')  # take environment variables from .env.\n",
    "OPENAI_API_KEY = os.getenv('OPENAI_API_KEY')\n",
    "\n",
    "chat_t1 = ChatOpenAI(openai_api_key=OPENAI_API_KEY, model_name=\"gpt-3.5-turbo\", temperature=1)\n",
    "\n",
    "chat_t0 = ChatOpenAI(openai_api_key=OPENAI_API_KEY, model_name=\"gpt-3.5-turbo\", temperature=0)\n",
    "\n",
    "chat_t0_16k = ChatOpenAI(openai_api_key=OPENAI_API_KEY, model_name=\"gpt-3.5-turbo-16k\", temperature=0)"
   ]
  },
  {
   "cell_type": "markdown",
   "id": "74111378-f282-4c25-b477-67146a1ae560",
   "metadata": {},
   "source": [
    "# Criação do background"
   ]
  },
  {
   "cell_type": "markdown",
   "id": "1297b2ff-4122-48b8-97d3-be7bf84c09a7",
   "metadata": {},
   "source": [
    "### Background geral do mundo"
   ]
  },
  {
   "cell_type": "code",
   "execution_count": null,
   "id": "3de6eed9-084f-4409-a616-74fc370e9b43",
   "metadata": {
    "scrolled": true
   },
   "outputs": [],
   "source": [
    "sys_background = \"\"\"You're a professional writer doing the worldbuilding of an RPG world.\n",
    "\n",
    "Think concisely about an original and engaging world. You should consider the following aspects, but never talk about them directly:\n",
    "    - The genre is cyberpunk fantasy;\n",
    "    - The world brings a hopeless feeling;\n",
    "    - The tone of the story is dark;\n",
    "    - The level of technology is futuristic;\n",
    "    - Magic is seen as something ultra-rare and forgotten;\n",
    "    - The atmosphere is dystopic;\n",
    "    - The story is inspired by writers Isaac Asimov, Greg Bear, Frank Herbert, William Gibson, Philip K. Dick;\n",
    "    - The story is inspired by the universe of Cyberpunk 2077, Lancer RPG, BladeRunner, Ghost in the Shell, Cowboy Bebop.\n",
    "    - The story deals with more or less 4 of the following subjects: Governance and its influence, Legal principles and rule of law, Provision of social services, Economic dynamics, Equity in wealth distribution, Agricultural practices and trade, Interpersonal relationships influenced by race, class, gender or sexual orientation, Military power and influence, Role and influence of religion, Technological advances and influences, Impact of arts and cultural expressions, Geographical features, Interactions between civilizations, their histories and conflicts, Foundations of the laws of nature, Theories about the origin of the universe, History of species and cultures that have inhabited the world, Needs and interactions of different species and cultures.\n",
    "    - When describing any entity (location, object, character, species, condition, conflict, organization, title, myth, etc.), you must provide specific names and brief descriptions.\"\"\"\n",
    "\n",
    "print(sys_background)"
   ]
  },
  {
   "cell_type": "code",
   "execution_count": null,
   "id": "370c40da-b914-498f-b89d-3f69b6522b22",
   "metadata": {},
   "outputs": [],
   "source": [
    "# lugar, objeto. 3. O nível de agência dos personagens principais é alto; Inclua uma série de personagens diversos que sirvam como mentores aliados ou inimigos.\n",
    "usr_background = \"Concisely describe an original and engaging world.\"\n",
    "print(usr_background)"
   ]
  },
  {
   "cell_type": "code",
   "execution_count": null,
   "id": "d81dce1f-4940-47f9-a23a-c21254129726",
   "metadata": {
    "scrolled": true
   },
   "outputs": [],
   "source": [
    "background = chat_t1.predict_messages([SystemMessage(content=sys_background), HumanMessage(content=usr_background)]).content"
   ]
  },
  {
   "cell_type": "code",
   "execution_count": null,
   "id": "08c98820-972e-4a76-9d7b-a83d8a0139af",
   "metadata": {
    "scrolled": true
   },
   "outputs": [],
   "source": [
    "print(background)"
   ]
  },
  {
   "cell_type": "code",
   "execution_count": null,
   "id": "57beb958-f73e-4ed2-b968-d0ed7b27f3e2",
   "metadata": {},
   "outputs": [],
   "source": [
    "background = \"\"\"Welcome to the chaotic sprawl of Neon Vale, a global megacity cloaked in perpetual twilight. This sprawling urban expanse is the epitome of High-Res Anarchy, caught in a vicious cycle of oppression and rebellion, veiled under a sickly, chemically induced aurora. Neon Vale is divided into sectors, controlled by the ruthless Corporatocracy, the United Nexus or UNEX, exploiting the denizens in their ceaseless thirst for power and control.\n",
    "\n",
    "The Silicate Towers, a monument to UNEX's commitment to technological superiority, spills over with cybernetic enhancements and artificial intelligence advancements. Metal monoliths scrape the smoggy sky, their mirrored surfaces reflecting the false neon day. Here, it's not uncommon to see an adaptation of humanoids known as 'Cogs,' shackled by their cognitive integration with machines.\n",
    "\n",
    "In the Shadow Lanes, magic is but a whisper. Ancient tales speak of the Waning, a cataclysmic event that drained the world of magic. Those who remember the old ways are called Weavers, individuals rumored to manipulate the faint magic still lingering. Weavers are pursued and persecuted, their existence a threat to the UNEX's stranglehold on the city.\n",
    "\n",
    "The Graffiti'd Grounds made up of several districts serve as the hub of cultural resistance against UNEX's oppressive regime. Here, the Gritpoets, a subculture of artists and rebels, paint their hopes and despair on the city walls. Their art, a form of silent resistance, is a reflection of their struggle proving that even in dystopia, expressions of human spirit endure.\n",
    "\n",
    "The Tinkered Plains, a vast desolate 'wasteland' stretching beyond the city limits, is punctuated by the skeletal remains of obsolete machinery. Here, the Rustic Nomads follow a quasi-religious adoration of old-world tech, salvaging parts to trade and sustain their outcast existence. At the heart of this wasteland, the Pillar of Old Echoes stands, a towering structure rumoured to hold answers about the world before the Waning.\n",
    "\n",
    "Misery Marches, the economically crushed lower sections of the city, play host to constant skirmishes—street brawls known as Neon Riots. Orchestrated by the Torchbearers, these revolts are Neon Vale's heartbeat, a desperate fight for equity and justice.\n",
    "\n",
    "Between these factions, lines of tension and alliances constantly shift, setting the stage for an eternal battle in the luminous darkness. As the world grapples with its past and future, survival remains a cruel game. Those who dare dream must do it with their eyes wide open, ever vigilant for the nightmare that lurks around the corner. Their lives a testament that no matter how advanced the civilization, it's the humanity that truly makes history.\n",
    "\"\"\""
   ]
  },
  {
   "cell_type": "markdown",
   "id": "b59be919-88e1-491e-ad7f-ee29f96a128e",
   "metadata": {},
   "source": [
    "### Aprofundando o background em tópicos"
   ]
  },
  {
   "cell_type": "code",
   "execution_count": null,
   "id": "06ea48da-4682-45fa-9188-678de6033303",
   "metadata": {},
   "outputs": [],
   "source": [
    "usr_topics = \"\"\"Quais são os principais tópicos dessa história que poderiam ser melhor desenvolvidos?\n",
    "Responda com uma lista de tópicos e uma breve explicação de cada um. Não faça mais nenhum comentário.\"\"\"\n",
    "print(prompt_ask_topics)"
   ]
  },
  {
   "cell_type": "code",
   "execution_count": null,
   "id": "1cc04fbe-982c-43bc-873b-ceba69729d3b",
   "metadata": {},
   "outputs": [],
   "source": [
    "topics = chat_t1.predict_messages([SystemMessage(content=sys_background),\n",
    "                                  HumanMessage(content=usr_background),\n",
    "                                  AIMessage(content=background),\n",
    "                                  HumanMessage(content=usr_topics)]).content"
   ]
  },
  {
   "cell_type": "code",
   "execution_count": 5,
   "id": "8151ec5d-d285-42bd-a3b3-1729338d29d4",
   "metadata": {},
   "outputs": [],
   "source": [
    "topics = \"\"\"1. Governance and Its Influence: Explore the domineering impact of UNEX, a corporate entity that governs through oppression. Consider how they manipulate society, maintaining control via advanced technology and stifling cultural, magical, and artistic expressions.\n",
    "\n",
    "2. Economic Dynamics: Delve into the economic disparity in Neon Vale, contrasting the wealth of the Silicate Towers with the impoverishment of Misery Marches. Discuss the implications of this wealth gap on society and the emergence of the Neon Riots.\n",
    "\n",
    "3. Role and Influence of Religion: Investigate the Rustic Nomads' adoration of old-world tech, a quasi-religious entity. This belief system stands as a unique contrast to the technologically advanced world, providing an analysis of the power of faith and tradition.\n",
    "\n",
    "4. Technological Advances and Influences: Center on the rapid technological advancement defined by the advent of cybernetics and AI. Inspect how these advances shape society, create new species like 'Cogs,' and challenge the definition of humanity.\n",
    "\n",
    "5. Interactions Between Civilizations: Zoom in on conflicts and alliances between factions like the Gritpoets, Rustic Nomads, and Torchbearers. This captures a glimpse of societal dynamics in a dystopian world, where each group struggles for survival and influence.\n",
    "\n",
    "6. Impact of Arts and Cultural Expressions: Highlight the silent resistance of the Gritpoets, whose art becomes a beacon of defiance against UNEX. It underlines the enduring power of art and culture, even in the face of oppression.\n",
    "\n",
    "7. History of the world: Probe the global event known as the Waning, leading to the near-extinction of magic. Analyze how this event shaped the modern world, created a divide between the techno-savvy and traditionalists, and fostered the persecution of Weavers. This offers insight into how historical events can shape present realities.\"\"\""
   ]
  },
  {
   "cell_type": "code",
   "execution_count": 6,
   "id": "5c62cb36-8749-46a1-94bd-551e3cdb71e9",
   "metadata": {},
   "outputs": [],
   "source": [
    "ls_topics = [x for x in topics.split(\"\\n\") if x != \"\"]"
   ]
  },
  {
   "cell_type": "code",
   "execution_count": 7,
   "id": "9003e8a9-928c-4f1d-bf95-2b951ee80592",
   "metadata": {},
   "outputs": [
    {
     "data": {
      "text/plain": [
       "['1. Governance and Its Influence: Explore the domineering impact of UNEX, a corporate entity that governs through oppression. Consider how they manipulate society, maintaining control via advanced technology and stifling cultural, magical, and artistic expressions.',\n",
       " '2. Economic Dynamics: Delve into the economic disparity in Neon Vale, contrasting the wealth of the Silicate Towers with the impoverishment of Misery Marches. Discuss the implications of this wealth gap on society and the emergence of the Neon Riots.',\n",
       " \"3. Role and Influence of Religion: Investigate the Rustic Nomads' adoration of old-world tech, a quasi-religious entity. This belief system stands as a unique contrast to the technologically advanced world, providing an analysis of the power of faith and tradition.\",\n",
       " \"4. Technological Advances and Influences: Center on the rapid technological advancement defined by the advent of cybernetics and AI. Inspect how these advances shape society, create new species like 'Cogs,' and challenge the definition of humanity.\",\n",
       " '5. Interactions Between Civilizations: Zoom in on conflicts and alliances between factions like the Gritpoets, Rustic Nomads, and Torchbearers. This captures a glimpse of societal dynamics in a dystopian world, where each group struggles for survival and influence.',\n",
       " '6. Impact of Arts and Cultural Expressions: Highlight the silent resistance of the Gritpoets, whose art becomes a beacon of defiance against UNEX. It underlines the enduring power of art and culture, even in the face of oppression.',\n",
       " '7. History of the world: Probe the global event known as the Waning, leading to the near-extinction of magic. Analyze how this event shaped the modern world, created a divide between the techno-savvy and traditionalists, and fostered the persecution of Weavers. This offers insight into how historical events can shape present realities.']"
      ]
     },
     "execution_count": 7,
     "metadata": {},
     "output_type": "execute_result"
    }
   ],
   "source": [
    "ls_topics"
   ]
  },
  {
   "cell_type": "code",
   "execution_count": null,
   "id": "1d52bece-5e04-4656-b689-656543d62507",
   "metadata": {},
   "outputs": [],
   "source": [
    "usr_template_expanded = \"Develop the following topic in detail: {topic}\"\n",
    "usr_expanded = HumanMessagePromptTemplate.from_template(usr_template_expanded)\n",
    "chat_prompt = ChatPromptTemplate.from_messages([SystemMessage(content=sys_background),\n",
    "                                                HumanMessage(content=usr_background),\n",
    "                                                AIMessage(content=background),\n",
    "                                                usr_expanded])\n",
    "chain = LLMChain(llm=chat_t1, prompt=chat_prompt)\n",
    "\n",
    "ls_expanded = []\n",
    "for topic in ls_topics[:2]:\n",
    "    local_expanded = chain.run(topic=topic)\n",
    "    ls_expanded.append(local_expanded)"
   ]
  },
  {
   "cell_type": "markdown",
   "id": "3f8f3eae-4d50-41f3-85c4-9eb584f74780",
   "metadata": {},
   "source": [
    "### Salvando informações de background"
   ]
  },
  {
   "cell_type": "code",
   "execution_count": null,
   "id": "b91c9343-8e01-45cc-b6c2-60a5fc0e71ba",
   "metadata": {},
   "outputs": [],
   "source": [
    "import pandas as pd"
   ]
  },
  {
   "cell_type": "code",
   "execution_count": null,
   "id": "3dd09820-6668-4b90-9c51-f8d8cf3e3e7e",
   "metadata": {},
   "outputs": [],
   "source": [
    "df_bg = pd.DataFrame({\"topics\": [\"background geral\"] + ls_topics, \"content\": [background] + ls_expanded})\n",
    "df_bg.to_csv(r\".\\files\\bg.csv\", index=False)"
   ]
  },
  {
   "cell_type": "markdown",
   "id": "7b2cf026-d3eb-4615-90ae-bf9b8f550f0d",
   "metadata": {},
   "source": [
    "# Text to Lists"
   ]
  },
  {
   "cell_type": "code",
   "execution_count": null,
   "id": "83592065-f625-446a-98ca-e474eac0054d",
   "metadata": {},
   "outputs": [],
   "source": [
    "df_bg = pd.read_csv(r\".\\files\\bg.csv\")"
   ]
  },
  {
   "cell_type": "markdown",
   "id": "89ead95a-0288-4bb7-934c-cb382acd6ad0",
   "metadata": {},
   "source": [
    "### T2L do background geral"
   ]
  },
  {
   "cell_type": "code",
   "execution_count": null,
   "id": "09430c14-9ed3-431a-b23e-d53495f1d30e",
   "metadata": {
    "scrolled": true
   },
   "outputs": [],
   "source": [
    "sys_t2l_bg = \"\"\"You are a helper who creates a list of entities and a list of relationships from the information contained in a text.\n",
    "\n",
    "Each entity should have a name, a label, and a detailed description. The label can be one of the following:\n",
    "\n",
    "- Place: Physical places, such as continents, cities, mountains, or forests;\n",
    "- Building: Natural constructions and formations. Examples: house, dungeon, cave, castle;\n",
    "- Vehicle: Means of transportation. Example: car, ship, bicycle.\n",
    "- Character: Individuals or animals in specific roles. Examples: hero, villain, guard, pet.\n",
    "- Item: Tangible items or documents. Examples: weapons, clothes, letters, and books.\n",
    "- Species: Biological or cultural groups. Examples: elves, humans, and dogs.\n",
    "- Organization: Groups with common purposes. Examples: churches, governments, and sects.\n",
    "- Condition: Physical or emotional states. Examples: illness, inspiration, sadness.\n",
    "- Drama: Challenges, sociocultural tensions, or military conflicts. Examples: military influence, class relations, and economic problems.\n",
    "- Myth: Narratives, beliefs, or prose. Examples: legends about the origin of the universe, and myths of monsters.\n",
    "\n",
    "The relationships should be represented by triplets of subject, predicate, and object, where the subject and object are entities mapped in the last step and the predicate can have the following labels:\n",
    "\n",
    "\\1 IS_IN: Represents location or use.\n",
    "    \\2 Possible subjects and objects:\n",
    "        \\3 Buildings => Locations\n",
    "        \\3 Vehicles => Locations/Buildings\n",
    "        \\3 Characters => Locations/Buildings/Vehicles\n",
    "        \\3 Items => Locations/Buildings/Vehicles/Characters\n",
    "\\1 OWNER_OF: Denotes direct ownership.\n",
    "    \\2 Possible subjects and objects:\n",
    "        \\3 Characters/Organizations => Locations/Buildings/Vehicles/Characters/Items\n",
    "\\1 POSITIVE/NEGATIVE/NEUTRAL_RELATIONSHIP: Denotes an interpersonal interaction or bond.\n",
    "    \\2 Possible subjects and objects:\n",
    "        \\3 Characters/Organizations => Characters/Organizations\n",
    "\\1 AFFECTED_BY: Shows entities impacted by conditions or conflicts.\n",
    "    \\2 Possible subjects and objects:\n",
    "        \\3 Characters => Conditions/Drama\n",
    "        \\3 Organizations => Drama\n",
    "\\1 MEMBER_OF: It indicates belonging to groups, categories, or organizations.\n",
    "    \\2 Possible subjects and objects:\n",
    "        \\3 Characters => Organizations/Species\n",
    "\\1 BASED_ON: Links entities to stories, myths, legends, or cultural influences.\n",
    "    \\2 Possible subjects and objects:\n",
    "        \\3 Anything => Myths\n",
    "        \\3 Organizations => Drama\n",
    "\\1 SUCCEEDS/PRECEDES: It represents what comes after/before in a time sequence.\n",
    "    \\2 Possible subjects and objects:\n",
    "        \\3 Myths/Drama => Myths/Drama\"\"\"\n",
    "\n",
    "print(sys_t2l_bg)"
   ]
  },
  {
   "cell_type": "code",
   "execution_count": null,
   "id": "6753ed27-80e3-4223-b740-5af8f8046b5f",
   "metadata": {},
   "outputs": [],
   "source": [
    "usr_t2l_bg = \"\"\"\n",
    "Identify the entities in the text. An entity can be a noun or a noun phrase that refers to a real-world object or an abstract concept. You can use a named entity recognition (NER) tool or a part-of-speech (POS) tagger to identify the entities.\n",
    "\n",
    "Identify the relationships between the entities. A relationship can be a verb or a prepositional phrase that connects two entities. You can use dependency parsing to identify the relationships.\n",
    "\n",
    "Find as many relationships as possible within these limitations.\"\"\""
   ]
  },
  {
   "cell_type": "code",
   "execution_count": null,
   "id": "d83ab8de-63ef-4d81-9b48-b006b49e2466",
   "metadata": {},
   "outputs": [],
   "source": [
    "local_background = df_bg.iloc[0,1]\n",
    "\n",
    "background_list = chat_t0_16k.predict_messages([SystemMessage(content=sys_t2l_bg),\n",
    "                                                HumanMessage(content=local_background+\"\\n___\\n\"+usr_t2l_bg)]).content"
   ]
  },
  {
   "cell_type": "code",
   "execution_count": null,
   "id": "b7b097bd-e7b9-403e-8b10-d8503f285550",
   "metadata": {},
   "outputs": [],
   "source": [
    "#background_list_bkp = background_list\n",
    "background_list = background_list_bkp"
   ]
  },
  {
   "cell_type": "code",
   "execution_count": null,
   "id": "8f2e0589-4a09-42bb-ac9d-985eae9ca25f",
   "metadata": {
    "scrolled": true
   },
   "outputs": [],
   "source": [
    "print(background_list)"
   ]
  },
  {
   "cell_type": "markdown",
   "id": "da588973-c275-4c3b-b9b6-b995c8a162be",
   "metadata": {},
   "source": [
    "### Background Expandido"
   ]
  },
  {
   "cell_type": "code",
   "execution_count": null,
   "id": "c4a32164-5ab5-4f97-a122-9abcc04f591a",
   "metadata": {
    "scrolled": true
   },
   "outputs": [],
   "source": [
    "sys_t2l_expand = \"\"\"Você é um ajudante que:\n",
    "Passo 1: Lê uma lista de entidades \n",
    "Passo 2: Lê uma lista de relacionamentos;\n",
    "Passo 3: Lê um texto;\n",
    "Passo 4: Lista entidades e relacionamentos que devem ser adicionados nas listas, a partir das informações contidas no texto.\n",
    "\n",
    "As entidades presentes no texto podem ser classificadas os rótulos:\n",
    "1. Loc_assentamento: Lugares físicos, como continentes, cidades, montanhas ou florestas;\n",
    "2.  Construcao: Construções e formações naturais. Exemplos: casa, masmorra, caverna, castelo;\n",
    "3. Veiculo: Meios de transporte. Exemplo: carro, navio, bicicleta.\n",
    "4. Objeto: Itens tangíveis ou documentos. Exemplos: armas, roupas, cartas, livros.\n",
    "5. Personagem: Indivíduos ou animais em papéis específicos. Exemplos: herói, vilão, guarda, animal de estimação.\n",
    "6. Especie: Grupos biológicos ou culturais. Exemplos: elfos, humanos, cachorros.\n",
    "7. Condicao: Estados físicos ou emocionais. Exemplos: doença, inspiração, tristeza.\n",
    "8. Drama: Desafios ou tensões socioculturais. Exemplos: influência militar, relações de classe, problemas econômicos.\n",
    "9. Organizacao: Grupos com propósitos comuns. Exemplos: igrejas, governos, seitas.\n",
    "10. Titulo: Cargos, funções ou status. Exemplos: taberneiro, Rei, General.\n",
    "11. Mito: Narrativas ou crenças. Exemplos: lendas sobre a origem do universo, mitos de monstros.\n",
    "\n",
    "As entidades devem ter as propriedades \"nome\" e \"descrição\". \"descrição\" é uma descrição detalhada com todas as informações referentes à entidade.\n",
    "\n",
    "Os relacionamentos devem ser representados por trios de sujeito, predicado e objeto, onde o sujeito e o objeto são entidades mapeadas e o predicado pode ter os seguintes rótulos:\n",
    "1. ESTA_EM: Representa localização ou uso.\n",
    "2. RELACAO_POSITIVA: Denota uma interação ou vínculo interpessoal positivo.\n",
    "3. RELACAO_NEGATIVA: Denota uma interação ou vínculo interpessoal negativo.\n",
    "4. RELACAO_NEUTRA: Denota uma interação ou vínculo interpessoal neutro.\n",
    "5. AFETADO_POR: Mostra entidades impactadas por condições ou conflitos.\n",
    "6. MEMBRO_DE: Indica pertencimento a grupos, categorias ou organizações.\n",
    "7. BASEADO_EM: Liga entidades a histórias, mitos, lendas ou influências culturais.\n",
    "8. FAMILIAR: Representa laços de descendência ou ancestralidade.\n",
    "9. PROPRIETARIO_DE: Denota posse direta.\n",
    "9. SUCEDE: Representa o que vem depois em uma sequência temporal.\n",
    "10. ANTECEDE: Representa o que vem antes em uma sequência temporal.\n",
    "\n",
    "Garanta que o nome das entidades é único.\n",
    "Garanta que todos os sujeitos e o objetos das relações também estão listados na lista de entidades.\"\"\"\n",
    "\n",
    "print(sys_t2l_expand)"
   ]
  },
  {
   "cell_type": "code",
   "execution_count": null,
   "id": "016bb497-b58b-492e-a7a6-628dd9b3037b",
   "metadata": {},
   "outputs": [],
   "source": [
    "example_usr_t2l_expand = \"\"\"# Entidades e Relacionamentos:\n",
    "\n",
    "Eldoria\n",
    "   - Rótulo: Loc_assentamento\n",
    "   - Descrição: Continente com vastas terras.\n",
    "\n",
    "Cidade de Prata\n",
    "   - Rótulo: Loc_assentamento\n",
    "   - Descrição: A Cidade de Prata é um assentamento majestoso localizado no coração de Eldoria. Suas torres imponentes e ruas de paralelepípedos atraem pessoas de todas as partes do continente. É considerada uma joia no horizonte.\n",
    "\n",
    "Masmorra das Sombras\n",
    "   - Rótulo: Construcao\n",
    "   - Descrição: A Masmorra das Sombras é um labirinto subterrâneo localizado nas profundezas da Cidade de Prata. É um local sombrio e perigoso, temido por todos, pois abriga criaturas malignas e tesouros ocultos.\n",
    "\n",
    "Dragões de Ébano\n",
    "   - Rótulo: Veiculo\n",
    "   - Descrição: Os Dragões de Ébano são majestosas criaturas aladas, com escamas negras e olhos flamejantes. São utilizados como meio de transporte pelos aventureiros de Eldoria, sendo capazes de voar pelos céus e transportar os heróis em suas costas.\n",
    "\n",
    "Espada da Luz\n",
    "   - Rótulo: Objeto\n",
    "   - Descrição: A Espada da Luz é uma arma lendária encontrada na Masmorra das Sombras. É capaz de banir as trevas e proteger os inocentes. Possui um poder místico e é muito cobiçada pelos aventureiros.\n",
    "\n",
    "Pergaminhos da Sabedoria\n",
    "   - Rótulo: Objeto\n",
    "   - Descrição: Os Pergaminhos da Sabedoria são documentos encontrados na Masmorra das Sombras. Contêm conhecimentos ancestrais e segredos ocultos, sendo muito valiosos para os estudiosos e magos de Eldoria.\n",
    "\n",
    "Guardião das Florestas\n",
    "   - Rótulo: Personagem\n",
    "   - Descrição: O Guardião das Florestas é um elfo sábio e corajoso. É conhecido por sua habilidade de se comunicar com os animais e proteger a natureza. Lidera a Ordem dos Guardiões, uma seita de guerreiros dedicados a combater as forças do mal.\n",
    "\n",
    "Aurora\n",
    "   - Rótulo: Personagem\n",
    "   - Descrição: Aurora é um lobo branco e animal de estimação do Guardião das Florestas. Sempre fiel ao seu mestre, acompanha-o em suas aventuras por Eldoria.\n",
    "\n",
    "Elfos\n",
    "   - Rótulo: Especie\n",
    "   - Descrição: Os elfos são uma raça de seres mágicos em Eldoria. São conhecidos por sua sabedoria e habilidades místicas. Possuem uma conexão especial com a natureza e são capazes de se comunicar com os animais.\n",
    "\n",
    "Anões\n",
    "   - Rótulo: Especie\n",
    "   - Descrição: Os anões são uma raça de seres habilidosos em trabalhos manuais e na forja de armas. São conhecidos por sua resistência e força física. Possuem uma cultura única e são muito respeitados em Eldoria.\n",
    "\n",
    "Humanos\n",
    "    - Rótulo: Especie\n",
    "    - Descrição: Os humanos são uma raça versátil e adaptável em Eldoria. São capazes de se adaptar a qualquer situação e possuem uma grande diversidade cultural. São considerados os mais numerosos entre as raças.\n",
    "\n",
    "Praga das Sombras\n",
    "    - Rótulo: Condicao\n",
    "    - Descrição: A Praga das Sombras é uma doença misteriosa que afeta os habitantes de Eldoria. Torna as pessoas fracas e desesperançosas. A cura para essa condição está escondida em algum lugar do continente.\n",
    "\n",
    "Conflito do Império das Chamas\n",
    "\t- Rótulo: Drama\n",
    "\t- Descrição: Uma organização poderosa e expansionista que ameaça a paz do continente.\n",
    "\n",
    "Império das Chamas\n",
    "    - Rótulo: Organizacao\n",
    "    - Descrição: O Império das Chamas é uma organização militar poderosa e expansionista em Eldoria. Sua influência ameaça a paz do continente. Possui um exército bem treinado e busca dominar os recursos e o poder econômico.\n",
    "\n",
    "Ordem dos Guardiões\n",
    "    - Rótulo: Organizacao\n",
    "    - Descrição: A Ordem dos Guardiões é uma seita de guerreiros liderada pelo Guardião das Florestas. Seu objetivo é proteger os inocentes e combater as forças do mal em Eldoria. São conhecidos por sua coragem e habilidades de combate.\n",
    "\n",
    "Irmandade dos Sábios\n",
    "    - Rótulo: Organizacao\n",
    "    - Descrição: A Irmandade dos Sábios é uma organização de estudiosos e magos em Eldoria. Buscam desvendar os segredos da magia e preservar o conhecimento ancestral. São considerados os guardiões do conhecimento em Eldoria.\n",
    "\n",
    "Elite Nobre\n",
    "    - Rótulo: Organizacao\n",
    "    - Descrição: Grupo de nobres que domina os recursos e o poder econômico.\n",
    "\n",
    "Taberneiro\n",
    "    - Rótulo: Titulo\n",
    "    - Descrição: O taberneiro é responsável por fornecer abrigo e comida aos aventureiros em Eldoria. É uma profissão importante, pois os aventureiros cansados precisam de um local para descansar e se recuperar.\n",
    "\n",
    "Rei/Rainha\n",
    "    - Rótulo: Titulo\n",
    "    - Descrição: O Rei/Rainha é o governante de um reino em Eldoria. São responsáveis por tomar decisões importantes e governar com sabedoria e justiça. Possuem um grande poder político e são respeitados por seus súditos.\n",
    "\n",
    "General\n",
    "    - Rótulo: Titulo\n",
    "    - Descrição: O General é um título dado ao líder de um exército em Eldoria. São responsáveis por liderar as tropas na defesa do continente. Possuem habilidades estratégicas e são respeitados por sua coragem e liderança.\n",
    "\n",
    "Lenda do Dragão Primordial\n",
    "    - Rótulo: Mito\n",
    "    - Descrição: O Dragão Primordial é uma criatura ancestral em Eldoria. Segundo a lenda, teria criado o mundo com seu sopro de fogo. É considerado uma figura divina e possui um papel importante nas crenças e mitos do continente.\n",
    "\n",
    "Cidade de Prata ESTA_EM Eldoria\n",
    "Masmorra das Sombras ESTA_EM Cidade de Prata\n",
    "Dragões de Ébano ESTA_EM Eldoria\n",
    "Espada da Luz ESTA_EM Masmorra das Sombras\n",
    "Pergaminhos da Sabedoria ESTA_EM Masmorra das Sombras\n",
    "Guardião das Florestas MEMBRO_DE Ordem dos Guardiões\n",
    "Guardião das Florestas PROPRIETARIO_DE Aurora\n",
    "Eldoria AFETADO_POR Praga das Sombras\n",
    "Eldoria AFETADO_POR Conflito do Império das Chamas\n",
    "Império das Chamas BASEADO_EM Conflito do Império das Chamas\n",
    "Taberneiro ESTA_EM Cidade de Prata\n",
    "Rei/Rainha ESTA_EM Eldoria\n",
    "General ESTA_EM Eldoria\n",
    "Eldoria BASEADO_EM Lenda do Dragão Primordial\n",
    "Ordem dos Guardiões RELACAO_POSITIVA Cidade de Prata\n",
    "Irmandade dos Sábios RELACAO_POSITIVA Cidade de Prata\n",
    "\n",
    "# Texto:\n",
    "\n",
    "O Império das Chamas era uma potência militar em Eldoria, cuja sede estava na Fortaleza do Fogo, uma imponente fortaleza situada em uma ilha vulcânica. Sob o comando do Imperador Akeldar, o império buscava expandir seu território e impor sua vontade sobre os demais reinos do continente.\n",
    "\n",
    "As motivações do Império das Chamas eram diversas. Primeiramente, eles acreditavam na supremacia do seu povo e na ideia de que deveriam unificar Eldoria sob seu governo para trazer ordem e estabilidade. Além disso, o império via outras nações como fontes de recursos que poderiam ser explorados para seu benefício econômico e militar.\n",
    "\n",
    "A expansão territorial do Império das Chamas era implacável. Suas legiões avançavam conquistando um reino após o outro, com suas armaduras avermelhadas e estandartes flamejantes aterrorizando as populações oponentes. Fortalezas, cidades e vilas eram tomadas pelo exército do império, e a resistência era ferozmente reprimida.\n",
    "\n",
    "Essa expansão militar do Império das Chamas causava um grande impacto nas relações entre os reinos de Eldoria. Os reinos independentes eram forçados a tomar uma posição diante da ameaça iminente. Alguns optavam por se render e se submeter ao Império das Chamas, buscando garantir a segurança de seus povos e evitar a destruição total. Outros, no entanto, resistiam bravamente, unindo suas forças em alianças e liderando a defesa contra as tropas invasoras.\n",
    "\n",
    "Essa polarização criava uma atmosfera de tensão e incerteza entre os reinos. As alianças eram formadas e desfeitas de acordo com as circunstâncias e interesses mútuos. Estratégias de guerrilha, emboscadas e furtividade eram empregadas pelos reinos independentes para tentar resistir ao avanço implacável do Império das Chamas.\n",
    "\n",
    "As relações comerciais também eram afetadas pela influência do Império das Chamas. O império buscava controlar as rotas comerciais e estabelecer tributos e taxas sobre as mercadorias que passavam por seus domínios. Os reinos independentes, por sua vez, buscavam encontrar rotas alternativas e estabelecer acordos comerciais entre si para contornar as imposições do império.\n",
    "\n",
    "Além disso, a presença do Império das Chamas também abalava o equilíbrio de poder entre as diferentes facções de Eldoria. Os reinos que se submetiam ao império perdiam sua autonomia e viam seus recursos e governança sendo controlados pelo Imperador Akeldar. Isso gerava descontentamento e resistência interna, com grupos rebeldes surgindo para lutar contra o domínio imperial.\n",
    "\n",
    "O Império das Chamas também exercia influência sobre a prática religiosa em Eldoria. O império promovia a adoração ao deus do fogo, um ser ardente e impiedoso que exigia sacrifícios e devoção dos seus seguidores. Templos dedicados a essa divindade eram erguidos nas cidades conquistadas pelo Império das Chamas, e cultos e rituais passaram a fazer parte do cotidiano das pessoas.\n",
    "\n",
    "Em resumo, a influência do Império das Chamas em Eldoria era marcada por sua expansão territorial e militar implacável, suas motivações de poder e controle, e o impacto nas relações entre os reinos do continente. Essa presença imperial gerava tensões, resistência e mudanças significativas na política, economia e cultura de Eldoria.\"\"\""
   ]
  },
  {
   "cell_type": "code",
   "execution_count": null,
   "id": "c3fe7c0f-ea74-4c67-a8ae-21d39f1270c1",
   "metadata": {},
   "outputs": [],
   "source": [
    "example_assist_t2l_expand = \"\"\"Reinos independentes\n",
    "   - Rótulo: Loc_assentamento\n",
    "   - Descrição: Diversos reinos independentes em Eldoria.\n",
    "\n",
    "Fortaleza do Fogo\n",
    "   - Rótulo: Construcao\n",
    "   - Descrição: A Fortaleza do Fogo é uma imponente fortaleza situada em uma ilha vulcânica. É a sede do Império das Chamas e serve como base para suas operações militares.\n",
    "\n",
    "Imperador Akeldar\n",
    "   - Rótulo: Personagem\n",
    "   - Descrição: O Imperador Akeldar é o líder do Império das Chamas. Ele comanda as legiões do império e busca expandir seu território e impor sua vontade sobre os demais reinos de Eldoria.\n",
    "\n",
    "Resistência contra o Império das Chamas\n",
    "   - Rótulo: Drama\n",
    "   - Descrição: Forças que se opõem ao Império das Chamas.\n",
    "\n",
    "Relações comerciais em Eldoria\n",
    "   - Rótulo: Drama\n",
    "   - Descrição: Trocas comerciais entre os reinos de Eldoria.\n",
    "\n",
    "Influência religiosa do Império das Chamas\n",
    "   - Rótulo: Drama\n",
    "   - Descrição: Adoração ao deus do fogo promovida pelo Império das Chamas.\n",
    "\n",
    "Império das Chamas ESTA_EM Fortaleza do Fogo\n",
    "Imperador Akeldar MEMBRO_DE Império das Chamas\n",
    "\n",
    "Império das Chamas RELACAO_NEGATIVA Reinos independentes\n",
    "Reinos independentes RELACAO_NEGATIVA Império das Chamas\n",
    "Reinos independentes RELACAO_POSITIVA Alianças\n",
    "Reinos independentes RELACAO_POSITIVA Grupos rebeldes\n",
    "Império das Chamas AFETADO_POR Resistência contra o Império das Chamas\n",
    "Império das Chamas BASEADO_EM Influência religiosa do Império das Chamas\n",
    "\n",
    "Reinos independentes AFETADO_POR Resistência contra o Império das Chamas\n",
    "Reinos independentes AFETADO_POR Relações comerciais em Eldoria\n",
    "Reinos independentes AFETADO_POR Influência religiosa do Império das Chamas\"\"\""
   ]
  },
  {
   "cell_type": "code",
   "execution_count": null,
   "id": "6d8e633c-9b3a-427b-a211-a9c6603a32fd",
   "metadata": {},
   "outputs": [],
   "source": [
    "t2l_exp_template = \"\"\"# Entidades e Relacionamentos:\n",
    "{code}\n",
    "# Texto\n",
    "{text}\"\"\"\n",
    "t2l_exp_prompt = HumanMessagePromptTemplate.from_template(t2l_exp_template)\n",
    "chat_prompt = ChatPromptTemplate.from_messages([SystemMessage(content=sys_t2l_expand),\n",
    "                                                HumanMessage(content=example_usr_t2l_expand),\n",
    "                                                AIMessage(content=example_assist_t2l_expand),\n",
    "                                                t2l_exp_prompt])\n",
    "chain = LLMChain(llm=chat_t0_16k, prompt=chat_prompt)\n",
    "\n",
    "ls_background_list = []\n",
    "for local_expanded in df_bg.iloc[1:].content:\n",
    "    local_result = chain.run(code=background_list, text=local_expanded)\n",
    "    ls_background_list.append(local_result)"
   ]
  },
  {
   "cell_type": "code",
   "execution_count": null,
   "id": "d21b4e4a-9686-4c5f-b8d1-f10e5e73f8fc",
   "metadata": {
    "scrolled": true
   },
   "outputs": [],
   "source": [
    "bg_list_all = \"\\n\\n\".join([background_list] + ls_background_list)"
   ]
  },
  {
   "cell_type": "code",
   "execution_count": null,
   "id": "d1f30574-68db-43de-b281-d6122e1dd937",
   "metadata": {},
   "outputs": [],
   "source": [
    "with open(r\".\\files\\bg_list_all.txt\", \"w\") as file:\n",
    "    file.write(bg_list_all)"
   ]
  },
  {
   "cell_type": "code",
   "execution_count": null,
   "id": "5c165b40-725d-4e05-8a21-c6d807970311",
   "metadata": {},
   "outputs": [],
   "source": [
    "print(bg_list_all)"
   ]
  },
  {
   "cell_type": "markdown",
   "id": "7ad2dab2-dccf-4f29-8b6e-d7b852efb3c1",
   "metadata": {},
   "source": [
    "# List to Graph"
   ]
  },
  {
   "cell_type": "code",
   "execution_count": null,
   "id": "3e911d1c-79ed-4f4b-a6ad-dd10581f27fd",
   "metadata": {
    "scrolled": true
   },
   "outputs": [],
   "source": [
    "sys_l2g = \"\"\"Você é um programador profissional que\n",
    "# Passo 1: Lê uma lista de entidades e relacionamentos (representados por trios de sujeito, predicado e objeto);\n",
    "\n",
    "Template de lista de entidade e relacionamentos:\n",
    "Etherea\n",
    "   - Rótulo: Loc_assentamento\n",
    "   - Descrição: Reino distante onde se passa a história. Caracterizado pelo equilíbrio delicado entre magia e tecnologia.\n",
    "\n",
    "Sete Reinos\n",
    "   - Rótulo: Loc_assentamento\n",
    "   - Descrição: Os Sete Reinos são os reinos que compõem Etherea. Cada reino possui suas próprias características e governantes.\n",
    "\n",
    "Sete Reinos ESTA_EM Etherea\n",
    "\n",
    "# Passo 2: Escreve uma consulta Cypher para o banco de dados Neo4j.\n",
    "\n",
    "Todas as entidades presentes no texto devem ser representados como vértices (nodes).\n",
    "Os nodes podem ter somente os labels: \n",
    "1. Loc_assentamento: Lugares físicos, como continentes, cidades, montanhas ou florestas;\n",
    "2.  Construcao: Construções e formações naturais. Exemplos: casa, masmorra, caverna, castelo;\n",
    "3. Veiculo: Meios de transporte. Exemplo: carro, navio, bicicleta.\n",
    "4. Objeto: Itens tangíveis ou documentos. Exemplos: armas, roupas, cartas, livros.\n",
    "5. Personagem: Indivíduos ou animais em papéis específicos. Exemplos: herói, vilão, guarda, animal de estimação.\n",
    "6. Especie: Grupos biológicos ou culturais. Exemplos: elfos, humanos, cachorros.\n",
    "7. Condicao: Estados físicos ou emocionais. Exemplos: doença, inspiração, tristeza.\n",
    "8. Drama: Desafios ou tensões socioculturais. Exemplos: influência militar, relações de classe, problemas econômicos.\n",
    "9. Organizacao: Grupos com propósitos comuns. Exemplos: igrejas, governos, seitas.\n",
    "10. Titulo: Cargos, funções ou status. Exemplos: taberneiro, Rei, General.\n",
    "11. Mito: Narrativas ou crenças. Exemplos: lendas sobre a origem do universo, mitos de monstros.\n",
    "\n",
    "Os nós devem ter as propriedades \"nome\", \"descrição\". A propiedade \"nome\" é o nome da entidade, 'descrição' é uma descrição detalhada com todas as informações referentes à entidade.\n",
    "\n",
    "Os relacionamentos entre as entidades devem ser representados como arestas (edges). As arestas podem ter os seguintes labels:\n",
    "1. ESTA_EM: Representa localização ou uso.\n",
    "2. RELACAO_POSITIVA: Denota uma interação ou vínculo interpessoal positivo.\n",
    "3. RELACAO_NEGATIVA: Denota uma interação ou vínculo interpessoal negativo.\n",
    "4. RELACAO_NEUTRA: Denota uma interação ou vínculo interpessoal neutro.\n",
    "5. AFETADO_POR: Mostra entidades impactadas por condições ou conflitos.\n",
    "6. MEMBRO_DE: Indica pertencimento a grupos, categorias ou organizações.\n",
    "7. BASEADO_EM: Liga entidades a histórias, mitos, lendas ou influências culturais.\n",
    "8. FAMILIAR: Representa laços de descendência ou ancestralidade.\n",
    "9. PROPRIETARIO_DE: Denota posse direta.\n",
    "9. SUCEDE: Representa o que vem depois em uma sequência temporal.\n",
    "10. ANTECEDE: Representa o que vem antes em uma sequência temporal.\n",
    "\n",
    "Template de consulta cypher:\n",
    "CREATE\n",
    "(etherea:Loc_assentamento{nome: \"Etherea\", descrição: \"Reino distante onde se passa a história. Caracterizado pelo equilíbrio delicado entre magia e tecnologia\"}),\n",
    "(sete:Loc_assentamento{nome: \"Sete Reinos\", descrição: \"Os Sete Reinos são os reinos que compõem Etherea. Cada reino possui suas próprias características e governantes\"})\n",
    "CREATE (etherea)-[:SUCEDE]->(sete)\n",
    "\n",
    "Você nunca explica seu código.\"\"\"\n",
    "\n",
    "print(sys_l2g)"
   ]
  },
  {
   "cell_type": "code",
   "execution_count": null,
   "id": "d4892dd3-bfb6-49e1-b711-372c92e5f913",
   "metadata": {
    "scrolled": true
   },
   "outputs": [],
   "source": [
    "cypher_bg = chat_t0_16k.predict_messages([SystemMessage(content=sys_l2g),\n",
    "                                          HumanMessage(content=bg_list_all)])"
   ]
  },
  {
   "cell_type": "code",
   "execution_count": null,
   "id": "d0e5181c-8b4a-465b-b811-e6700305fc63",
   "metadata": {
    "scrolled": true
   },
   "outputs": [],
   "source": [
    "print(cypher_bg.content)"
   ]
  },
  {
   "cell_type": "markdown",
   "id": "b9efcb02-ca2e-4f9f-b451-d011fb4ab813",
   "metadata": {},
   "source": [
    "# Testing on Neo4j"
   ]
  },
  {
   "cell_type": "code",
   "execution_count": null,
   "id": "3b830c0d-2e69-47a8-9004-8bb05e01d2a9",
   "metadata": {},
   "outputs": [],
   "source": [
    "from neo4j import GraphDatabase\n",
    "\n",
    "# Connect to the Neo4j database\n",
    "uri = \"bolt://localhost:7687\"\n",
    "username = \"neo4j\"\n",
    "password = \"12345678\"\n",
    "driver = GraphDatabase.driver(uri, auth=(username, password))"
   ]
  },
  {
   "cell_type": "code",
   "execution_count": null,
   "id": "413d0496-ef5c-428d-a905-f3dba60f0368",
   "metadata": {},
   "outputs": [],
   "source": [
    "def wipe_database(tx):\n",
    "    tx.run(\"MATCH (n) DETACH DELETE n\")\n",
    "\n",
    "with driver.session() as session:\n",
    "    session.write_transaction(wipe_database)"
   ]
  },
  {
   "cell_type": "code",
   "execution_count": null,
   "id": "07a6bc33-1541-4790-98e1-40b14631ca9d",
   "metadata": {},
   "outputs": [],
   "source": [
    "cypher_content = \"\"\"CREATE\n",
    "(altharia:Loc_assentamento{nome: \"Altharia\", descrição: \"Continente mágico onde a história se passa\"}),\n",
    "(sirian:Personagem{nome: \"Sirian\", descrição: \"Líder da guilda de aventureiros em Altharia. É um guerreiro valente e honrado, conhecido por sua armadura reluzente\"}),\n",
    "(cidadela:Construcao{nome: \"Cidadela dos Sonhos\", descrição: \"Local misterioso e encantado onde a realidade e os sonhos se entrelaçam. É guardada pelos Sussurros, seres etéreos cujas vozes ecoam entre as muralhas de pedra\"}),\n",
    "(sussurros:Personagem{nome: \"Sussurros\", descrição: \"Seres etéreos que guardam a Cidadela dos Sonhos. Suas vozes ecoam entre as muralhas de pedra\"}),\n",
    "(floresta:Loc_assentamento{nome: \"Floresta Proibida de Eldreth\", descrição: \"Floresta perigosa habitada por criaturas fantásticas. Abriga a Pedra da Eternidade, um artefato sagrado\"}),\n",
    "(pedra:Objeto{nome: \"Pedra da Eternidade\", descrição: \"Artefato sagrado enterrado na Floresta Proibida de Eldreth. Apenas aqueles que possuem a benção do Ancião das Árvores podem encontrá-la\"}),\n",
    "(anciao:Personagem{nome: \"Ancião das Árvores\", descrição: \"Ser místico que habita a Floresta Proibida de Eldreth. Aqueles que possuem sua benção podem encontrar a Pedra da Eternidade\"}),\n",
    "(lorde:Personagem{nome: \"Lorde das Sombras\", descrição: \"Governante cruel das Terras Sombrias. Seu exército das trevas espalha caos e destruição\"}),\n",
    "(arlene:Personagem{nome: \"Arlene\", descrição: \"Guerreira destemida e habilidosa que surge como líder capaz de enfrentar o Lorde das Sombras. Possui uma profecia escrita nas estrelas\"}),\n",
    "(torre:Construcao{nome: \"Torre dos Magos\", descrição: \"Local onde os sábios estudam os segredos arcanos em Altharia. Palco de disputas pelo conhecimento e pela busca pela verdade\"}),\n",
    "(elfes:Especie{nome: \"Elfes\", descrição: \"Raça sábia e graciosa em Altharia. Possuem uma conexão especial com a magia e a natureza\"}),\n",
    "(anoes:Especie{nome: \"Anões\", descrição: \"Raça obstinada e forte em Altharia. São habilidosos em trabalhos manuais e possuem uma grande força física\"}),\n",
    "(halflings:Especie{nome: \"Halflings\", descrição: \"Raça ágil e astuta em Altharia. São conhecidos por sua destreza e habilidades furtivas\"}),\n",
    "(guilda:Organizacao{nome: \"Guilda de Aventureiros\", descrição: \"Guilda de aventureiros em Altharia, liderada por Sirian\"}),\n",
    "(mestre:Personagem{nome: \"Mestre dos Sonhos\", descrição: \"Ser místico que aguarda os aventureiros na Cidadela dos Sonhos. Conta histórias do passado e desafia os bravos a solucionarem os enigmas da fortaleza\"}),\n",
    "(biblioteca:Construcao{nome: \"Biblioteca dos Sonhadores\", descrição: \"Sala na Cidadela dos Sonhos onde estão guardados livros antigos e empoeirados. Contém conhecimentos proibidos, lendas esquecidas e relatos de viajantes\"}),\n",
    "(guardioes:Personagem{nome: \"Guardiões dos Sonhos\", descrição: \"Criaturas místicas feitas de pura energia mágica. São os guardiões da Cidadela dos Sonhos e devem ser derrotados para obter a chave que desvendará o mistério da fortaleza\"}),\n",
    "(anciao)-[:RELACAO_POSITIVA]->(pedra),\n",
    "(etherea:Loc_assentamento{nome: \"Etherea\", descrição: \"Reino distante onde se passa a história. Caracterizado pelo equilíbrio delicado entre magia e tecnologia\"}),\n",
    "(sete:Loc_assentamento{nome: \"Sete Reinos\", descrição: \"Os Sete Reinos são os reinos que compõem Etherea. Cada reino possui suas próprias características e governantes\"}),\n",
    "(etherea)-[:SUCEDE]->(sete),\n",
    "(cidadela)-[:ESTA_EM]->(altharia),\n",
    "(sussurros)-[:ESTA_EM]->(cidadela),\n",
    "(floresta)-[:ESTA_EM]->(altharia),\n",
    "(pedra)-[:ESTA_EM]->(floresta),\n",
    "(anciao)-[:ESTA_EM]->(floresta),\n",
    "(lorde)-[:RELACAO_NEGATIVA]->(altharia),\n",
    "(arlene)-[:RELACAO_POSITIVA]->(lorde),\n",
    "(torre)-[:ESTA_EM]->(altharia),\n",
    "(elfes)-[:MEMBRO_DE]->(altharia),\n",
    "(anoes)-[:MEMBRO_DE]->(altharia),\n",
    "(halflings)-[:MEMBRO_DE]->(altharia),\n",
    "(mestre)-[:RELACAO_POSITIVA]->(cidadela),\n",
    "(biblioteca)-[:ESTA_EM]->(cidadela),\n",
    "(guardioes)-[:ESTA_EM]->(cidadela),\n",
    "(cidadela)-[:RELACAO_POSITIVA]->(mestre),\n",
    "(cidadela)-[:RELACAO_POSITIVA]->(biblioteca),\n",
    "(cidadela)-[:RELACAO_NEGATIVA]->(guardioes),\n",
    "(elfes)-[:MEMBRO_DE]->(floresta),\n",
    "(anoes)-[:MEMBRO_DE]->(floresta),\n",
    "(halflings)-[:MEMBRO_DE]->(floresta),\n",
    "(anciao)-[:RELACAO_POSITIVA]->(pedra),\n",
    "(floresta)-[:RELACAO_POSITIVA]->(elfes),\n",
    "(floresta)-[:RELACAO_NEGATIVA]->(licantropos),\n",
    "(floresta)-[:RELACAO_POSITIVA]->(driades),\n",
    "(anciao)-[:RELACAO_POSITIVA]->(pedra),\n",
    "(altairon:Personagem{nome: \"Altairon\", descrição: \"Líder do exército do Lorde das Sombras. É temido por sua crueldade e poder sombrio\"}),\n",
    "(corvus:Personagem{nome: \"Corvus\", descrição: \"Paladino líder da resistência contra o Lorde das Sombras. Sua armadura brilha com a luz da esperança\"}),\n",
    "(lyra:Personagem{nome: \"Lyra\", descrição: \"Bruxa poderosa que invoca o fogo dos espíritos ancestrais. Luta ao lado de Corvus na resistência\"}),\n",
    "(athanar:Personagem{nome: \"Athanar\", descrição: \"Elfo arqueiro habilidoso que perfura as defesas do inimigo com suas flechas precisas. Faz parte da resistência contra o Lorde das Sombras\"}),\n",
    "(destinados:Organizacao{nome: \"Os Destinados\", descrição: \"Grupo de guerreiros lendários liderados por Arlene. São destinados a enfrentar o Lorde das Sombras e trazer um futuro melhor para Altharia\"}),\n",
    "(erevan:Personagem{nome: \"Erevan\", descrição: \"Elfo sombrio que se tornou vigilante, protegendo os mais fracos. Faz parte dos Destinados\"}),\n",
    "(bruna:Personagem{nome: \"Bruna\", descrição: \"Clériga dedicada aos deuses da cura. Suas palavras e magias trazem alívio às feridas da batalha. Faz parte dos Destinados\"}),\n",
    "(zephyr:Personagem{nome: \"Zephyr\", descrição: \"Ladino astuto e talentoso, capaz de se infiltrar nas linhas inimigas. Desestabiliza as forças do Lorde das Sombras. Faz parte dos Destinados\"}),\n",
    "(lorde)-[:RELACAO_NEGATIVA]->(altharia),\n",
    "(corvus)-[:RELACAO_POSITIVA]->(lyra),\n",
    "(corvus)-[:RELACAO_POSITIVA]->(athanar),\n",
    "(corvus)-[:MEMBRO_DE]->(destinados),\n",
    "(lyra)-[:MEMBRO_DE]->(destinados),\n",
    "(athanar)-[:MEMBRO_DE]->(destinados),\n",
    "(erevan)-[:MEMBRO_DE]->(destinados),\n",
    "(bruna)-[:MEMBRO_DE]->(destinados),\n",
    "(zephyr)-[:MEMBRO_DE]->(destinados),\n",
    "(rei:Personagem{nome: \"Rei Valerian\", descrição: \"Governante astuto e calculista de Altharia. Manipula alianças e mantém os laços com outras terras firmes\"}),\n",
    "(casa:Organizacao{nome: \"Casa de Espinhos\", descrição: \"Família de nobres ambiciosos que conspira para minar o rei Valerian e tomar o trono para si. Liderados por Lady Isabella, traçam planos complexos e manipulações sórdidas nos bastidores\"}),\n",
    "(isabella:Personagem{nome: \"Lady Isabella\", descrição: \"Líder da Casa de Espinhos. Mulher de beleza enigmática e astúcia implacável. Traça planos complexos e manipulações sórdidas nos bastidores\"}),\n",
    "(seraphina:Personagem{nome: \"Rainha Seraphina\", descrição: \"Líder justa e sábia dos elfos em Altharia. Governa com sabedoria e procura manter boas relações com as outras cidades\"}),\n",
    "(ordem:Organizacao{nome: \"Ordem dos Magos\", descrição: \"Organização poderosa e enigmática que exerce grande influência nos assuntos de Altharia. Mestres da manipulação mágica\"}),\n",
    "(liga:Organizacao{nome: \"Liga dos Rebeldes\", descrição: \"Grupo de insurgentes ousados que lutam nas sombras para derrubar os tiranos e trazer igualdade ao reino. Liderados por 'O Libertador'\"}),\n",
    "(libertador:Personagem{nome: \"O Libertador\", descrição: \"Líder misterioso da Liga dos Rebeldes. Seu objetivo é derrubar os tiranos e trazer igualdade ao reino\"}),\n",
    "(rei)-[:RELACAO_NEGATIVA]->(casa),\n",
    "(casa)-[:RELACAO_NEGATIVA]->(rei),\n",
    "(seraphina)-[:RELACAO_POSITIVA]->(elfes),\n",
    "(ordem)-[:RELACAO_POSITIVA]->(altharia),\n",
    "(liga)-[:RELACAO_POSITIVA]->(altharia),\n",
    "(rei)-[:ESTA_EM]->(palacio),\n",
    "(isabella)-[:ESTA_EM]->(palacio),\n",
    "(seraphina)-[:ESTA_EM]->(luminara),\n",
    "(libertador)-[:ESTA_EM]->(altharia),\n",
    "(elfes)-[:MEMBRO_DE]->(altharia),\n",
    "(anoes)-[:MEMBRO_DE]->(altharia),\n",
    "(halflings)-[:MEMBRO_DE]->(altharia),\n",
    "(lobisomens:Especie{nome: \"Lobisomens\", descrição: \"Seres que combinam a força dos lobos com a inteligência humana. Possuem uma estrutura social baseada em matilhas, onde o alfa é o líder e protetor de seu povo\"}),\n",
    "(centauros:Especie{nome: \"Centauros\", descrição: \"Criaturas metade humanas e metade cavalos. Valorizam a honra, a sabedoria e a conexão com a natureza\"}),\n",
    "(lobisomens)-[:MEMBRO_DE]->(altharia),\n",
    "(centauros)-[:MEMBRO_DE]->(altharia),\n",
    "(lobisomens)-[:RELACAO_POSITIVA]->(altharia),\n",
    "(centauros)-[:RELACAO_POSITIVA]->(altharia),\n",
    "(fe:Fé{nome: \"Fé da Luz\", descrição: \"Religião que venera a deusa Seraphia, a Senhora da Esperança e da Iluminação. Seus seguidores buscam espalhar a compaixão e a justiça pela terra\"}),\n",
    "(crepusculo:Religião{nome: \"Ordem do Crepúsculo Shadow\", descrição: \"Seita que adora deuses sombrios e misteriosos. Seus seguidores buscam o poder pessoal e a dominação, usando a magia sombria e os rituais macabros\"}),\n",
    "(tribos:Religião{nome: \"Tribos dos Antigos\", descrição: \"Adoram os espíritos dos elementos da natureza\"}),\n",
    "(quimeristas:Religião{nome: \"Quimeristas\", descrição: \"Reverenciam os dragões como seres divinos e acreditam que detêm um elo especial com eles\"}),\n",
    "(transcendentais:Religião{nome: \"Ordem dos Transcendentais\", descrição: \"Buscam a transcendência espiritual através de meditação e disciplina mental\"}),\n",
    "(clerigos_fe:Personagem{nome: \"Clérigos da Fé da Luz\", descrição: \"Seguidores da Fé da Luz que possuem habilidades divinas, especialmente em magias curativas\"}),\n",
    "(paladinos_fe:Personagem{nome: \"Paladinos da Fé da Luz\", descrição: \"Seguidores da Fé da Luz que possuem habilidades divinas, especialmente em combate contra o mal\"}),\n",
    "(clerigos_crepusculo:Personagem{nome: \"Clérigos da Ordem do Crepúsculo Shadow\", descrição: \"Seguidores da Ordem do Crepúsculo Shadow que possuem habilidades divinas, especialmente em magias sombrias\"}),\n",
    "(paladinos_crepusculo:Personagem{nome: \"Paladinos da Ordem do Crepúsculo Shadow\", descrição: \"Seguidores da Ordem do Crepúsculo Shadow que possuem habilidades divinas, especialmente em combate usando a magia sombria\"}),\n",
    "(fe)-[:RELACAO_POSITIVA]->(clerigos_fe),\n",
    "(fe)-[:RELACAO_POSITIVA]->(paladinos_fe),\n",
    "(crepusculo)-[:RELACAO_POSITIVA]->(clerigos_crepusculo),\n",
    "(crepusculo)-[:RELACAO_POSITIVA]->(paladinos_crepusculo),\n",
    "(fe)-[:RELACAO_NEGATIVA]->(crepusculo),\n",
    "(crepusculo)-[:RELACAO_NEGATIVA]->(fe),\n",
    "(fe)-[:BASEADO_EM]->(seraphia),\n",
    "(crepusculo)-[:BASEADO_EM]->(deuses_sombrios),\n",
    "(tribos)-[:BASEADO_EM]->(espiritos_elementos),\n",
    "(quimeristas)-[:BASEADO_EM]->(dragões),\n",
    "(transcendentais)-[:BASEADO_EM]->(transcendencia),\n",
    "(clerigos_fe)-[:MEMBRO_DE]->(fe),\n",
    "(paladinos_fe)-[:MEMBRO_DE]->(fe),\n",
    "(clerigos_crepusculo)-[:MEMBRO_DE]->(crepusculo),\n",
    "(paladinos_crepusculo)-[:MEMBRO_DE]->(crepusculo),\n",
    "(esferas:Objeto{nome: \"Esferas de invocação\", descrição: \"Dispositivos mágicos poderosos que permitem a invocação de criaturas e entidades de outros planos\"}),\n",
    "(amuletos:Objeto{nome: \"Amuletos de controle mental\", descrição: \"Dispositivos mágicos que permitem controlar a mente de outras pessoas, influenciando suas ações e pensamentos\"}),\n",
    "(carruagens:Veiculo{nome: \"Carruagens mágicas\", descrição: \"Veículos impulsionados por cristais arcanos que permitem o transporte rápido de mercadorias entre cidades distantes em Altharia\"}),\n",
    "(amuletos_fala:Objeto{nome: \"Amuletos de fala distante\", descrição: \"Dispositivos mágicos de comunicação que permitem a troca de informações instantânea entre diferentes pontos do reino de Altharia\"}),\n",
    "(esferas)-[:RELACAO_NEGATIVA]->(altharia),\n",
    "(amuletos)-[:RELACAO_NEGATIVA]->(altharia),\n",
    "(carruagens)-[:ESTA_EM]->(altharia),\n",
    "(amuletos_fala)-[:ESTA_EM]->(altharia),\n",
    "(artistas:Personagem{nome: \"Artistas de Altharia\", descrição: \"Indivíduos talentosos que se dedicam às diversas formas de expressão artística em Altharia\"}),\n",
    "(musica:Drama{nome: \"Música em Altharia\", descrição: \"A música é uma forma de expressão valorizada e reverenciada por todas as raças e classes sociais em Altharia\"}),\n",
    "(danca:Drama{nome: \"Dança em Altharia\", descrição: \"A dança desempenha um papel importante na vida cultural de Altharia, servindo tanto como forma de entretenimento quanto como meio de contar histórias\"}),\n",
    "(pintura:Drama{nome: \"Pintura em Altharia\", descrição: \"A pintura é apreciada em toda Altharia, com diferentes estilos e técnicas encontradas em cada raça e região\"}),\n",
    "(poesia_literatura:Drama{nome: \"Poesia e Literatura em Altharia\", descrição: \"A poesia e a literatura são formas de expressão altamente valorizadas em Altharia, transmitindo valores, tradições e visões de mundo\"}),\n",
    "(artistas)-[:RELACAO_POSITIVA]->(musica),\n",
    "(artistas)-[:RELACAO_POSITIVA]->(danca),\n",
    "(artistas)-[:RELACAO_POSITIVA]->(pintura),\n",
    "(artistas)-[:RELACAO_POSITIVA]->(poesia_literatura)\"\"\""
   ]
  },
  {
   "cell_type": "code",
   "execution_count": null,
   "id": "6d7edffa-49ba-4bb8-b0fd-7b085b529a55",
   "metadata": {},
   "outputs": [],
   "source": [
    "with driver.session() as session:\n",
    "#    session.run(cypher_bg_all.content)\n",
    "     session.run(cypher_content)"
   ]
  },
  {
   "cell_type": "code",
   "execution_count": null,
   "id": "6c326ca7-41fc-4c3d-9745-788364b3182b",
   "metadata": {},
   "outputs": [],
   "source": [
    "def get_triplets(tx):\n",
    "    result = tx.run(\"MATCH (n)-[r]->(m) RETURN n, r, m\")\n",
    "    return [(record[\"n\"][\"nome\"], record[\"r\"].type, record[\"m\"][\"nome\"]) for record in result]\n",
    "\n",
    "with driver.session() as session:\n",
    "    triplets = session.read_transaction(get_triplets)\n",
    "\n",
    "#for triplet in triplets:\n",
    "#    print(triplet)\n",
    "triplets = \"\\n\".join([str(x) for x in triplets])\n",
    "print(triplets)"
   ]
  },
  {
   "cell_type": "code",
   "execution_count": null,
   "id": "d10764ed-15eb-43d5-8ce0-062d6793c9a6",
   "metadata": {},
   "outputs": [],
   "source": [
    "def get_entities_and_properties(tx):\n",
    "    result = tx.run(\"MATCH (n) RETURN n\")\n",
    "    return [(record[\"n\"][\"nome\"], dict(record[\"n\"].items())) for record in result]\n",
    "\n",
    "with driver.session() as session:\n",
    "    entities = session.read_transaction(get_entities_and_properties)\n",
    "\n",
    "#for entity in entities:\n",
    "#    print(entity)\n",
    "\n",
    "entities = \"\\n\".join([str(x) for x in entities])\n",
    "print(entities)"
   ]
  },
  {
   "cell_type": "markdown",
   "id": "b9ed5a3b-cd26-4ca8-b41a-285a4e2bbb63",
   "metadata": {},
   "source": [
    "# Graph to text and other tasks"
   ]
  },
  {
   "cell_type": "code",
   "execution_count": null,
   "id": "0cff93bd-9748-4fd0-8785-11d71eb0e234",
   "metadata": {},
   "outputs": [],
   "source": [
    "prompt_system_g2t = \"\"\"Você é um programador profissional que lê uma lista de triplets, assim como uma lista de entidades e propriedades, e escreve uma código em Cypher para o banco de dados Neo4j, que realiza a tarefa solicitada. Utilize o Neo4j Python Driver.\n",
    "\n",
    "A lista de triplets é gerada pelo seguinte código, delimitado por '<código python>':\n",
    "\n",
    "<código python> from neo4j import GraphDatabase\n",
    "driver = GraphDatabase.driver(uri, auth=(username, password))\n",
    "\n",
    "\n",
    "def get_triplets(tx):\n",
    "    result = tx.run(\"MATCH (n)-[r]->(m) RETURN n, r, m\")\n",
    "    return [(record[\"n\"][\"nome\"], record[\"r\"].type, record[\"m\"][\"nome\"]) for record in result]\n",
    "\n",
    "\n",
    "with driver.session() as session:\n",
    "    triplets = session.read_transaction(get_triplets)\n",
    "\n",
    "for triplet in triplets:\n",
    "    print(triplet)\n",
    "<código python>\n",
    "\n",
    "A lista de entidades e suas propriedades é gerada pelo seguinte código, delimitado por '<código python>':\n",
    "\n",
    "<código python> from neo4j import GraphDatabase\n",
    "driver = GraphDatabase.driver(uri, auth=(username, password))\n",
    "\n",
    "\n",
    "def get_entities_and_properties(tx):\n",
    "    result = tx.run(\"MATCH (n) RETURN n\")\n",
    "    return [(record[\"n\"][\"nome\"], dict(record[\"n\"].items())) for record in result]\n",
    "\n",
    "\n",
    "with driver.session() as session:\n",
    "    entities = session.read_transaction(get_entities_and_properties)\n",
    "\n",
    "for entity in entities:\n",
    "    print(entity)\n",
    "<código python>\n",
    "\"\"\"\n",
    "\n",
    "prompt_human_g2t = (\"A lista de triplets está a seguir: \\n\" + triplets + \n",
    "                   \"\\n \\n A lista de entidades e suas propriedades está a seguir: \\n\" + entities + \n",
    "\"\"\" \\n \\n Você é um escritor profissional fazendo o worldbuilding e um mundo de RPG. \n",
    "\n",
    "Você deve considerar os seguintes aspectos, mas nunca falar sobre eles diretamente:\n",
    "1. O gênero é ficção;\n",
    "2. O mundo parece místico;\n",
    "3. O tom da história é leve;\n",
    "4. O mundo tem masmorras e dragões como temas recorrentes;\n",
    "5. O nível de tecnologia é medieval,\n",
    "6. O nível de magia é raro,\n",
    "7. A atmosfera é inspiradora,\n",
    "8. A história é inspirada nos escritores George R. R. Martin, J. R. R. Tolkien, Matthew Mercer e Brennan Lee Mulligan,\n",
    "\"\"\" +\n",
    "                   \"Com base nesses dados, escreva a história representada em 15 parágrafos na estrutura de uma história de ficção.\")"
   ]
  },
  {
   "cell_type": "code",
   "execution_count": null,
   "id": "7ed06631-8199-4980-aec4-35571e127b38",
   "metadata": {},
   "outputs": [],
   "source": [
    "g2t = api_cypher.predict_messages([SystemMessage(content=prompt_system_g2t),\n",
    "                                   HumanMessage(content=prompt_human_g2t)])"
   ]
  },
  {
   "cell_type": "code",
   "execution_count": null,
   "id": "e3991735-97ad-40fc-8515-82fec64f7d65",
   "metadata": {},
   "outputs": [],
   "source": [
    "print(g2t.content)"
   ]
  },
  {
   "cell_type": "markdown",
   "id": "49a99c55-a1e4-4965-a997-71e0982dcc0e",
   "metadata": {},
   "source": [
    "# Testing metrics"
   ]
  },
  {
   "cell_type": "code",
   "execution_count": null,
   "id": "5390e4dd-5d9d-41e5-9ae6-b235f986d891",
   "metadata": {
    "tags": []
   },
   "outputs": [],
   "source": [
    "from evaluate import load\n",
    "bertscore = load(\"bertscore\")\n",
    "\n",
    "predictions = [full_bg]\n",
    "references = [g2t.content]\n",
    "\n",
    "#predictions = [prompt1]\n",
    "#references = [prompt2]\n",
    "\n",
    "results = bertscore.compute(predictions=predictions, references=references, model_type=\"distilbert-base-uncased\")"
   ]
  },
  {
   "cell_type": "code",
   "execution_count": null,
   "id": "17cf0f05-572a-436f-9531-510f5b0b6faf",
   "metadata": {},
   "outputs": [],
   "source": [
    "results"
   ]
  },
  {
   "cell_type": "code",
   "execution_count": null,
   "id": "86abdc15-c1fa-4495-bd8d-eef37d07e62f",
   "metadata": {},
   "outputs": [],
   "source": []
  }
 ],
 "metadata": {
  "kernelspec": {
   "display_name": "Python 3 (ipykernel)",
   "language": "python",
   "name": "python3"
  },
  "language_info": {
   "codemirror_mode": {
    "name": "ipython",
    "version": 3
   },
   "file_extension": ".py",
   "mimetype": "text/x-python",
   "name": "python",
   "nbconvert_exporter": "python",
   "pygments_lexer": "ipython3",
   "version": "3.11.4"
  }
 },
 "nbformat": 4,
 "nbformat_minor": 5
}
