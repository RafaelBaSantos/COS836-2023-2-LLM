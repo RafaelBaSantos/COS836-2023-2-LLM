{
 "cells": [
  {
   "cell_type": "code",
   "execution_count": null,
   "id": "3665b237-bcb0-460d-95aa-0592e3c9c7cd",
   "metadata": {},
   "outputs": [],
   "source": [
    "from transformers import pipeline\n",
    "\n",
    "tokenizer = AutoTokenizer.from_pretrained(\"gpt2\", force_download=True, resume_download=False)\n",
    "model = AutoModelForCausalLM.from_pretrained(\"gpt2\" , force_download=True, resume_download=False)"
   ]
  },
  {
   "cell_type": "code",
   "execution_count": 35,
   "id": "97a8443c-4fd3-43d4-acef-710d35ab1d4f",
   "metadata": {},
   "outputs": [],
   "source": [
    "prompt = \"\"\"Name: John Doe\n",
    "Race: Human\n",
    "Class: Wizard\n",
    "Backstory: Raised by wolves in the wilderness, John discovered his magical abilities when he accidentally set fire to a tree with a thought. Seeking to learn more about this power, he journeyed to the city to study at the mage's guild.\n",
    "Physical Description: John stands at average height with unkempt brown hair and sharp green eyes that always seem to be analyzing his surroundings. He has a lean build and moves with a graceful agility.\n",
    "Personality Traits: Inquisitive, independent, a bit aloof.\n",
    "Abilities: Skilled in elemental magic, especially fire. Also has a knack for illusion spells.\n",
    "Equipment: A staff made from the tree he set on fire, a spellbook, a set of mage's robes, and a satchel of assorted magical components.\n",
    "\n",
    "Now, please generate a similar profile for a new character.\"\"\""
   ]
  },
  {
   "cell_type": "code",
   "execution_count": 36,
   "id": "71ee257d-d411-45ae-9b52-678e94802e9b",
   "metadata": {},
   "outputs": [
    {
     "name": "stderr",
     "output_type": "stream",
     "text": [
      "Setting `pad_token_id` to `eos_token_id`:50256 for open-end generation.\n"
     ]
    },
    {
     "name": "stdout",
     "output_type": "stream",
     "text": [
      "{'generated_text': \"Name: John Doe\\nRace: Human\\nClass: Wizard\\nBackstory: Raised by wolves in the wilderness, John discovered his magical abilities when he accidentally set fire to a tree with a thought. Seeking to learn more about this power, he journeyed to the city to study at the mage's guild.\\nPhysical Description: John stands at average height with unkempt brown hair and sharp green eyes that always seem to be analyzing his surroundings. He has a lean build and moves with a graceful agility.\\nPersonality Traits: Inquisitive, independent, a bit aloof.\\nAbilities: Skilled in elemental magic, especially fire. Also has a knack for illusion spells.\\nEquipment: A staff made from the tree he set on fire, a spellbook, a set of mage's robes, and a satchel of assorted magical components.\\n\\nNow, please generate a similar profile for a new character.\"}\n"
     ]
    }
   ],
   "source": [
    "generator = pipeline('text-generation', model=model, tokenizer=tokenizer)\n",
    "resultados = generator(prompt, max_length=300, num_return_sequences=5)\n",
    "\n",
    "print(resultados[0])"
   ]
  },
  {
   "cell_type": "code",
   "execution_count": 38,
   "id": "02368974-6450-420d-972e-4ce1418c1437",
   "metadata": {},
   "outputs": [
    {
     "name": "stdout",
     "output_type": "stream",
     "text": [
      "{'generated_text': \"Name: John Doe\\nRace: Human\\nClass: Wizard\\nBackstory: Raised by wolves in the wilderness, John discovered his magical abilities when he accidentally set fire to a tree with a thought. Seeking to learn more about this power, he journeyed to the city to study at the mage's guild.\\nPhysical Description: John stands at average height with unkempt brown hair and sharp green eyes that always seem to be analyzing his surroundings. He has a lean build and moves with a graceful agility.\\nPersonality Traits: Inquisitive, independent, a bit aloof.\\nAbilities: Skilled in elemental magic, especially fire. Also has a knack for illusion spells.\\nEquipment: A staff made from the tree he set on fire, a spellbook, a set of mage's robes, and a satchel of assorted magical components.\\n\\nNow, please generate a similar profile for a new character. Once they are created, send them to my mail to keep up-to-date with new developments. Feel free to add comments to my blog (http://rksf.net/character/new/) as well as send personal messages (mail@chanters.com), and share me some character portraits for your favorites! Thanks, and I hope you enjoy! -Yours,\"}\n"
     ]
    }
   ],
   "source": [
    "print(resultados[2])"
   ]
  },
  {
   "cell_type": "code",
   "execution_count": null,
   "id": "207ee304-16f3-4477-8d43-6c035ad6501a",
   "metadata": {},
   "outputs": [],
   "source": []
  }
 ],
 "metadata": {
  "kernelspec": {
   "display_name": "Python 3 (ipykernel)",
   "language": "python",
   "name": "python3"
  },
  "language_info": {
   "codemirror_mode": {
    "name": "ipython",
    "version": 3
   },
   "file_extension": ".py",
   "mimetype": "text/x-python",
   "name": "python",
   "nbconvert_exporter": "python",
   "pygments_lexer": "ipython3",
   "version": "3.11.4"
  }
 },
 "nbformat": 4,
 "nbformat_minor": 5
}
