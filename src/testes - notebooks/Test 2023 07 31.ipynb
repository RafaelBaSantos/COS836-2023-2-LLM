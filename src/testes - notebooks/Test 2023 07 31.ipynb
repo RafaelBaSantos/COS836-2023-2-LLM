{
 "cells": [
  {
   "cell_type": "markdown",
   "id": "b016bc4f-f7a0-4857-a496-1fcda89dafc4",
   "metadata": {},
   "source": [
    "# Importando bibliotecas"
   ]
  },
  {
   "cell_type": "code",
   "execution_count": 1,
   "id": "432ae3d5-4749-4c94-92d8-9c91cb35d4b0",
   "metadata": {},
   "outputs": [],
   "source": [
    "from dotenv import load_dotenv\n",
    "import os\n",
    "\n",
    "from langchain.chat_models import ChatOpenAI\n",
    "from langchain.schema import AIMessage, HumanMessage, SystemMessage\n",
    "from langchain.prompts.chat import ChatPromptTemplate, SystemMessagePromptTemplate, HumanMessagePromptTemplate, AIMessagePromptTemplate\n",
    "from langchain import LLMChain\n",
    "\n",
    "import pandas as pd"
   ]
  },
  {
   "cell_type": "markdown",
   "id": "9532761a-6490-49a4-ab30-489ba219d63a",
   "metadata": {},
   "source": [
    "# Inicializando API"
   ]
  },
  {
   "cell_type": "code",
   "execution_count": 2,
   "id": "3542daa2-9658-4e09-9da5-52273317b8ca",
   "metadata": {},
   "outputs": [],
   "source": [
    "load_dotenv(r'E:\\Documentos\\Estudos\\UFRJ_PESC\\3_periodo\\llm\\projeto final\\COS836-2023-2-LLM\\src\\utils\\openai_api_key.env')  # take environment variables from .env.\n",
    "OPENAI_API_KEY = os.getenv('OPENAI_API_KEY')"
   ]
  },
  {
   "cell_type": "code",
   "execution_count": 3,
   "id": "36e3a763-518c-4612-a6cf-886c151ceb0c",
   "metadata": {},
   "outputs": [],
   "source": [
    "chat_t1 = ChatOpenAI(openai_api_key=OPENAI_API_KEY, model_name=\"gpt-3.5-turbo\", temperature=1)"
   ]
  },
  {
   "cell_type": "code",
   "execution_count": 4,
   "id": "4806226d-60ea-4c12-adcc-66f3112b755a",
   "metadata": {},
   "outputs": [],
   "source": [
    "chat_t0 = ChatOpenAI(openai_api_key=OPENAI_API_KEY, model_name=\"gpt-3.5-turbo\", temperature=0)"
   ]
  },
  {
   "cell_type": "code",
   "execution_count": 5,
   "id": "3d18c8a6-a86a-4801-81c7-bd1cd1d84fdb",
   "metadata": {},
   "outputs": [],
   "source": [
    "chat_t0_16k = ChatOpenAI(openai_api_key=OPENAI_API_KEY, model_name=\"gpt-3.5-turbo-16k\", temperature=0)"
   ]
  },
  {
   "cell_type": "markdown",
   "id": "74111378-f282-4c25-b477-67146a1ae560",
   "metadata": {},
   "source": [
    "# Criação do mundo como um grafo"
   ]
  },
  {
   "cell_type": "code",
   "execution_count": 11,
   "id": "3de6eed9-084f-4409-a616-74fc370e9b43",
   "metadata": {
    "collapsed": true,
    "jupyter": {
     "outputs_hidden": true
    },
    "scrolled": true
   },
   "outputs": [
    {
     "name": "stdout",
     "output_type": "stream",
     "text": [
      "Você é um escritor profissional escrevendo sobre um mundo de RPG.\n",
      "\n",
      "Ao descrever alguma entidade (localização, objeto, personagem, espécie, condição, conflito, organização, título, mito etc.), forneça nomes específicos e breves descrições.\n",
      "\n",
      "Você deve considerar os seguintes aspectos, mas nunca falar sobre eles diretamente:\n",
      "1. O gênero é ficção;\n",
      "2. O mundo trás um sentimento místico;\n",
      "3. O tom da história é leve;\n",
      "4. Masmorras e dragões são temas recorrentes do mundo;\n",
      "5. O nível de tecnologia é medieval,\n",
      "6. Magia é vista como algo raro,\n",
      "7. A atmosfera é empolgante,\n",
      "8. A história é inspirada nos escritores George R. R. Martin, J. R. R. Tolkien, Matthew Mercer e Brennan Lee Mulligan,\n",
      "9. A história é inspirada no universo de Dungeons & Dragons e Tormenta 20.\n",
      "10. A história incorpora acontecimentos contemporâneos de seu universo que tratam de mais ou menos 4 dos seguintes assuntos: Governança e sua influência, Princípios legais e Estado de direito, Provisão de serviços sociais, Dinâmicas econômicas, Equidade na distribuição de riqueza, Práticas agrícolas e comércio, Relações interpessoais influenciadas por raça, classe, gênero ou orientação sexual, Poder e influência militar, Papel e influência da religião, Avanços e influências tecnológicas, Impacto das artes e expressões culturais, Características geográficas, Interações entre civilizações, suas histórias e conflitos, Fundamentos das leis da natureza, Teorias sobre a origem do universo, Histórico das espécies e culturas que habitaram o mundo, Necessidades e interações das diferentes espécies e culturas.\n"
     ]
    }
   ],
   "source": [
    "sys_background = \"\"\"Você é um escritor profissional fazendo o worldbuilding de um mundo de RPG.\n",
    "O worldbuilding é feito a partir dos seguintes passos:\n",
    "\n",
    "**Passo 1**\n",
    "Pense de maneira concisa um mundo original e envolvente. Você deve considerar os seguintes aspectos, mas nunca falar sobre eles diretamente:\n",
    "- A história é inspirada nos escritores George R. R. Martin, J. R. R. Tolkien, Matthew Mercer e Brennan Lee Mulligan,\n",
    "- A história é inspirada no universo de Dungeons & Dragons e Tormenta 20.\n",
    "- A história trata de mais ou menos 4 dos seguintes assuntos: Governança e sua influência, Princípios legais e Estado de direito, Provisão de serviços sociais, Dinâmicas econômicas, Equidade na distribuição de riqueza, Práticas agrícolas e comércio, Relações interpessoais influenciadas por raça, classe, gênero ou orientação sexual, Poder e influência militar, Papel e influência da religião, Avanços e influências tecnológicas, Impacto das artes e expressões culturais, Características geográficas, Interações entre civilizações, suas histórias e conflitos, Fundamentos das leis da natureza, Teorias sobre a origem do universo, Histórico das espécies e culturas que habitaram o mundo, Necessidades e interações das diferentes espécies e culturas.\n",
    "- Ao descrever alguma entidade (localização, objeto, personagem, espécie, condição, conflito, organização, título, mito etc.), forneça nomes específicos e breves descrições.\n",
    "\n",
    "**Passo 2**\n",
    "\n",
    "Encontre os principais tópicos dessa história que poderiam ser melhor desenvolvidos e pense em uma lista de tópicos e uma breve explicação de cada um.\n",
    "\n",
    "**Passo 3**\n",
    "\n",
    "Identifique as entidades no texto. Uma entidade pode ser um substantivo ou um sintagma nominal que se refere a um objeto do mundo real ou a um conceito abstrato. Você pode usar uma ferramenta de reconhecimento de entidade nomeada (NER) ou um marcador de parte da fala (POS) para identificar as entidades.\n",
    "\n",
    "Cada entidade deve ter nome, rótulo e uma descrição bem detalhada. O rótulo pode ser um dos seguintes:\n",
    "- Local: Lugares físicos, como continentes, cidades, montanhas ou florestas;\n",
    "- Construcao: Construções e formações naturais. Exemplos: casa, masmorra, caverna, castelo;\n",
    "- Veiculo: Meios de transporte. Exemplo: carro, navio, bicicleta.\n",
    "- Personagem: Indivíduos ou animais em papéis específicos. Exemplos: herói, vilão, guarda, animal de estimação.\n",
    "- Item: Itens tangíveis ou documentos. Exemplos: armas, roupas, cartas, livros.\n",
    "- Especie: Grupos biológicos ou culturais. Exemplos: elfos, humanos, cachorros.\n",
    "- Organizacao: Grupos com propósitos comuns. Exemplos: igrejas, governos, seitas.\n",
    "- Condicao: Estados físicos ou emocionais. Exemplos: doença, inspiração, tristeza.\n",
    "- Drama: Desafios, tensões socioculturais ou conflitos militares. Exemplos: influência militar, relações de classe, problemas econômicos.\n",
    "- Mito: Narrativas, crenças ou prosas. Exemplos: lendas sobre a origem do universo, mitos de monstros.\n",
    "\n",
    "**Passo 4**\n",
    "\n",
    "Identifique os relacionamentos entre as entidades. Um relacionamento pode ser um verbo ou uma frase preposicional que conecta duas entidades. Você pode usar a análise de dependência para identificar os relacionamentos.\n",
    "\n",
    "Os relacionamentos devem ser representados por trios de sujeito, predicado e objeto, onde o sujeito e o objeto são entidades mapeadas no último passo e o predicado pode ter os seguintes rótulos:\n",
    "\n",
    "- ESTA_EM: Representa localização ou uso.\n",
    "Possíveis Sujeitos: Lugar, Veículo, Personagem, Item\n",
    "Possíveis objetos: Lugar, Veículo, Personagem\n",
    "- PROPRIETARIO_DE: Denota posse direta.\n",
    "Possíveis Sujeitos: Personagem, Organização\n",
    "Possíveis objetos: Lugar, Construção, Veículo, Personagem, Item\n",
    "- RELACAO_POSITIVA/NEGATIVA/NEUTRA: Denota uma interação ou vínculo interpessoal.\n",
    "Possíveis Sujeitos: Personagem, Organização\n",
    "Possíveis Objetos: Personagem, Organização\n",
    "- AFETADO_POR: Mostra entidades impactadas por condições ou conflitos.\n",
    "Possíveis Sujeitos: Personagem, Organização\n",
    "Possíveis Objetos: Condição, Drama\n",
    "- MEMBRO_DE: Indica pertencimento a grupos, categorias ou organizações.\n",
    "Possíveis Sujeitos: Personagem\n",
    "Possíveis Objetos: Organização, Espécie\n",
    "- BASEADO_EM: Liga entidades a histórias, mitos, lendas ou influências culturais.\n",
    "Possíveis Sujeitos: Todos\n",
    "Possíveis Objetos: Mito, Drama\n",
    "- SUCEDE/ANTECEDE: Representa o que vem depois/antes em uma sequência temporal.\n",
    "Possíveis Sujeitos: Mito, Drama\n",
    "Possíveis Objetos: Mito, Drama\n",
    "\n",
    "Encontre o máximo de relacionamentos possíveis dentro dessas limitações.\n",
    "\n",
    "**Passo 6**\n",
    "\n",
    "Faça o gráfico de conhecimento no formato de tripleto: ('entidade principal', 'relação', 'entidade final').\n",
    "\n",
    "**Passo 7**\n",
    "\n",
    "Escreve uma consulta Cypher para o banco de dados Neo4j com as relações encontradas no passo anterior.\n",
    "Você nunca explica seu código.\n",
    "\n",
    "Não escreva nada sobre as etapas de 1, 2, 3, 4, 5 e 6. Retorne somente o resultado da etapa 7.\"\"\""
   ]
  },
  {
   "cell_type": "code",
   "execution_count": null,
   "id": "ab2c4f76-a1dc-4a68-8f27-c2bebabd96c7",
   "metadata": {},
   "outputs": [],
   "source": [
    "usr_background = \"\"\"Faça o worldbuilding de um mundo de fantasia, onde:\n",
    "- O gênero é ficção;\n",
    "- O mundo trás um sentimento místico;\n",
    "- O tom da história é leve;\n",
    "- Masmorras e dragões são temas recorrentes do mundo;\n",
    "- O nível de tecnologia é medieval,\n",
    "- Magia é vista como algo raro,\n",
    "- A atmosfera é empolgante\n",
    "\n",
    "Retorne somente o código Cypher. Escreva pelo menos 100 linhas de código\"\"\""
   ]
  },
  {
   "cell_type": "code",
   "execution_count": null,
   "id": "5278f651-43c0-442b-bcca-72cc7d7265d3",
   "metadata": {},
   "outputs": [],
   "source": [
    "background = chat_t1.predict_messages([SystemMessage(content=sys_background), HumanMessage(content=usr_background)]).content"
   ]
  },
  {
   "cell_type": "markdown",
   "id": "6323d31e-ae12-4786-afb8-94dc9eb453d3",
   "metadata": {},
   "source": [
    "# Testing on Neo4j"
   ]
  },
  {
   "cell_type": "code",
   "execution_count": 59,
   "id": "66180c06-327f-4a31-be4f-4ad8fcdfc68f",
   "metadata": {},
   "outputs": [],
   "source": [
    "from neo4j import GraphDatabase\n",
    "\n",
    "# Connect to the Neo4j database\n",
    "uri = \"bolt://localhost:7687\"\n",
    "username = \"neo4j\"\n",
    "password = \"12345678\"\n",
    "driver = GraphDatabase.driver(uri, auth=(username, password))"
   ]
  },
  {
   "cell_type": "code",
   "execution_count": 66,
   "id": "f1b57361-785d-42c9-a0ee-3f3d6e2841f7",
   "metadata": {},
   "outputs": [],
   "source": [
    "def wipe_database(tx):\n",
    "    tx.run(\"MATCH (n) DETACH DELETE n\")\n",
    "\n",
    "with driver.session() as session:\n",
    "    session.execute_write(wipe_database)"
   ]
  },
  {
   "cell_type": "code",
   "execution_count": 67,
   "id": "1c1771ff-9f2d-4c36-aa4c-b3e836cb31a3",
   "metadata": {},
   "outputs": [],
   "source": [
    "cypher_content = \"\"\"CREATE\n",
    "(reinoEtereo:Local{nome: \"Reino Etéreo\", descrição: \"Uma terra mística onde o véu entre o real e o mágico é mais fino.\"}),\n",
    "(torreCeleste:Construcao{nome: \"Torre Celeste\", descrição: \"Uma estrutura elevada feita de cristais luminosos que guardam antigos segredos.\"}),\n",
    "(antroDragoes:Construcao{nome: \"Antro dos Dragões\", descrição: \"Uma caverna escura e profunda onde dragões ancestrais repousam.\"}),\n",
    "(bibliotecaVento:Construcao{nome: \"Biblioteca do Vento\", descrição: \"Um local tranquilo onde os sábios vêm para aprender sobre as lendas antigas.\"}),\n",
    "(ellaria:Personagem{nome: \"Ellaria\", descrição: \"Uma maga misteriosa em busca do conhecimento perdido.\"}),\n",
    "(dorion:Personagem{nome: \"Dorion\", descrição: \"Um cavaleiro fiel ao reino e guardião da Torre Celeste.\"}),\n",
    "(cyra:Personagem{nome: \"Cyra\", descrição: \"Uma elfa com uma voz encantadora, capaz de apaziguar as feras mais selvagens.\"}),\n",
    "(rygar:Personagem{nome: \"Rygar\", descrição: \"Um anão comerciante com uma rede de contatos em todo o Reino Etéreo.\"}),\n",
    "(seraphel:Personagem{nome: \"Seraphel\", descrição: \"Uma sacerdotisa com uma conexão divina, orientando aqueles que buscam seu caminho.\"}),\n",
    "(morgar:Personagem{nome: \"Morgar\", descrição: \"Um dragão ancião que habita o Antro dos Dragões.\"}),\n",
    "(lyria:Personagem{nome: \"Lyria\", descrição: \"Uma arqueira ágil que protege as fronteiras do reino.\"}),\n",
    "(tyrus:Personagem{nome: \"Tyrus\", descrição: \"Um nobre com aspirações de liderar o Reino Etéreo.\"}),\n",
    "(korin:Personagem{nome: \"Korin\", descrição: \"Um bardo itinerante que carrega histórias de lugares distantes.\"}),\n",
    "(aria:Personagem{nome: \"Aria\", descrição: \"Uma jovem alquimista com um talento raro.\"}),\n",
    "(volaris:Personagem{nome: \"Volaris\", descrição: \"O líder silencioso dos Sussurros, os guardiões da Cidadela dos Sonhos.\"}),\n",
    "(cristalLuz:Item{nome: \"Cristal de Luz\", descrição: \"Um cristal mágico que irradia uma luz serena, usado em rituais sagrados.\"}),\n",
    "(mantoEstrelas:Item{nome: \"Manto das Estrelas\", descrição: \"Um manto tecido com fios celestiais, dando a seu portador a capacidade de voar.\"}),\n",
    "(elfos:Especie{nome: \"Elfos\", descrição: \"Seres etéreos ligados à natureza com uma vida extremamente longa.\"}),\n",
    "(anaoes:Especie{nome: \"Anões\", descrição: \"Criaturas robustas e habilidosas, conhecidas por sua maestria em forjar e comerciar.\"}),\n",
    "(dragoes:Especie{nome: \"Dragões\", descrição: \"Grandes criaturas aladas, algumas são amigáveis enquanto outras são ferozes e territorialistas.\"}),\n",
    "(conselhoSábios:Organizacao{nome: \"Conselho dos Sábios\", descrição: \"Um grupo de eruditos encarregado de manter a paz e a sabedoria no reino.\"}),\n",
    "(ordemGuardioes:Organizacao{nome: \"Ordem dos Guardiões\", descrição: \"Guerreiros leais que defendem o Reino Etéreo de ameaças externas.\"}),\n",
    "(curseMagia:Condicao{nome: \"Maldição da Magia\", descrição: \"Uma condição rara que restringe o uso de magia por aqueles que a sofrem.\"}),\n",
    "(tensaoNobres:Drama{nome: \"Tensão entre Nobres\", descrição: \"Uma disputa de poder entre as casas nobres do Reino Etéreo.\"}),\n",
    "(ameacaExterna:Drama{nome: \"Ameaça Externa\", descrição: \"Rumores de invasores desconhecidos vindos de terras distantes.\"})\n",
    "\n",
    "CREATE (torreCeleste)-[:ESTA_EM]->(reinoEtereo),\n",
    "(antroDragoes)-[:ESTA_EM]->(reinoEtereo),\n",
    "(bibliotecaVento)-[:ESTA_EM]->(reinoEtereo),\n",
    "(ellaria)-[:ESTA_EM]->(bibliotecaVento),\n",
    "(dorion)-[:ESTA_EM]->(torreCeleste),\n",
    "(lyria)-[:ESTA_EM]->(reinoEtereo),\n",
    "(volaris)-[:ESTA_EM]->(reinoEtereo),\n",
    "(cristalLuz)-[:ESTA_EM]->(torreCeleste),\n",
    "(mantoEstrelas)-[:ESTA_EM]->(bibliotecaVento),\n",
    "(cyra)-[:MEMBRO_DE]->(elfos),\n",
    "(rygar)-[:MEMBRO_DE]->(anaoes),\n",
    "(morgar)-[:MEMBRO_DE]->(dragoes),\n",
    "(dorion)-[:MEMBRO_DE]->(ordemGuardioes),\n",
    "(seraphel)-[:MEMBRO_DE]->(conselhoSábios),\n",
    "(ellaria)-[:AFETADO_POR]->(curseMagia),\n",
    "(tyrus)-[:BASEADO_EM]->(tensaoNobres),\n",
    "(ordemGuardioes)-[:BASEADO_EM]->(ameacaExterna),\n",
    "(korin)-[:RELACAO_POSITIVA]->(cyra),\n",
    "(aria)-[:RELACAO_NEGATIVA]->(tyrus),\n",
    "(dorion)-[:PROPRIETARIO_DE]->(mantoEstrelas)\n",
    "\"\"\""
   ]
  },
  {
   "cell_type": "code",
   "execution_count": 68,
   "id": "4aa1ef3c-9e8e-4e49-af6c-19bfcad69480",
   "metadata": {},
   "outputs": [],
   "source": [
    "with driver.session() as session:\n",
    "#    session.run(cypher_bg_all.content)\n",
    "     session.run(cypher_content)"
   ]
  },
  {
   "cell_type": "code",
   "execution_count": 69,
   "id": "f93321c0-a377-40b0-b84a-f3c9549a10ef",
   "metadata": {},
   "outputs": [
    {
     "name": "stdout",
     "output_type": "stream",
     "text": [
      "('Torre Celeste', 'ESTA_EM', 'Reino Etéreo')\n",
      "('Antro dos Dragões', 'ESTA_EM', 'Reino Etéreo')\n",
      "('Biblioteca do Vento', 'ESTA_EM', 'Reino Etéreo')\n",
      "('Ellaria', 'ESTA_EM', 'Biblioteca do Vento')\n",
      "('Dorion', 'ESTA_EM', 'Torre Celeste')\n",
      "('Lyria', 'ESTA_EM', 'Reino Etéreo')\n",
      "('Volaris', 'ESTA_EM', 'Reino Etéreo')\n",
      "('Cristal de Luz', 'ESTA_EM', 'Torre Celeste')\n",
      "('Manto das Estrelas', 'ESTA_EM', 'Biblioteca do Vento')\n",
      "('Cyra', 'MEMBRO_DE', 'Elfos')\n",
      "('Rygar', 'MEMBRO_DE', 'Anões')\n",
      "('Morgar', 'MEMBRO_DE', 'Dragões')\n",
      "('Dorion', 'MEMBRO_DE', 'Ordem dos Guardiões')\n",
      "('Seraphel', 'MEMBRO_DE', 'Conselho dos Sábios')\n",
      "('Ellaria', 'AFETADO_POR', 'Maldição da Magia')\n",
      "('Tyrus', 'BASEADO_EM', 'Tensão entre Nobres')\n",
      "('Ordem dos Guardiões', 'BASEADO_EM', 'Ameaça Externa')\n",
      "('Korin', 'RELACAO_POSITIVA', 'Cyra')\n",
      "('Aria', 'RELACAO_NEGATIVA', 'Tyrus')\n",
      "('Dorion', 'PROPRIETARIO_DE', 'Manto das Estrelas')\n"
     ]
    },
    {
     "name": "stderr",
     "output_type": "stream",
     "text": [
      "C:\\Users\\rafae\\AppData\\Local\\Temp\\ipykernel_59932\\1857058972.py:6: DeprecationWarning: read_transaction has been renamed to execute_read\n",
      "  triplets = session.read_transaction(get_triplets)\n"
     ]
    }
   ],
   "source": [
    "def get_triplets(tx):\n",
    "    result = tx.run(\"MATCH (n)-[r]->(m) RETURN n, r, m\")\n",
    "    return [(record[\"n\"][\"nome\"], record[\"r\"].type, record[\"m\"][\"nome\"]) for record in result]\n",
    "\n",
    "with driver.session() as session:\n",
    "    triplets = session.read_transaction(get_triplets)\n",
    "\n",
    "#for triplet in triplets:\n",
    "#    print(triplet)\n",
    "triplets = \"\\n\".join([str(x) for x in triplets])\n",
    "print(triplets)"
   ]
  },
  {
   "cell_type": "code",
   "execution_count": 70,
   "id": "81fe3b04-446f-415d-a078-adb1eeece116",
   "metadata": {},
   "outputs": [
    {
     "name": "stdout",
     "output_type": "stream",
     "text": [
      "('Reino Etéreo', {'descrição': 'Uma terra mística onde o véu entre o real e o mágico é mais fino.', 'nome': 'Reino Etéreo'})\n",
      "('Torre Celeste', {'descrição': 'Uma estrutura elevada feita de cristais luminosos que guardam antigos segredos.', 'nome': 'Torre Celeste'})\n",
      "('Antro dos Dragões', {'descrição': 'Uma caverna escura e profunda onde dragões ancestrais repousam.', 'nome': 'Antro dos Dragões'})\n",
      "('Biblioteca do Vento', {'descrição': 'Um local tranquilo onde os sábios vêm para aprender sobre as lendas antigas.', 'nome': 'Biblioteca do Vento'})\n",
      "('Ellaria', {'descrição': 'Uma maga misteriosa em busca do conhecimento perdido.', 'nome': 'Ellaria'})\n",
      "('Dorion', {'descrição': 'Um cavaleiro fiel ao reino e guardião da Torre Celeste.', 'nome': 'Dorion'})\n",
      "('Cyra', {'descrição': 'Uma elfa com uma voz encantadora, capaz de apaziguar as feras mais selvagens.', 'nome': 'Cyra'})\n",
      "('Rygar', {'descrição': 'Um anão comerciante com uma rede de contatos em todo o Reino Etéreo.', 'nome': 'Rygar'})\n",
      "('Seraphel', {'descrição': 'Uma sacerdotisa com uma conexão divina, orientando aqueles que buscam seu caminho.', 'nome': 'Seraphel'})\n",
      "('Morgar', {'descrição': 'Um dragão ancião que habita o Antro dos Dragões.', 'nome': 'Morgar'})\n",
      "('Lyria', {'descrição': 'Uma arqueira ágil que protege as fronteiras do reino.', 'nome': 'Lyria'})\n",
      "('Tyrus', {'descrição': 'Um nobre com aspirações de liderar o Reino Etéreo.', 'nome': 'Tyrus'})\n",
      "('Korin', {'descrição': 'Um bardo itinerante que carrega histórias de lugares distantes.', 'nome': 'Korin'})\n",
      "('Aria', {'descrição': 'Uma jovem alquimista com um talento raro.', 'nome': 'Aria'})\n",
      "('Volaris', {'descrição': 'O líder silencioso dos Sussurros, os guardiões da Cidadela dos Sonhos.', 'nome': 'Volaris'})\n",
      "('Cristal de Luz', {'descrição': 'Um cristal mágico que irradia uma luz serena, usado em rituais sagrados.', 'nome': 'Cristal de Luz'})\n",
      "('Manto das Estrelas', {'descrição': 'Um manto tecido com fios celestiais, dando a seu portador a capacidade de voar.', 'nome': 'Manto das Estrelas'})\n",
      "('Elfos', {'descrição': 'Seres etéreos ligados à natureza com uma vida extremamente longa.', 'nome': 'Elfos'})\n",
      "('Anões', {'descrição': 'Criaturas robustas e habilidosas, conhecidas por sua maestria em forjar e comerciar.', 'nome': 'Anões'})\n",
      "('Dragões', {'descrição': 'Grandes criaturas aladas, algumas são amigáveis enquanto outras são ferozes e territorialistas.', 'nome': 'Dragões'})\n",
      "('Conselho dos Sábios', {'descrição': 'Um grupo de eruditos encarregado de manter a paz e a sabedoria no reino.', 'nome': 'Conselho dos Sábios'})\n",
      "('Ordem dos Guardiões', {'descrição': 'Guerreiros leais que defendem o Reino Etéreo de ameaças externas.', 'nome': 'Ordem dos Guardiões'})\n",
      "('Maldição da Magia', {'descrição': 'Uma condição rara que restringe o uso de magia por aqueles que a sofrem.', 'nome': 'Maldição da Magia'})\n",
      "('Tensão entre Nobres', {'descrição': 'Uma disputa de poder entre as casas nobres do Reino Etéreo.', 'nome': 'Tensão entre Nobres'})\n",
      "('Ameaça Externa', {'descrição': 'Rumores de invasores desconhecidos vindos de terras distantes.', 'nome': 'Ameaça Externa'})\n"
     ]
    },
    {
     "name": "stderr",
     "output_type": "stream",
     "text": [
      "C:\\Users\\rafae\\AppData\\Local\\Temp\\ipykernel_59932\\2230681695.py:6: DeprecationWarning: read_transaction has been renamed to execute_read\n",
      "  entities = session.read_transaction(get_entities_and_properties)\n"
     ]
    }
   ],
   "source": [
    "def get_entities_and_properties(tx):\n",
    "    result = tx.run(\"MATCH (n) RETURN n\")\n",
    "    return [(record[\"n\"][\"nome\"], dict(record[\"n\"].items())) for record in result]\n",
    "\n",
    "with driver.session() as session:\n",
    "    entities = session.read_transaction(get_entities_and_properties)\n",
    "\n",
    "#for entity in entities:\n",
    "#    print(entity)\n",
    "\n",
    "entities = \"\\n\".join([str(x) for x in entities])\n",
    "print(entities)"
   ]
  },
  {
   "cell_type": "code",
   "execution_count": null,
   "id": "87977873-2443-4ce1-96bd-e9d026c0508e",
   "metadata": {},
   "outputs": [],
   "source": []
  },
  {
   "cell_type": "code",
   "execution_count": null,
   "id": "5fc3e06f-cdd1-4169-9eda-5642b945918b",
   "metadata": {},
   "outputs": [],
   "source": []
  }
 ],
 "metadata": {
  "kernelspec": {
   "display_name": "Python 3 (ipykernel)",
   "language": "python",
   "name": "python3"
  },
  "language_info": {
   "codemirror_mode": {
    "name": "ipython",
    "version": 3
   },
   "file_extension": ".py",
   "mimetype": "text/x-python",
   "name": "python",
   "nbconvert_exporter": "python",
   "pygments_lexer": "ipython3",
   "version": "3.11.4"
  }
 },
 "nbformat": 4,
 "nbformat_minor": 5
}
